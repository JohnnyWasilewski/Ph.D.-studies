{
 "cells": [
  {
   "cell_type": "code",
   "execution_count": 131,
   "id": "f8ae7908",
   "metadata": {},
   "outputs": [],
   "source": [
    "import numpy as np\n",
    "\n",
    "def sample_no_signalling(num: int=1)->np.array:\n",
    "    A, B, C = np.random.uniform(size=(3,2,2))\n",
    "    A = A/np.sum(A)\n",
    "    B[0,:] = np.sum(A[0,:])*B[0,:]/np.sum(B[0,:])\n",
    "    B[1,:] = np.sum(A[1,:])*B[1,:]/np.sum(B[1,:])\n",
    "    C[:,0] = np.sum(B[:,0])*C[:,0]/np.sum(C[:,0])\n",
    "    C[:,1] = np.sum(B[:,1])*C[:,1]/np.sum(C[:,1])\n",
    "    min_sum = np.min(np.minimum(np.sum(A, axis=1), np.sum(C, axis=0)))\n",
    "    d1 = np.random.uniform(0, min_sum)\n",
    "    d2 = np.sum(C, axis=0)[0] - d1\n",
    "    d3 = np.sum(A, axis=1)[1] - d2\n",
    "    d4 = np.sum(A, axis=1)[0] - d1\n",
    "    D = np.array([[d1, d2], [d3, d4]])\n",
    "    result = np.concatenate((np.concatenate((A, B), axis=1), np.concatenate((D, C),axis=1)), axis=0)\n",
    "    return result"
   ]
  },
  {
   "cell_type": "code",
   "execution_count": 132,
   "id": "9afa80a2",
   "metadata": {},
   "outputs": [],
   "source": [
    "def check_correctness(box: np.array)->bool:\n",
    "    row_check = np.sum(box[:,:2], axis=1) == np.sum(box[:,2:], axis=1)\n",
    "    col_check = np.sum(box[:2,:], axis=0) == np.sum(box[2:,:], axis=0)\n",
    "    print(row_check, col_check)\n",
    "    return np.all(row_check, col_check)"
   ]
  },
  {
   "cell_type": "code",
   "execution_count": 118,
   "id": "c53c9db0",
   "metadata": {},
   "outputs": [],
   "source": [
    "a = sample_noninformative()"
   ]
  },
  {
   "cell_type": "code",
   "execution_count": null,
   "id": "4ea3e3bf",
   "metadata": {},
   "outputs": [],
   "source": [
    "def check_locality(box: np.array)->bool:\n",
    "    return True"
   ]
  },
  {
   "cell_type": "code",
   "execution_count": null,
   "id": "a7042368",
   "metadata": {},
   "outputs": [],
   "source": [
    "def generate_image(box: np.array)->np.array:\n",
    "    return np.array()"
   ]
  },
  {
   "cell_type": "code",
   "execution_count": null,
   "id": "3f6bba6d",
   "metadata": {},
   "outputs": [],
   "source": []
  }
 ],
 "metadata": {
  "kernelspec": {
   "display_name": "Python 3 (ipykernel)",
   "language": "python",
   "name": "python3"
  },
  "language_info": {
   "codemirror_mode": {
    "name": "ipython",
    "version": 3
   },
   "file_extension": ".py",
   "mimetype": "text/x-python",
   "name": "python",
   "nbconvert_exporter": "python",
   "pygments_lexer": "ipython3",
   "version": "3.8.10"
  }
 },
 "nbformat": 4,
 "nbformat_minor": 5
}
