{
 "cells": [
  {
   "cell_type": "code",
   "execution_count": 3,
   "id": "f8ae7908",
   "metadata": {},
   "outputs": [],
   "source": [
    "import numpy as np\n",
    "import matplotlib.pyplot as plt\n",
    "from typing import List\n",
    "\n",
    "def sample_no_signalling(num: int=1, local=None)->List[np.array]:\n",
    "    result = list()\n",
    "    for i in range(num):\n",
    "        result.append(sample_no_signalling_one(local))\n",
    "    return result\n",
    "\n",
    "def sample_no_signalling_one(local=None)->np.array:\n",
    "    A, B, C = np.random.uniform(size=(3,2,2))\n",
    "    A = A/np.sum(A)\n",
    "    B[0,:] = np.sum(A[0,:])*B[0,:]/np.sum(B[0,:])\n",
    "    B[1,:] = np.sum(A[1,:])*B[1,:]/np.sum(B[1,:])\n",
    "    C[:,0] = np.sum(B[:,0])*C[:,0]/np.sum(C[:,0])\n",
    "    C[:,1] = np.sum(B[:,1])*C[:,1]/np.sum(C[:,1])\n",
    "    min_sum = np.min(np.minimum(np.sum(A, axis=1), np.sum(C, axis=0)))\n",
    "    d1 = np.random.uniform(0, min_sum)\n",
    "    d2 = np.sum(C, axis=1)[0] - d1\n",
    "    d3 = np.sum(A, axis=0)[0] - d1\n",
    "    d4 = np.sum(A, axis=0)[1] - d2\n",
    "    D = np.array([[d1, d2], [d3, d4]])\n",
    "    result = np.concatenate((np.concatenate((A, B), axis=1), np.concatenate((D, C),axis=1)), axis=0)\n",
    "    if local is None:\n",
    "        if check_correctness(result):\n",
    "            return result\n",
    "        else:\n",
    "            return sample_no_signalling(result)\n",
    "    else:\n",
    "        if local==check_locality(result) and check_correctness(result):\n",
    "            return result\n",
    "        else:\n",
    "            return sample_no_signalling(1, local)"
   ]
  },
  {
   "cell_type": "code",
   "execution_count": 4,
   "id": "9afa80a2",
   "metadata": {},
   "outputs": [],
   "source": [
    "def check_correctness(box: np.array)->bool:\n",
    "    row_check = np.allclose(np.sum(box[:,:2], axis=1), np.sum(box[:,2:], axis=1))\n",
    "    col_check = np.allclose(np.sum(box[:2,:], axis=0), np.sum(box[2:,:], axis=0))\n",
    "    return np.all(row_check) and np.all(col_check) and np.all(box.flatten()>=0)"
   ]
  },
  {
   "cell_type": "code",
   "execution_count": 5,
   "id": "368c8c4c",
   "metadata": {},
   "outputs": [],
   "source": [
    "def generate_img(box: np.array, resolution = 100)->np.array:\n",
    "    img = []\n",
    "    for row in box:\n",
    "        img_row = []\n",
    "        for element in row:\n",
    "            img_tmp = np.ones(shape=(resolution, resolution))\n",
    "            img_tmp[:, :int(resolution*element)] = 0\n",
    "            img_row.append(img_tmp)\n",
    "        img.append(np.hstack(img_row))\n",
    "    img = np.vstack(img)\n",
    "    return img"
   ]
  },
  {
   "cell_type": "code",
   "execution_count": 6,
   "id": "4ea3e3bf",
   "metadata": {},
   "outputs": [],
   "source": [
    "def check_locality(box: np.array)->bool:\n",
    "    p00_00, p10_00, p00_10, p10_10 = box[0,:]\n",
    "    p01_00, p11_00, p01_10, p11_10 = box[1,:]\n",
    "    p00_01, p10_01, p00_11, p10_11 = box[2,:]\n",
    "    p01_01, p11_01, p01_11, p11_11 = box[3,:]\n",
    "    \n",
    "    c1 = p01_00 + p10_00 + p00_10 + p11_10 + p00_01 + p11_01 + p00_11 + p11_11\n",
    "    c2 = p00_00 + p11_00 + p01_10 + p10_10 + p00_01 + p11_01 + p00_11 + p11_11\n",
    "    c3 = p00_00 + p11_00 + p00_10 + p11_10 + p01_01 + p10_01 + p00_11 + p11_11\n",
    "    c4 = p00_00 + p11_00 + p00_10 + p11_10 + p00_01 + p11_01 + p01_11 + p10_11\n",
    "    \n",
    "    c5 = p11_00 + p00_00 + p01_10 + p10_10 + p01_01 + p10_01 + p01_11 + p10_11\n",
    "    c6 = p01_00 + p10_00 + p11_10 + p00_10 + p01_01 + p10_01 + p01_11 + p10_11\n",
    "    c7 = p01_00 + p10_00 + p01_10 + p10_10 + p11_01 + p00_01 + p01_11 + p10_11\n",
    "    c8 = p01_00 + p10_00 + p01_10 + p10_10 + p01_01 + p10_01 + p11_11 + p00_11\n",
    "    \n",
    "    return np.all([inq < 3 for inq in [c1, c2, c3, c4, c5, c6, c7, c8]])"
   ]
  },
  {
   "cell_type": "code",
   "execution_count": 8,
   "id": "ae11e767",
   "metadata": {},
   "outputs": [
    {
     "ename": "TypeError",
     "evalue": "only size-1 arrays can be converted to Python scalars",
     "output_type": "error",
     "traceback": [
      "\u001b[0;31m---------------------------------------------------------------------------\u001b[0m",
      "\u001b[0;31mTypeError\u001b[0m                                 Traceback (most recent call last)",
      "\u001b[0;32m/tmp/ipykernel_7756/3657775959.py\u001b[0m in \u001b[0;36m<module>\u001b[0;34m\u001b[0m\n\u001b[1;32m      1\u001b[0m \u001b[0mk\u001b[0m \u001b[0;34m=\u001b[0m \u001b[0msample_no_signalling\u001b[0m\u001b[0;34m(\u001b[0m\u001b[0;34m)\u001b[0m\u001b[0;34m\u001b[0m\u001b[0;34m\u001b[0m\u001b[0m\n\u001b[0;32m----> 2\u001b[0;31m \u001b[0ms\u001b[0m \u001b[0;34m=\u001b[0m \u001b[0mgenerate_img\u001b[0m\u001b[0;34m(\u001b[0m\u001b[0mk\u001b[0m\u001b[0;34m)\u001b[0m\u001b[0;34m\u001b[0m\u001b[0;34m\u001b[0m\u001b[0m\n\u001b[0m\u001b[1;32m      3\u001b[0m \u001b[0mplt\u001b[0m\u001b[0;34m.\u001b[0m\u001b[0mimshow\u001b[0m\u001b[0;34m(\u001b[0m\u001b[0ms\u001b[0m\u001b[0;34m,\u001b[0m \u001b[0mcmap\u001b[0m\u001b[0;34m=\u001b[0m\u001b[0;34m'gray'\u001b[0m\u001b[0;34m)\u001b[0m\u001b[0;34m\u001b[0m\u001b[0;34m\u001b[0m\u001b[0m\n",
      "\u001b[0;32m/tmp/ipykernel_7756/264282382.py\u001b[0m in \u001b[0;36mgenerate_img\u001b[0;34m(box, resolution)\u001b[0m\n\u001b[1;32m      5\u001b[0m         \u001b[0;32mfor\u001b[0m \u001b[0melement\u001b[0m \u001b[0;32min\u001b[0m \u001b[0mrow\u001b[0m\u001b[0;34m:\u001b[0m\u001b[0;34m\u001b[0m\u001b[0;34m\u001b[0m\u001b[0m\n\u001b[1;32m      6\u001b[0m             \u001b[0mimg_tmp\u001b[0m \u001b[0;34m=\u001b[0m \u001b[0mnp\u001b[0m\u001b[0;34m.\u001b[0m\u001b[0mones\u001b[0m\u001b[0;34m(\u001b[0m\u001b[0mshape\u001b[0m\u001b[0;34m=\u001b[0m\u001b[0;34m(\u001b[0m\u001b[0mresolution\u001b[0m\u001b[0;34m,\u001b[0m \u001b[0mresolution\u001b[0m\u001b[0;34m)\u001b[0m\u001b[0;34m)\u001b[0m\u001b[0;34m\u001b[0m\u001b[0;34m\u001b[0m\u001b[0m\n\u001b[0;32m----> 7\u001b[0;31m             \u001b[0mimg_tmp\u001b[0m\u001b[0;34m[\u001b[0m\u001b[0;34m:\u001b[0m\u001b[0;34m,\u001b[0m \u001b[0;34m:\u001b[0m\u001b[0mint\u001b[0m\u001b[0;34m(\u001b[0m\u001b[0mresolution\u001b[0m\u001b[0;34m*\u001b[0m\u001b[0melement\u001b[0m\u001b[0;34m)\u001b[0m\u001b[0;34m]\u001b[0m \u001b[0;34m=\u001b[0m \u001b[0;36m0\u001b[0m\u001b[0;34m\u001b[0m\u001b[0;34m\u001b[0m\u001b[0m\n\u001b[0m\u001b[1;32m      8\u001b[0m             \u001b[0mimg_row\u001b[0m\u001b[0;34m.\u001b[0m\u001b[0mappend\u001b[0m\u001b[0;34m(\u001b[0m\u001b[0mimg_tmp\u001b[0m\u001b[0;34m)\u001b[0m\u001b[0;34m\u001b[0m\u001b[0;34m\u001b[0m\u001b[0m\n\u001b[1;32m      9\u001b[0m         \u001b[0mimg\u001b[0m\u001b[0;34m.\u001b[0m\u001b[0mappend\u001b[0m\u001b[0;34m(\u001b[0m\u001b[0mnp\u001b[0m\u001b[0;34m.\u001b[0m\u001b[0mhstack\u001b[0m\u001b[0;34m(\u001b[0m\u001b[0mimg_row\u001b[0m\u001b[0;34m)\u001b[0m\u001b[0;34m)\u001b[0m\u001b[0;34m\u001b[0m\u001b[0;34m\u001b[0m\u001b[0m\n",
      "\u001b[0;31mTypeError\u001b[0m: only size-1 arrays can be converted to Python scalars"
     ]
    }
   ],
   "source": [
    "k = sample_no_signalling()\n",
    "s = generate_img(k)\n",
    "plt.imshow(s, cmap='gray')"
   ]
  },
  {
   "cell_type": "code",
   "execution_count": 20,
   "id": "3cf62a58",
   "metadata": {},
   "outputs": [],
   "source": [
    "r, t = [], []\n",
    "for i in range(10000):\n",
    "    sample = sample_no_signalling()\n",
    "    r.append(check_locality(sample))\n",
    "    t.append(check_correctness(sample))"
   ]
  },
  {
   "cell_type": "code",
   "execution_count": 23,
   "id": "c8161433",
   "metadata": {},
   "outputs": [
    {
     "data": {
      "text/plain": [
       "8888"
      ]
     },
     "execution_count": 23,
     "metadata": {},
     "output_type": "execute_result"
    }
   ],
   "source": [
    "len(list(filter(lambda x: x, r)))"
   ]
  },
  {
   "cell_type": "code",
   "execution_count": 298,
   "id": "c7fd3476",
   "metadata": {
    "scrolled": true
   },
   "outputs": [
    {
     "data": {
      "image/png": "[encoded data removed]",
      "text/plain": [
       "<Figure size 640x640 with 9 Axes>"
      ]
     },
     "metadata": {
      "needs_background": "light"
     },
     "output_type": "display_data"
    }
   ],
   "source": [
    "plt.figure(figsize=(8, 8), dpi=80)\n",
    "\n",
    "for i in range(9):\n",
    "    ax = plt.subplot(3,3,i+1)\n",
    "    ax.imshow(generate_img(sample_no_signalling(1, True)), cmap='gray')"
   ]
  },
  {
   "cell_type": "code",
   "execution_count": 296,
   "id": "9f8bd6e5",
   "metadata": {},
   "outputs": [
    {
     "data": {
      "image/png": "[encoded data removed]",
      "text/plain": [
       "<Figure size 640x640 with 9 Axes>"
      ]
     },
     "metadata": {
      "needs_background": "light"
     },
     "output_type": "display_data"
    }
   ],
   "source": [
    "plt.figure(figsize=(8, 8), dpi=80)\n",
    "\n",
    "\n",
    "for i in range(9):\n",
    "    ax = plt.subplot(3,3,i+1)\n",
    "    ax.imshow(generate_img(sample_no_signalling(1, False)), cmap='gray')"
   ]
  }
 ],
 "metadata": {
  "kernelspec": {
   "display_name": "Python 3 (ipykernel)",
   "language": "python",
   "name": "python3"
  },
  "language_info": {
   "codemirror_mode": {
    "name": "ipython",
    "version": 3
   },
   "file_extension": ".py",
   "mimetype": "text/x-python",
   "name": "python",
   "nbconvert_exporter": "python",
   "pygments_lexer": "ipython3",
   "version": "3.8.10"
  }
 },
 "nbformat": 4,
 "nbformat_minor": 5
}
