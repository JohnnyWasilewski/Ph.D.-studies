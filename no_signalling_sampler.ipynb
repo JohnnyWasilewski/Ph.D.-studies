{
 "cells": [
  {
   "cell_type": "code",
   "execution_count": 1,
   "id": "f8ae7908",
   "metadata": {},
   "outputs": [],
   "source": [
    "import numpy as np\n",
    "import matplotlib.pyplot as plt\n",
    "\n",
    "def sample_no_signalling(num: int=1)->np.array:\n",
    "    A, B, C = np.random.uniform(size=(3,2,2))\n",
    "    A = A/np.sum(A)\n",
    "    B[0,:] = np.sum(A[0,:])*B[0,:]/np.sum(B[0,:])\n",
    "    B[1,:] = np.sum(A[1,:])*B[1,:]/np.sum(B[1,:])\n",
    "    C[:,0] = np.sum(B[:,0])*C[:,0]/np.sum(C[:,0])\n",
    "    C[:,1] = np.sum(B[:,1])*C[:,1]/np.sum(C[:,1])\n",
    "    min_sum = np.min(np.minimum(np.sum(A, axis=1), np.sum(C, axis=0)))\n",
    "    d1 = np.random.uniform(0, min_sum)\n",
    "    d2 = np.sum(C, axis=0)[0] - d1\n",
    "    d3 = np.sum(A, axis=1)[1] - d2\n",
    "    d4 = np.sum(A, axis=1)[0] - d1\n",
    "    D = np.array([[d1, d2], [d3, d4]])\n",
    "    result = np.concatenate((np.concatenate((A, B), axis=1), np.concatenate((D, C),axis=1)), axis=0)\n",
    "    return result"
   ]
  },
  {
   "cell_type": "code",
   "execution_count": 2,
   "id": "9afa80a2",
   "metadata": {},
   "outputs": [],
   "source": [
    "def check_correctness(box: np.array)->bool:\n",
    "    row_check = np.sum(box[:,:2], axis=1) == np.sum(box[:,2:], axis=1)\n",
    "    col_check = np.sum(box[:2,:], axis=0) == np.sum(box[2:,:], axis=0)\n",
    "    print(row_check, col_check)\n",
    "    return np.all(row_check, col_check)"
   ]
  },
  {
   "cell_type": "code",
   "execution_count": 47,
   "id": "368c8c4c",
   "metadata": {},
   "outputs": [],
   "source": [
    "def generate_img(box: np.array, resolution = 100)->np.array:\n",
    "    img = []\n",
    "    for row in box:\n",
    "        img_row = []\n",
    "        for element in row:\n",
    "            img_tmp = np.ones(shape=(resolution, resolution))\n",
    "            img_tmp[:, :int(resolution*element)] = 0\n",
    "            img_row.append(img_tmp)\n",
    "        img.append(np.hstack(img_row))\n",
    "    img = np.vstack(img)\n",
    "    return img"
   ]
  },
  {
   "cell_type": "code",
   "execution_count": 58,
   "id": "ae11e767",
   "metadata": {},
   "outputs": [
    {
     "data": {
      "text/plain": [
       "<matplotlib.image.AxesImage at 0x7f19cb0d2820>"
      ]
     },
     "execution_count": 58,
     "metadata": {},
     "output_type": "execute_result"
    },
    {
     "data": {
      "image/png": "[encoded data removed]",
      "text/plain": [
       "<Figure size 432x288 with 1 Axes>"
      ]
     },
     "metadata": {
      "needs_background": "light"
     },
     "output_type": "display_data"
    }
   ],
   "source": [
    "plt.imshow(generate_img(sample_no_signalling()), cmap='gray')"
   ]
  },
  {
   "cell_type": "code",
   "execution_count": 59,
   "id": "4ea3e3bf",
   "metadata": {},
   "outputs": [],
   "source": [
    "def check_locality(box: np.array)->bool:\n",
    "    p00_00, p11_00, p01_00, p10_00 = box[0,:]\n",
    "    p00_10, p11_10, p01_10, p10_10 = box[1,:]\n",
    "    p00_01, p11_01, p01_01, p10_01 = box[2,:]\n",
    "    p00_11, p11_11, p01_11, p10_11 = box[3,:]\n",
    "    \n",
    "    c1 = p01_00 + p10_00 + p00_10 + p11_10 + p00_01 + p11_01 + p01_11 + p10_11\n",
    "    c2 = p00_00 + p11_00 + p01_10 + p10_10 + p00_01 + p11_01 + p00_11 + p11_11\n",
    "    c3 = p00_00 + p11_00 + p00_10 + p11_10 + p01_01 + p10_01 + p00_11 + p11_11\n",
    "    c4 = p00_00 + p11_00 + p00_10 + p11_10 + p00_01 + p11_01 + p01_11 + p10_11\n",
    "    \n",
    "    c5 = p11_00 + p00_00 + p01_10 + p10_10 + p01_01 + p10_01 + p01_11 + p10_11\n",
    "    c6 = p01_00 + p10_00 + p11_10 + p00_10 + p01_01 + p10_01 + p01_11 + p10_11\n",
    "    c7 = p01_00 + p10_00 + p01_10 + p10_10 + p11_01 + p00_01 + p01_11 + p10_11\n",
    "    c8 = p01_00 + p10_00 + p01_10 + p10_10 + p01_01 + p10_01 + p11_11 + p00_11\n",
    "    \n",
    "    return np.all([inq < 3 for inq in [c1, c2, c3, c4, c5, c6, c7, c8]])"
   ]
  },
  {
   "cell_type": "code",
   "execution_count": 102,
   "id": "3cf62a58",
   "metadata": {},
   "outputs": [],
   "source": [
    "r = []\n",
    "for i in range(1000000):\n",
    "    r.append(check_locality(sample_no_signalling()))"
   ]
  },
  {
   "cell_type": "code",
   "execution_count": 103,
   "id": "ee2b31c8",
   "metadata": {},
   "outputs": [
    {
     "data": {
      "text/plain": [
       "True"
      ]
     },
     "execution_count": 103,
     "metadata": {},
     "output_type": "execute_result"
    }
   ],
   "source": [
    "np.all(r)"
   ]
  }
 ],
 "metadata": {
  "kernelspec": {
   "display_name": "Python 3 (ipykernel)",
   "language": "python",
   "name": "python3"
  },
  "language_info": {
   "codemirror_mode": {
    "name": "ipython",
    "version": 3
   },
   "file_extension": ".py",
   "mimetype": "text/x-python",
   "name": "python",
   "nbconvert_exporter": "python",
   "pygments_lexer": "ipython3",
   "version": "3.8.10"
  }
 },
 "nbformat": 4,
 "nbformat_minor": 5
}
