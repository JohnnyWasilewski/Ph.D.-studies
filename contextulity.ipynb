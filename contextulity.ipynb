{
 "cells": [
  {
   "cell_type": "code",
   "execution_count": 1,
   "id": "2c1473f8",
   "metadata": {},
   "outputs": [],
   "source": [
    "import numpy as np\n",
    "from itertools import combinations\n",
    "\n",
    "def sample(n: int, contextual:bool = True):\n",
    "    table = np.random.uniform(0,1,(4,n))\n",
    "    table[:,0] /= np.sum(table[:,0])\n",
    "    for idx in range(n):\n",
    "        next_idx = (idx+1) % n\n",
    "        table[[0,1], next_idx] = table[[0,1], next_idx] * np.sum(table[[0,2],idx]) / np.sum(table[[0,1],next_idx])\n",
    "        table[[2,3], next_idx] = table[[2,3], next_idx] * np.sum(table[[1,3],idx]) / np.sum(table[[2,3],next_idx])    \n",
    "    return table\n",
    "     \n",
    "\n",
    "def get_coefs(n):\n",
    "    for i in np.arange(1,n+2,2):\n",
    "        comb = list(combinations(np.arange(n), i))\n",
    "        buf = np.ones((len(comb), n))\n",
    "        for idx, c in enumerate(comb):\n",
    "            buf[idx, c] *= -1\n",
    "        coefs = buf if not 'coefs' in locals() else np.vstack((coefs, buf))\n",
    "    return coefs\n",
    "\n",
    "def E(table):\n",
    "    return np.tile(table[0, :] + table[3, :] - table[1, :] - table[2, :], (2**(table.shape[1]-1), 1))\n",
    "\n",
    "def check_noncontexuality(table):\n",
    "    n = table.shape[1]\n",
    "    results = np.sum(np.multiply(E(table), get_coefs(n)), axis = 1)\n",
    "    #print(results.shape)\n",
    "    return np.all(results <= n-2), results"
   ]
  },
  {
   "cell_type": "code",
   "execution_count": 2,
   "id": "13accb62",
   "metadata": {},
   "outputs": [],
   "source": [
    "def sampler(num:int = 10000, dim:int = 5, noncontextual:bool = True):\n",
    "    samples = list()\n",
    "    while len(samples) < num:\n",
    "        s = sample(dim)\n",
    "        if noncontextual == check_noncontexuality(s)[0]:\n",
    "            samples.append(s)\n",
    "            if len(samples) % 1000 == 0:\n",
    "                print(len(samples))\n",
    "    return samples"
   ]
  },
  {
   "cell_type": "code",
   "execution_count": 3,
   "id": "0f5ed70f",
   "metadata": {},
   "outputs": [],
   "source": [
    "import torch\n",
    "from torch import nn\n",
    "from torch.utils.data import Dataset, DataLoader\n",
    "from sklearn.model_selection import train_test_split\n",
    "import torch.optim as optim\n",
    "\n",
    "import matplotlib.pyplot as plt\n",
    "\n",
    "device = torch.device(\"cuda:0\" if torch.cuda.is_available() else \"cpu\")\n",
    "\n",
    "class MyDataset(Dataset):\n",
    "    def __init__(self, X, y):\n",
    "        self.X = torch.FloatTensor(X)\n",
    "        self.y = torch.FloatTensor(y)\n",
    "    \n",
    "    def __getitem__(self, idx):\n",
    "        return self.X[idx], self.y[idx]\n",
    "    \n",
    "    def __len__(self):\n",
    "        return len(self.y)"
   ]
  },
  {
   "cell_type": "markdown",
   "id": "2a50d924",
   "metadata": {},
   "source": [
    "# Simple classifier"
   ]
  },
  {
   "cell_type": "code",
   "execution_count": 149,
   "id": "2ad2509a",
   "metadata": {
    "scrolled": true
   },
   "outputs": [
    {
     "name": "stdout",
     "output_type": "stream",
     "text": [
      "1000\n",
      "2000\n",
      "3000\n",
      "4000\n",
      "5000\n"
     ]
    }
   ],
   "source": [
    "num = 5000\n",
    "noncontextual = sampler(num, 5, True)\n",
    "contextual = np.load('contectual.npy')\n",
    "data_X = np.concatenate((noncontextual, contextual))\n",
    "m1 = np.concatenate((np.zeros(num), np.array(list(map(lambda x: NL(x, noncontextual), contextual)))))\n",
    "m2 = np.concatenate((np.zeros(num), np.ones(num)))\n",
    "data_y = np.transpose(np.vstack((m1,m2)))"
   ]
  },
  {
   "cell_type": "code",
   "execution_count": 150,
   "id": "ed672814",
   "metadata": {},
   "outputs": [],
   "source": [
    "class mlp(nn.Module):\n",
    "    def __init__(self, input_size):\n",
    "        super(mlp, self).__init__()\n",
    "        self.l1 = nn.Linear(input_size, 50)\n",
    "        self.l2 = nn.Linear(50, 25)\n",
    "        self.l3 = nn.Linear(25, 1)\n",
    "        self.relu = nn.ReLU()\n",
    "        self.flatten = nn.Flatten()\n",
    "    def forward(self, x):\n",
    "        x = self.flatten(x)\n",
    "        x = self.relu(self.l1(x))\n",
    "        x = self.relu(self.l2(x))\n",
    "        x = self.l3(x)\n",
    "        return x\n",
    "    \n",
    "def binary_acc(y_pred, y_test):\n",
    "    y_pred_tag = torch.round(torch.sigmoid(y_pred))\n",
    "\n",
    "    correct_results_sum = (y_pred_tag == y_test).sum().float()\n",
    "    acc = correct_results_sum/y_test.shape[0]\n",
    "    acc = torch.round(acc * 100)\n",
    "    \n",
    "    return acc"
   ]
  },
  {
   "cell_type": "code",
   "execution_count": 216,
   "id": "9c1e50fc",
   "metadata": {},
   "outputs": [],
   "source": [
    "X_train, X_test, y_train, y_test = train_test_split(data_X, data_y)\n",
    "data_loader_train = DataLoader(MyDataset(X_train, y_train[:,1]), 64)\n",
    "data_loader_test = DataLoader(MyDataset(X_test, y_test[:,1]), 64)\n",
    "\n",
    "data_loader_train_r = DataLoader(MyDataset(X_train, y_train[:,0]), 64)\n",
    "data_loader_test_r = DataLoader(MyDataset(X_test, y_test[:,0]), 64)\n",
    "\n",
    "\n",
    "contextual_data_loader = DataLoader(MyDataset(contextual, np.zeros(num)), 64)\n",
    "noncontextual_data_loader = DataLoader(MyDataset(noncontextual, np.ones(num)), 64)\n",
    "\n",
    "input_size = np.prod(X_train[0].shape)\n",
    "\n",
    "classifier = mlp(input_size)\n",
    "criterion = nn.BCEWithLogitsLoss()\n",
    "optimizer = optim.Adam(classifier.parameters(), lr=0.01)\n",
    "\n",
    "classifier.train()\n",
    "classifier.to(device)\n",
    "\n",
    "epochs = 100 \n",
    "alpha = 0.0001"
   ]
  },
  {
   "cell_type": "code",
   "execution_count": 217,
   "id": "fe070323",
   "metadata": {},
   "outputs": [
    {
     "name": "stdout",
     "output_type": "stream",
     "text": [
      "Epoch 020: | Loss: 0.04320 | Acc: 99.237\n",
      "Epoch 040: | Loss: 0.03776 | Acc: 99.458\n",
      "Epoch 060: | Loss: 0.03879 | Acc: 99.339\n",
      "Epoch 080: | Loss: 0.03616 | Acc: 99.593\n"
     ]
    }
   ],
   "source": [
    "for epoch in range(1, epochs):\n",
    "    epoch_loss = 0\n",
    "    epoch_acc = 0\n",
    "    for X, y in data_loader_train:\n",
    "        optimizer.zero_grad()\n",
    "        X, y = X.to(device), y.to(device)\n",
    "        y_hat = classifier(X)\n",
    "        params = torch.cat([x.view(-1) for x in classifier.parameters()])\n",
    "        l2_regularization = alpha * torch.norm(params, 2) ** 2\n",
    "        loss = criterion(y_hat, y.unsqueeze(1)) + l2_regularization\n",
    "        acc = binary_acc(y_hat, y.unsqueeze(1))\n",
    "        loss.backward()\n",
    "        optimizer.step()\n",
    "        epoch_loss += loss.item()\n",
    "        epoch_acc += acc.item()\n",
    "        \n",
    "    if epoch % 20 ==0:\n",
    "        print(f'Epoch {epoch+0:03}: | Loss: {epoch_loss/len(data_loader_train):.5f} | Acc: {epoch_acc/len(data_loader_train):.3f}')"
   ]
  },
  {
   "cell_type": "code",
   "execution_count": 218,
   "id": "b7571277",
   "metadata": {},
   "outputs": [],
   "source": [
    "classifier.eval()\n",
    "\n",
    "y_preds = list()\n",
    "y_true = list()\n",
    "res = list()\n",
    "with torch.no_grad():\n",
    "    for X, y in data_loader_test:\n",
    "        X = X.to(device)\n",
    "        res.append(classifier(X))\n",
    "        y_hat = torch.sigmoid(classifier(X)).cpu().numpy()\n",
    "        y_preds.append(y_hat)\n",
    "        y_true.append(y.numpy())\n",
    "        \n",
    "\n",
    "y_pred_classifier = np.round(np.concatenate(y_preds).squeeze())\n",
    "y_list = np.concatenate(y_true).squeeze()"
   ]
  },
  {
   "cell_type": "code",
   "execution_count": 219,
   "id": "3b0150a0",
   "metadata": {},
   "outputs": [
    {
     "name": "stdout",
     "output_type": "stream",
     "text": [
      "Counter({1.0: 1282, 0.0: 1218})\n",
      "Counter({1.0: 1272, 0.0: 1228})\n"
     ]
    }
   ],
   "source": [
    "from collections import Counter\n",
    "print(Counter(y_pred_classifier))\n",
    "print(Counter(y_list))"
   ]
  },
  {
   "cell_type": "code",
   "execution_count": 220,
   "id": "420c064b",
   "metadata": {},
   "outputs": [
    {
     "name": "stdout",
     "output_type": "stream",
     "text": [
      "              precision    recall  f1-score   support\n",
      "\n",
      "         0.0       0.99      1.00      1.00      1218\n",
      "         1.0       1.00      0.99      1.00      1282\n",
      "\n",
      "    accuracy                           1.00      2500\n",
      "   macro avg       1.00      1.00      1.00      2500\n",
      "weighted avg       1.00      1.00      1.00      2500\n",
      "\n"
     ]
    }
   ],
   "source": [
    "from sklearn.metrics import confusion_matrix, classification_report\n",
    "print(classification_report(y_pred_classifier, y_list))"
   ]
  },
  {
   "cell_type": "markdown",
   "id": "ddb3a183",
   "metadata": {},
   "source": [
    "## Uncertainty estimation"
   ]
  },
  {
   "cell_type": "code",
   "execution_count": 223,
   "id": "ba345d5c",
   "metadata": {},
   "outputs": [],
   "source": [
    "classifier.eval()\n",
    "classifier.to('cpu')\n",
    "# Energy function hessian calculation\n",
    "def inverse_hessian():\n",
    "    beta=0.0001\n",
    "    weights_num = np.sum([np.prod(v.shape) for v in classifier.parameters()])\n",
    "    A = beta * torch.eye(weights_num)\n",
    "    for index, batch in enumerate(data_loader_train):\n",
    "        \n",
    "        for x in batch[0]:\n",
    "            classifier(x.unsqueeze(0)).backward()\n",
    "            grads = list()\n",
    "            for param in classifier.parameters():\n",
    "                grads.append(param.grad.view(-1))\n",
    "            flat = torch.cat(grads).unsqueeze(1)\n",
    "            A = A - (A @ flat @ torch.t(flat)  @ A)/(1+torch.t(flat)@A@flat)\n",
    "        if (index+1) % 20 == 0:\n",
    "            print(index, torch.norm(A))\n",
    "    return A\n",
    "\n",
    "\n",
    "# Standard deviation calculation\n",
    "def compute_sigma(x, beta):\n",
    "    classifier(x).backward()\n",
    "\n",
    "    grads = list()\n",
    "    for param in classifier.parameters():\n",
    "        grads.append(param.grad.view(-1))\n",
    "    flat = torch.cat(grads).unsqueeze(1)\n",
    "    sigma = beta + torch.t(flat) @ A @ flat\n",
    "    return sigma"
   ]
  },
  {
   "cell_type": "code",
   "execution_count": 224,
   "id": "6f9639de",
   "metadata": {},
   "outputs": [
    {
     "name": "stdout",
     "output_type": "stream",
     "text": [
      "19 tensor(0.5115)\n",
      "39 tensor(130819.2812)\n",
      "59 tensor(4212840.5000)\n",
      "79 tensor(42752668.)\n",
      "99 tensor(308081.7812)\n"
     ]
    }
   ],
   "source": [
    "A = inverse_hessian()"
   ]
  },
  {
   "cell_type": "code",
   "execution_count": 378,
   "id": "1a2c4cfc",
   "metadata": {},
   "outputs": [],
   "source": [
    "def uncertainty_prediction(x, model):\n",
    "    model.eval()\n",
    "    s = compute_sigma(x.unsqueeze(0), 0.01)\n",
    "    #print(s)\n",
    "    k = model(x.unsqueeze(0))\n",
    "    #print(1/np.sqrt(1+np.pi*s**2/8),k,s)\n",
    "    m= torch.sigmoid(1/np.sqrt(1+np.pi*(s/40000000000000)**2) * k)\n",
    "    #print(model(x.unsqueeze(0)))\n",
    "    #input()\n",
    "    return m, s, k"
   ]
  },
  {
   "cell_type": "code",
   "execution_count": 355,
   "id": "bc3b6d0b",
   "metadata": {},
   "outputs": [],
   "source": [
    "def get_preds_classifier(data_loader):\n",
    "    results = list()\n",
    "    ss=list()\n",
    "    kk=list()\n",
    "    for index, batch in enumerate(data_loader):\n",
    "        for x in batch[0]:\n",
    "            m = uncertainty_prediction(x, classifier)\n",
    "            results.append(m[0])\n",
    "            ss.append(m[1])\n",
    "            kk.append(m[2])\n",
    "    preds_raw = torch.sigmoid(torch.concat(kk)).detach().numpy().squeeze()\n",
    "    preds_boosted = torch.concat(results).detach().numpy().squeeze()\n",
    "    return preds_raw, preds_boosted, ss"
   ]
  },
  {
   "cell_type": "code",
   "execution_count": 356,
   "id": "c7822f55",
   "metadata": {},
   "outputs": [],
   "source": [
    "a = get_preds_classifier(contextual_data_loader)"
   ]
  },
  {
   "cell_type": "code",
   "execution_count": 357,
   "id": "517e5ec3",
   "metadata": {},
   "outputs": [
    {
     "data": {
      "text/plain": [
       "array([0.5074817 , 0.5095487 , 0.51364505, ..., 0.68546385, 0.703027  ,\n",
       "       0.72031647], dtype=float32)"
      ]
     },
     "execution_count": 357,
     "metadata": {},
     "output_type": "execute_result"
    }
   ],
   "source": [
    "np.unique(a[1])"
   ]
  },
  {
   "cell_type": "code",
   "execution_count": 358,
   "id": "cb1bf830",
   "metadata": {},
   "outputs": [
    {
     "data": {
      "text/plain": [
       "(array([  12.,  134.,  625., 1901., 1424.,  638.,  204.,   55.,    5.,\n",
       "           2.]),\n",
       " array([0.5074817 , 0.5287652 , 0.55004865, 0.5713321 , 0.5926156 ,\n",
       "        0.6138991 , 0.63518256, 0.656466  , 0.6777495 , 0.699033  ,\n",
       "        0.72031647], dtype=float32),\n",
       " <BarContainer object of 10 artists>)"
      ]
     },
     "execution_count": 358,
     "metadata": {},
     "output_type": "execute_result"
    },
    {
     "data": {
      "image/png": "[encoded data removed]",
      "text/plain": [
       "<Figure size 432x288 with 1 Axes>"
      ]
     },
     "metadata": {
      "needs_background": "light"
     },
     "output_type": "display_data"
    }
   ],
   "source": [
    "plt.hist(a[1])"
   ]
  },
  {
   "cell_type": "code",
   "execution_count": 233,
   "id": "e6721035",
   "metadata": {
    "scrolled": true
   },
   "outputs": [
    {
     "data": {
      "text/plain": [
       "(array([ 337.,  567.,  705., 1425.,  690.,  614., 1491.,  754.,  547.,\n",
       "         370.]),\n",
       " array([1.6411335e-06, 1.0000131e-01, 2.0000099e-01, 3.0000064e-01,\n",
       "        4.0000030e-01, 5.0000000e-01, 5.9999967e-01, 6.9999933e-01,\n",
       "        7.9999900e-01, 8.9999866e-01, 9.9999833e-01], dtype=float32),\n",
       " <BarContainer object of 10 artists>)"
      ]
     },
     "execution_count": 233,
     "metadata": {},
     "output_type": "execute_result"
    },
    {
     "data": {
      "image/png": "[encoded data removed]",
      "text/plain": [
       "<Figure size 432x288 with 1 Axes>"
      ]
     },
     "metadata": {
      "needs_background": "light"
     },
     "output_type": "display_data"
    }
   ],
   "source": [
    "plt.hist()"
   ]
  },
  {
   "cell_type": "markdown",
   "id": "1283304c",
   "metadata": {},
   "source": [
    "# Distance based learning"
   ]
  },
  {
   "cell_type": "code",
   "execution_count": 236,
   "id": "fd015bbc",
   "metadata": {
    "scrolled": true
   },
   "outputs": [],
   "source": [
    "def NL(behaviour, noncontextual=noncontextual):\n",
    "    return np.min(np.sum(np.reshape(np.abs(behaviour - noncontextual), (5000, -1)), axis=1))"
   ]
  },
  {
   "cell_type": "code",
   "execution_count": 250,
   "id": "a69a0c74",
   "metadata": {},
   "outputs": [],
   "source": [
    "class mlp_r(nn.Module):\n",
    "    def __init__(self, input_size):\n",
    "        super(mlp_r, self).__init__()\n",
    "        self.l1 = nn.Linear(input_size, 128)\n",
    "        self.l2 = nn.Linear(128, 64)\n",
    "        self.l3 = nn.Linear(64, 1)\n",
    "        self.relu = nn.ReLU()\n",
    "        self.flatten = nn.Flatten()\n",
    "    def forward(self, x):\n",
    "        x = self.flatten(x)\n",
    "        x = self.relu(self.l1(x))\n",
    "        x = self.relu(self.l2(x))\n",
    "        x = self.relu(self.l3(x))\n",
    "        return x"
   ]
  },
  {
   "cell_type": "code",
   "execution_count": 251,
   "id": "d1a3fdaf",
   "metadata": {},
   "outputs": [],
   "source": [
    "input_size = np.prod(X_train[0].shape)\n",
    "\n",
    "regressor = mlp_r(input_size)\n",
    "criterion = nn.MSELoss()\n",
    "optimizer = optim.Adam(regressor.parameters(), lr=0.001)\n",
    "\n",
    "regressor.train()\n",
    "regressor.to(device)\n",
    "\n",
    "epochs = 500"
   ]
  },
  {
   "cell_type": "code",
   "execution_count": 252,
   "id": "94ba3bc2",
   "metadata": {},
   "outputs": [
    {
     "data": {
      "text/plain": [
       "tensor([0.0000, 0.0000, 0.0000, 0.0000, 1.3159, 0.0000, 0.0000, 1.6313, 0.0000,\n",
       "        0.0000, 0.0000, 1.8028, 0.0000, 0.0000, 1.6711, 0.0000, 0.0000, 1.8024,\n",
       "        1.6430, 1.4822, 0.0000, 0.0000, 1.5639, 0.0000, 1.2107, 1.6200, 0.0000,\n",
       "        0.0000, 0.0000, 0.0000, 1.7261, 1.7972, 0.0000, 0.0000, 1.7171, 1.8659,\n",
       "        0.0000, 1.4501, 1.7921, 0.0000, 0.0000, 1.3289, 0.0000, 1.2694, 0.0000,\n",
       "        1.2301, 0.0000, 0.0000, 0.0000, 1.3780, 1.6293, 0.0000, 1.2286, 0.0000,\n",
       "        0.0000, 1.3122, 1.6700, 0.0000, 1.5219, 1.8184, 1.3996, 1.6758, 0.0000,\n",
       "        0.0000])"
      ]
     },
     "execution_count": 252,
     "metadata": {},
     "output_type": "execute_result"
    }
   ],
   "source": [
    "next(iter(data_loader_train_r))[1]"
   ]
  },
  {
   "cell_type": "code",
   "execution_count": 253,
   "id": "b8ea8f9b",
   "metadata": {},
   "outputs": [
    {
     "name": "stdout",
     "output_type": "stream",
     "text": [
      "Epoch 020: | Loss: 0.03282 | Acc: 0.000\n",
      "Epoch 040: | Loss: 0.02061 | Acc: 0.000\n",
      "Epoch 060: | Loss: 0.01744 | Acc: 0.000\n",
      "Epoch 080: | Loss: 0.01567 | Acc: 0.000\n",
      "Epoch 100: | Loss: 0.01553 | Acc: 0.000\n",
      "Epoch 120: | Loss: 0.01367 | Acc: 0.000\n",
      "Epoch 140: | Loss: 0.01615 | Acc: 0.000\n",
      "Epoch 160: | Loss: 0.01262 | Acc: 0.000\n",
      "Epoch 180: | Loss: 0.01210 | Acc: 0.000\n",
      "Epoch 200: | Loss: 0.01167 | Acc: 0.000\n",
      "Epoch 220: | Loss: 0.01120 | Acc: 0.000\n",
      "Epoch 240: | Loss: 0.01029 | Acc: 0.000\n",
      "Epoch 260: | Loss: 0.01003 | Acc: 0.000\n",
      "Epoch 280: | Loss: 0.01026 | Acc: 0.000\n",
      "Epoch 300: | Loss: 0.00892 | Acc: 0.000\n",
      "Epoch 320: | Loss: 0.00893 | Acc: 0.000\n",
      "Epoch 340: | Loss: 0.00844 | Acc: 0.000\n",
      "Epoch 360: | Loss: 0.01049 | Acc: 0.000\n",
      "Epoch 380: | Loss: 0.01265 | Acc: 0.000\n",
      "Epoch 400: | Loss: 0.00789 | Acc: 0.000\n",
      "Epoch 420: | Loss: 0.00679 | Acc: 0.000\n",
      "Epoch 440: | Loss: 0.00662 | Acc: 0.000\n",
      "Epoch 460: | Loss: 0.00661 | Acc: 0.000\n",
      "Epoch 480: | Loss: 0.00544 | Acc: 0.000\n"
     ]
    }
   ],
   "source": [
    "for epoch in range(1, epochs):\n",
    "    epoch_loss = 0\n",
    "    epoch_acc = 0\n",
    "    for X, y in data_loader_train_r:\n",
    "        optimizer.zero_grad()\n",
    "        X, y = X.to(device), y.to(device)\n",
    "        y_hat = regressor(X)\n",
    "        loss = criterion(y_hat, y.unsqueeze(1))\n",
    "        loss.backward()\n",
    "        optimizer.step()\n",
    "        epoch_loss += loss.item()\n",
    "        \n",
    "    if epoch % 20 ==0:\n",
    "        print(f'Epoch {epoch+0:03}: | Loss: {epoch_loss/len(data_loader_train):.5f} | Acc: {epoch_acc/len(data_loader_train):.3f}')"
   ]
  },
  {
   "cell_type": "code",
   "execution_count": 260,
   "id": "70f612bf",
   "metadata": {},
   "outputs": [],
   "source": [
    "def flatten(t):\n",
    "    return [item for sublist in t for item in sublist]\n",
    "\n",
    "def get_preds_regressor(dataloader):\n",
    "    regressor.eval()\n",
    "\n",
    "    y_preds = list()\n",
    "    y_true = list()\n",
    "    with torch.no_grad():\n",
    "        for X, y in dataloader:\n",
    "            X = X.to(device)\n",
    "            y_hat = regressor(X).cpu().numpy()\n",
    "            y_preds.append(y_hat)\n",
    "\n",
    "    return np.concatenate(y_preds, axis=0).squeeze()"
   ]
  },
  {
   "cell_type": "code",
   "execution_count": 255,
   "id": "273dbd3a",
   "metadata": {},
   "outputs": [
    {
     "data": {
      "text/plain": [
       "(array([4.991e+03, 3.000e+00, 1.000e+00, 0.000e+00, 1.000e+00, 3.000e+00,\n",
       "        0.000e+00, 0.000e+00, 0.000e+00, 1.000e+00]),\n",
       " array([0.        , 0.20564398, 0.41128796, 0.616932  , 0.8225759 ,\n",
       "        1.0282199 , 1.233864  , 1.439508  , 1.6451519 , 1.8507959 ,\n",
       "        2.0564399 ], dtype=float32),\n",
       " <BarContainer object of 10 artists>)"
      ]
     },
     "execution_count": 255,
     "metadata": {},
     "output_type": "execute_result"
    },
    {
     "data": {
      "image/png": "[encoded data removed]",
      "text/plain": [
       "<Figure size 432x288 with 1 Axes>"
      ]
     },
     "metadata": {
      "needs_background": "light"
     },
     "output_type": "display_data"
    }
   ],
   "source": [
    "plt.hist(get_preds(noncontextual_data_loader))"
   ]
  },
  {
   "cell_type": "code",
   "execution_count": 256,
   "id": "0808b040",
   "metadata": {},
   "outputs": [
    {
     "data": {
      "text/plain": [
       "(array([   6.,    5.,   18.,  209., 2042., 2100.,  512.,   93.,   11.,\n",
       "           4.]),\n",
       " array([0.       , 0.3131166, 0.6262332, 0.9393498, 1.2524664, 1.565583 ,\n",
       "        1.8786995, 2.191816 , 2.5049329, 2.8180494, 3.131166 ],\n",
       "       dtype=float32),\n",
       " <BarContainer object of 10 artists>)"
      ]
     },
     "execution_count": 256,
     "metadata": {},
     "output_type": "execute_result"
    },
    {
     "data": {
      "image/png": "[encoded data removed]",
      "text/plain": [
       "<Figure size 432x288 with 1 Axes>"
      ]
     },
     "metadata": {
      "needs_background": "light"
     },
     "output_type": "display_data"
    }
   ],
   "source": [
    "plt.hist(get_preds(contextual_data_loader))"
   ]
  },
  {
   "cell_type": "markdown",
   "id": "85e5eb45",
   "metadata": {},
   "source": [
    "# Correlation investigation"
   ]
  },
  {
   "cell_type": "code",
   "execution_count": 379,
   "id": "8f084790",
   "metadata": {},
   "outputs": [
    {
     "name": "stdout",
     "output_type": "stream",
     "text": [
      "0.04595146895806804\n"
     ]
    }
   ],
   "source": [
    "from scipy.stats import pearsonr\n",
    "preds_regressor = get_preds_regressor(contextual_data_loader)\n",
    "preds_classifier_raw, preds_classifier_boosted, _ = get_preds_classifier(contextual_data_loader)\n",
    "\n",
    "corr, _ = pearsonr(preds_regressor/max(preds_regressor), preds_classifier_raw)\n",
    "print(corr)"
   ]
  },
  {
   "cell_type": "code",
   "execution_count": 380,
   "id": "bfd244fc",
   "metadata": {},
   "outputs": [
    {
     "name": "stdout",
     "output_type": "stream",
     "text": [
      "0.36061779001635236\n"
     ]
    }
   ],
   "source": [
    "corr, _ = pearsonr(preds_regressor/max(preds_regressor), preds_classifier_boosted)\n",
    "print(corr)"
   ]
  },
  {
   "cell_type": "code",
   "execution_count": 381,
   "id": "2a80fed0",
   "metadata": {},
   "outputs": [
    {
     "data": {
      "text/plain": [
       "(array([   9.,   54.,  239.,  872., 1799., 1259.,  562.,  176.,   28.,\n",
       "           2.]),\n",
       " array([0.51740193, 0.5556043 , 0.59380656, 0.6320089 , 0.6702112 ,\n",
       "        0.70841354, 0.7466159 , 0.7848182 , 0.8230205 , 0.8612228 ,\n",
       "        0.89942515], dtype=float32),\n",
       " <BarContainer object of 10 artists>)"
      ]
     },
     "execution_count": 381,
     "metadata": {},
     "output_type": "execute_result"
    },
    {
     "data": {
      "image/png": "[encoded data removed]",
      "text/plain": [
       "<Figure size 432x288 with 1 Axes>"
      ]
     },
     "metadata": {
      "needs_background": "light"
     },
     "output_type": "display_data"
    }
   ],
   "source": [
    "plt.hist(preds_classifier_boosted)"
   ]
  },
  {
   "cell_type": "code",
   "execution_count": 382,
   "id": "f4d2dd7a",
   "metadata": {},
   "outputs": [
    {
     "data": {
      "text/plain": [
       "(array([2.000e+00, 0.000e+00, 0.000e+00, 0.000e+00, 1.000e+00, 0.000e+00,\n",
       "        2.000e+00, 4.000e+00, 1.000e+01, 4.981e+03]),\n",
       " array([0.7143609 , 0.7429248 , 0.7714887 , 0.80005264, 0.82861656,\n",
       "        0.8571805 , 0.88574433, 0.91430825, 0.94287217, 0.9714361 ,\n",
       "        1.        ], dtype=float32),\n",
       " <BarContainer object of 10 artists>)"
      ]
     },
     "execution_count": 382,
     "metadata": {},
     "output_type": "execute_result"
    },
    {
     "data": {
      "image/png": "[encoded data removed]",
      "text/plain": [
       "<Figure size 432x288 with 1 Axes>"
      ]
     },
     "metadata": {
      "needs_background": "light"
     },
     "output_type": "display_data"
    }
   ],
   "source": [
    "plt.hist(preds_classifier_raw)"
   ]
  },
  {
   "cell_type": "code",
   "execution_count": 383,
   "id": "85d6493b",
   "metadata": {},
   "outputs": [
    {
     "data": {
      "text/plain": [
       "(array([   6.,    5.,   18.,  209., 2042., 2100.,  512.,   93.,   11.,\n",
       "           4.]),\n",
       " array([0. , 0.1, 0.2, 0.3, 0.4, 0.5, 0.6, 0.7, 0.8, 0.9, 1. ],\n",
       "       dtype=float32),\n",
       " <BarContainer object of 10 artists>)"
      ]
     },
     "execution_count": 383,
     "metadata": {},
     "output_type": "execute_result"
    },
    {
     "data": {
      "image/png": "[encoded data removed]",
      "text/plain": [
       "<Figure size 432x288 with 1 Axes>"
      ]
     },
     "metadata": {
      "needs_background": "light"
     },
     "output_type": "display_data"
    }
   ],
   "source": [
    "plt.hist(preds_regressor/max(preds_regressor))"
   ]
  },
  {
   "cell_type": "markdown",
   "id": "36818e3b",
   "metadata": {},
   "source": [
    "# Sampler tests"
   ]
  },
  {
   "cell_type": "code",
   "execution_count": 38,
   "id": "b2d8d37b",
   "metadata": {},
   "outputs": [],
   "source": [
    "i=0\n",
    "j = []\n",
    "for i in range(10000):\n",
    "    j.append(np.squeeze(np.reshape(sample(6), (1,-1))))"
   ]
  },
  {
   "cell_type": "code",
   "execution_count": 39,
   "id": "cfd7ac2f",
   "metadata": {},
   "outputs": [
    {
     "data": {
      "image/png": "[encoded data removed]",
      "text/plain": [
       "<Figure size 432x288 with 24 Axes>"
      ]
     },
     "metadata": {
      "needs_background": "light"
     },
     "output_type": "display_data"
    }
   ],
   "source": [
    "import matplotlib.pyplot as plt\n",
    "for i in range(24):\n",
    "    x = [x[i] for x in j]\n",
    "    ax = plt.subplot(4,6,i+1)\n",
    "    ax.hist(x)"
   ]
  },
  {
   "cell_type": "code",
   "execution_count": 6,
   "id": "79b888e9",
   "metadata": {},
   "outputs": [
    {
     "name": "stdout",
     "output_type": "stream",
     "text": [
      "0\n",
      "20000\n",
      "40000\n",
      "60000\n",
      "80000\n",
      "100000\n",
      "120000\n",
      "140000\n",
      "160000\n",
      "180000\n",
      "200000\n",
      "220000\n",
      "240000\n",
      "260000\n",
      "hurra\n",
      "280000\n",
      "300000\n",
      "320000\n",
      "340000\n",
      "360000\n",
      "380000\n",
      "400000\n",
      "420000\n",
      "440000\n",
      "460000\n",
      "480000\n",
      "500000\n",
      "520000\n",
      "540000\n",
      "hurra\n",
      "560000\n",
      "580000\n",
      "600000\n",
      "620000\n",
      "640000\n",
      "660000\n",
      "680000\n",
      "700000\n",
      "720000\n",
      "740000\n",
      "760000\n",
      "780000\n",
      "800000\n",
      "820000\n",
      "840000\n",
      "860000\n",
      "880000\n",
      "900000\n",
      "920000\n",
      "940000\n",
      "960000\n",
      "980000\n",
      "1000000\n",
      "1020000\n",
      "1040000\n",
      "1060000\n",
      "1080000\n",
      "1100000\n",
      "1120000\n",
      "1140000\n",
      "1160000\n",
      "1180000\n",
      "1200000\n",
      "1220000\n",
      "1240000\n",
      "1260000\n",
      "1280000\n",
      "1300000\n",
      "1320000\n",
      "1340000\n",
      "1360000\n",
      "1380000\n",
      "1400000\n",
      "1420000\n",
      "1440000\n",
      "1460000\n",
      "1480000\n",
      "1500000\n",
      "1520000\n",
      "hurra\n",
      "1540000\n",
      "1560000\n",
      "1580000\n",
      "1600000\n",
      "1620000\n",
      "1640000\n",
      "1660000\n",
      "1680000\n",
      "1700000\n",
      "1720000\n",
      "1740000\n",
      "1760000\n",
      "1780000\n",
      "1800000\n",
      "1820000\n",
      "1840000\n",
      "1860000\n",
      "1880000\n",
      "1900000\n",
      "1920000\n",
      "1940000\n",
      "1960000\n",
      "1980000\n"
     ]
    }
   ],
   "source": [
    "from itertools import combinations\n",
    "i=0\n",
    "j2 = []\n",
    "for i in range(2000000):\n",
    "    a = sample(7)\n",
    "    if i % 20000 == 0:\n",
    "        print(i)\n",
    "    if not check_contexuality(a):\n",
    "        print('hurra')\n",
    "        i+=1\n",
    "        j2.append(a)"
   ]
  },
  {
   "cell_type": "code",
   "execution_count": 7,
   "id": "f07799ad",
   "metadata": {},
   "outputs": [
    {
     "data": {
      "text/plain": [
       "[array([[0.04369893, 0.01917571, 0.01053557, 0.02494159, 0.85541383,\n",
       "         0.09107675, 0.15913031],\n",
       "        [0.18060974, 0.27177971, 0.01503045, 0.03672313, 0.00497633,\n",
       "         0.77936832, 0.01567735],\n",
       "        [0.57581613, 0.00639031, 0.05112916, 0.83544856, 0.01503124,\n",
       "         0.08373091, 0.06517837],\n",
       "        [0.19987519, 0.70265427, 0.92330482, 0.10288671, 0.1245786 ,\n",
       "         0.04582402, 0.76001398]]),\n",
       " array([[0.12458359, 0.43419257, 0.09336704, 0.4621615 , 0.15427405,\n",
       "         0.08658109, 0.01654391],\n",
       "        [0.03429874, 0.00955867, 0.37789389, 0.08230243, 0.31087138,\n",
       "         0.14300857, 0.82858879],\n",
       "        [0.12127195, 0.03706836, 0.45109689, 0.00298393, 0.0753156 ,\n",
       "         0.75855161, 0.14233842],\n",
       "        [0.71984572, 0.5191804 , 0.07764218, 0.45255215, 0.45953897,\n",
       "         0.01185873, 0.01252888]]),\n",
       " array([[2.94107461e-02, 1.54903812e-01, 8.75319076e-01, 1.17802295e-02,\n",
       "         1.94822577e-02, 8.90729082e-03, 1.34050661e-01],\n",
       "        [1.76742074e-01, 8.45148878e-02, 5.78682115e-04, 9.31573385e-01,\n",
       "         2.00333214e-02, 2.28958438e-02, 6.03297678e-01],\n",
       "        [7.83483462e-01, 7.20993946e-01, 6.80345378e-02, 2.77353495e-02,\n",
       "         1.23208769e-02, 7.28441048e-01, 7.21021585e-02],\n",
       "        [1.03637179e-02, 3.95873536e-02, 5.60677036e-02, 2.89110362e-02,\n",
       "         9.48163544e-01, 2.39755817e-01, 1.90549502e-01]])]"
      ]
     },
     "execution_count": 7,
     "metadata": {},
     "output_type": "execute_result"
    }
   ],
   "source": [
    "j2"
   ]
  },
  {
   "cell_type": "code",
   "execution_count": 22,
   "id": "a0f146b2",
   "metadata": {},
   "outputs": [
    {
     "data": {
      "text/plain": [
       "(False,\n",
       " array([ 0.33540764, -0.28345917, -3.23104162,  0.33174044, -3.37607771,\n",
       "        -0.50014693, -0.80389516, -0.16810414,  3.39467792, -0.31314023,\n",
       "         2.56279055,  2.25904232,  0.44709546, -3.26072268, -0.38479191,\n",
       "        -0.68854013,  0.30205937,  3.17799015,  2.87424192, -0.529828  ,\n",
       "        -0.83357622,  2.04235456, -0.17177135, -3.87958949, -1.00365872,\n",
       "        -1.30740694, -0.31680744,  2.55912334,  2.25537512, -1.1486948 ,\n",
       "        -1.45244303,  1.42348775, -3.26438989, -0.38845912, -0.69220734,\n",
       "        -4.09627726, -4.40002548, -1.52409471, -0.5334952 , -0.83724343,\n",
       "         2.03868735, -1.6691308 , -0.20145241,  2.67447836,  2.37073014,\n",
       "        -1.03333978, -1.337088  ,  1.53884277,  2.52944228,  2.22569405,\n",
       "         5.10162483,  1.39380669, -0.41814018, -0.7218884 ,  2.15404237,\n",
       "        -1.55377577,  2.00900629, -1.03700699, -1.34075521,  1.53517556,\n",
       "        -2.17264258,  1.39013948, -1.55744298,  1.5054945 ]))"
      ]
     },
     "execution_count": 22,
     "metadata": {},
     "output_type": "execute_result"
    }
   ],
   "source": [
    "check_contexuality(j2[2])"
   ]
  }
 ],
 "metadata": {
  "kernelspec": {
   "display_name": "Python 3 (ipykernel)",
   "language": "python",
   "name": "python3"
  },
  "language_info": {
   "codemirror_mode": {
    "name": "ipython",
    "version": 3
   },
   "file_extension": ".py",
   "mimetype": "text/x-python",
   "name": "python",
   "nbconvert_exporter": "python",
   "pygments_lexer": "ipython3",
   "version": "3.8.10"
  }
 },
 "nbformat": 4,
 "nbformat_minor": 5
}
