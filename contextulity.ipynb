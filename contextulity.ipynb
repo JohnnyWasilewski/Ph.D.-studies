{
 "cells": [
  {
   "cell_type": "code",
   "execution_count": null,
   "id": "a47d01aa",
   "metadata": {},
   "outputs": [],
   "source": []
  },
  {
   "cell_type": "code",
   "execution_count": null,
   "id": "c5c3c690",
   "metadata": {},
   "outputs": [],
   "source": [
    "# import numpy as np\n",
    "from itertools import combinations\n",
    "\n",
    "def sample(n: int, contextual:bool = True):\n",
    "    table = np.random.uniform(0,1,(4,n))\n",
    "    table[:,0] /= np.sum(table[:,0])\n",
    "    for idx in range(n):\n",
    "        next_idx = (idx+1) % n\n",
    "        table[[0,1], next_idx] = table[[0,1], next_idx] * np.sum(table[[0,2],idx]) / np.sum(table[[0,1],next_idx])\n",
    "        table[[2,3], next_idx] = table[[2,3], next_idx] * np.sum(table[[1,3],idx]) / np.sum(table[[2,3],next_idx])    \n",
    "    return table\n",
    "     \n",
    "\n",
    "def get_coefs(n):\n",
    "    for i in np.arange(1,n+2,2):\n",
    "        comb = list(combinations(np.arange(n), i))\n",
    "        buf = np.ones((len(comb), n))\n",
    "        for idx, c in enumerate(comb):\n",
    "            buf[idx, c] *= -1\n",
    "        coefs = buf if not 'coefs' in locals() else np.vstack((coefs, buf))\n",
    "    return coefs\n",
    "\n",
    "def E(table):\n",
    "    return np.tile(table[0, :] + table[3, :] - table[1, :] - table[2, :], (2**(table.shape[1]-1), 1))\n",
    "\n",
    "def check_noncontexuality(table):\n",
    "    n = table.shape[1]\n",
    "    results = np.sum(np.multiply(E(table), get_coefs(n)), axis = 1)\n",
    "    #print(results.shape)\n",
    "    return np.all(results <= n-2), results"
   ]
  },
  {
   "cell_type": "code",
   "execution_count": 80,
   "id": "eeb404ba",
   "metadata": {},
   "outputs": [
    {
     "data": {
      "text/plain": [
       "(True, array([0., 0., 0., 0., 0., 0., 0., 0., 0., 0., 0., 0., 0., 0., 0., 0.]))"
      ]
     },
     "execution_count": 80,
     "metadata": {},
     "output_type": "execute_result"
    }
   ],
   "source": [
    "check_noncontexuality(1/4 * np.ones((4,5)))"
   ]
  },
  {
   "cell_type": "code",
   "execution_count": 3,
   "id": "13accb62",
   "metadata": {},
   "outputs": [],
   "source": [
    "def sampler(num:int = 10000, dim:int = 5, noncontextual:bool = True):\n",
    "    samples = list()\n",
    "    while len(samples) < num:\n",
    "        s = sample(dim)\n",
    "        if noncontextual == check_noncontexuality(s)[0]:\n",
    "            samples.append(s)\n",
    "            if len(samples) % 1000 == 0:\n",
    "                print(len(samples))\n",
    "    return samples"
   ]
  },
  {
   "cell_type": "code",
   "execution_count": 4,
   "id": "0f5ed70f",
   "metadata": {},
   "outputs": [],
   "source": [
    "import torch\n",
    "from torch import nn\n",
    "from torch.utils.data import Dataset, DataLoader\n",
    "from sklearn.model_selection import train_test_split\n",
    "import torch.optim as optim\n",
    "\n",
    "import matplotlib.pyplot as plt\n",
    "\n",
    "device = torch.device(\"cuda:0\" if torch.cuda.is_available() else \"cpu\")\n",
    "\n",
    "class MyDataset(Dataset):\n",
    "    def __init__(self, X, y):\n",
    "        self.X = torch.FloatTensor(X)\n",
    "        self.y = torch.FloatTensor(y)\n",
    "    \n",
    "    def __getitem__(self, idx):\n",
    "        return self.X[idx], self.y[idx]\n",
    "    \n",
    "    def __len__(self):\n",
    "        return len(self.y)"
   ]
  },
  {
   "cell_type": "code",
   "execution_count": 5,
   "id": "e1116c34",
   "metadata": {},
   "outputs": [],
   "source": [
    "def NL(behaviour, noncontextual, num=5000):\n",
    "    return np.min(1/10*np.sum(np.reshape(np.abs(behaviour - noncontextual), (num, -1)), axis=1))"
   ]
  },
  {
   "cell_type": "code",
   "execution_count": 57,
   "id": "9e1cb40e",
   "metadata": {},
   "outputs": [],
   "source": [
    "def NL2(behaviour):\n",
    "    return np.sum(np.abs(   behaviour - 1/4 * np.ones((4,5))   ))"
   ]
  },
  {
   "cell_type": "code",
   "execution_count": 49,
   "id": "febc5637",
   "metadata": {},
   "outputs": [],
   "source": [
    "a = next(iter(noncontextual_data_loader))"
   ]
  },
  {
   "cell_type": "code",
   "execution_count": 58,
   "id": "34985130",
   "metadata": {},
   "outputs": [
    {
     "data": {
      "text/plain": [
       "1.6991429505869746"
      ]
     },
     "execution_count": 58,
     "metadata": {},
     "output_type": "execute_result"
    }
   ],
   "source": [
    "NL2(a[0][0].numpy())"
   ]
  },
  {
   "cell_type": "code",
   "execution_count": null,
   "id": "91bca07b",
   "metadata": {},
   "outputs": [],
   "source": [
    "def NL3(behaviour):\n",
    "        return 1/10* np.sum(np.abs(behaviour - 1/4 * np.ones((4,5)) ))"
   ]
  },
  {
   "cell_type": "code",
   "execution_count": 47,
   "id": "36a82391",
   "metadata": {},
   "outputs": [
    {
     "data": {
      "text/plain": [
       "array([[0.25, 0.25, 0.25, 0.25, 0.25],\n",
       "       [0.25, 0.25, 0.25, 0.25, 0.25],\n",
       "       [0.25, 0.25, 0.25, 0.25, 0.25],\n",
       "       [0.25, 0.25, 0.25, 0.25, 0.25]])"
      ]
     },
     "execution_count": 47,
     "metadata": {},
     "output_type": "execute_result"
    }
   ],
   "source": [
    "1/4*np.ones((4,5))"
   ]
  },
  {
   "cell_type": "markdown",
   "id": "2a50d924",
   "metadata": {},
   "source": [
    "# Simple classifier"
   ]
  },
  {
   "cell_type": "code",
   "execution_count": 6,
   "id": "92386351",
   "metadata": {},
   "outputs": [
    {
     "name": "stdout",
     "output_type": "stream",
     "text": [
      "1000\n"
     ]
    }
   ],
   "source": [
    "num = 1000\n",
    "noncontextual_test = sampler(num, 5, True)\n",
    "contextual_test = np.load('contextual_test.npy')\n",
    "#data_X_test = np.concatenate((noncontextual_test, contextual_test))\n",
    "m1 = np.concatenate((np.zeros(num), np.array(list(map(lambda x: NL(x, noncontextual_test, num), contextual_test)))))\n",
    "m2 = np.concatenate((np.zeros(num), np.ones(num)))\n",
    "#data_y_test = np.transpose(np.vstack((m1,m2)))"
   ]
  },
  {
   "cell_type": "code",
   "execution_count": null,
   "id": "179993d2",
   "metadata": {},
   "outputs": [],
   "source": [
    "# Odległość od Ściany zamiast NL - CABELLO"
   ]
  },
  {
   "cell_type": "code",
   "execution_count": 81,
   "id": "c961154f",
   "metadata": {},
   "outputs": [],
   "source": [
    "contextual = np.load('contectual.npy')\n"
   ]
  },
  {
   "cell_type": "code",
   "execution_count": 83,
   "id": "6da7fd06",
   "metadata": {},
   "outputs": [],
   "source": [
    "data_loader_test = DataLoader(MyDataset(contextual, np.ones(5000)), batch_size)\n"
   ]
  },
  {
   "cell_type": "code",
   "execution_count": 7,
   "id": "2ad2509a",
   "metadata": {
    "scrolled": true
   },
   "outputs": [],
   "source": [
    "num = 100\n",
    "noncontextual = sampler(num, 5, True)\n",
    "contextual = np.load('contectual.npy')\n",
    "contextual = sampler(num, 5, False)\n",
    "\n",
    "data_X = np.concatenate((noncontextual, contextual))\n",
    "m1 = np.concatenate((np.zeros(num), np.array(list(map(lambda x: NL(x, noncontextual, num), contextual)))))\n",
    "m2 = np.concatenate((np.zeros(num), np.ones(num)))\n",
    "data_y = np.transpose(np.vstack((m1,m2)))"
   ]
  },
  {
   "cell_type": "code",
   "execution_count": 8,
   "id": "ed672814",
   "metadata": {},
   "outputs": [],
   "source": [
    "class mlp(nn.Module):\n",
    "    def __init__(self, input_size):\n",
    "        super(mlp, self).__init__()\n",
    "        self.l1 = nn.Linear(input_size, 50)\n",
    "        self.l2 = nn.Linear(50, 25)\n",
    "        self.l3 = nn.Linear(25, 1)\n",
    "        self.relu = nn.ReLU()\n",
    "        self.flatten = nn.Flatten()\n",
    "    def forward(self, x):\n",
    "        x = self.flatten(x)\n",
    "        x = self.relu(self.l1(x))\n",
    "        x = self.relu(self.l2(x))\n",
    "        x = self.l3(x)\n",
    "        return x\n",
    "    \n",
    "def binary_acc(y_pred, y_test):\n",
    "    y_pred_tag = torch.round(torch.sigmoid(y_pred))\n",
    "\n",
    "    correct_results_sum = (y_pred_tag == y_test).sum().float()\n",
    "    acc = correct_results_sum/y_test.shape[0]\n",
    "    acc = torch.round(acc * 100)\n",
    "    \n",
    "    return acc"
   ]
  },
  {
   "cell_type": "code",
   "execution_count": 9,
   "id": "9c1e50fc",
   "metadata": {},
   "outputs": [
    {
     "name": "stderr",
     "output_type": "stream",
     "text": [
      "/tmp/ipykernel_4125/1125845353.py:13: UserWarning: Creating a tensor from a list of numpy.ndarrays is extremely slow. Please consider converting the list to a single numpy.ndarray with numpy.array() before converting to a tensor. (Triggered internally at  ../torch/csrc/utils/tensor_new.cpp:201.)\n",
      "  self.X = torch.FloatTensor(X)\n"
     ]
    }
   ],
   "source": [
    "batch_size = 20\n",
    "\n",
    "X_train, X_test, y_train, y_test = train_test_split(data_X, data_y)\n",
    "data_loader_train = DataLoader(MyDataset(X_train, y_train[:,1]), batch_size)\n",
    "data_loader_test = DataLoader(MyDataset(X_test, y_test[:,1]), batch_size)\n",
    "\n",
    "data_loader_train_r = DataLoader(MyDataset(X_train, y_train[:,0]), batch_size)\n",
    "data_loader_test_r = DataLoader(MyDataset(X_test, y_test[:,0]), batch_size)\n",
    "\n",
    "\n",
    "contextual_data_loader = DataLoader(MyDataset(contextual, np.zeros(num)), batch_size)\n",
    "noncontextual_data_loader = DataLoader(MyDataset(noncontextual, np.ones(num)), batch_size)\n",
    "\n",
    "input_size = np.prod(X_train[0].shape)\n",
    "\n",
    "classifier = mlp(input_size)\n",
    "criterion = nn.BCEWithLogitsLoss()\n",
    "optimizer = optim.Adam(classifier.parameters(), lr=0.01)\n",
    "\n",
    "classifier.train()\n",
    "classifier.to(device)\n",
    "\n",
    "epochs = 100 \n",
    "alpha = 0.0001"
   ]
  },
  {
   "cell_type": "code",
   "execution_count": 10,
   "id": "fe070323",
   "metadata": {},
   "outputs": [
    {
     "name": "stdout",
     "output_type": "stream",
     "text": [
      "Epoch 020: | Loss: 0.03242 | Acc: 100.000\n",
      "Epoch 040: | Loss: 0.02028 | Acc: 100.000\n",
      "Epoch 060: | Loss: 0.01822 | Acc: 100.000\n",
      "Epoch 080: | Loss: 0.01670 | Acc: 100.000\n"
     ]
    }
   ],
   "source": [
    "for epoch in range(1, epochs):\n",
    "    epoch_loss = 0\n",
    "    epoch_acc = 0\n",
    "    for X, y in data_loader_train:\n",
    "        optimizer.zero_grad()\n",
    "        X, y = X.to(device), y.to(device)\n",
    "        y_hat = classifier(X)\n",
    "        params = torch.cat([x.view(-1) for x in classifier.parameters()])\n",
    "        l2_regularization = alpha * torch.norm(params, 2) ** 2\n",
    "        loss = criterion(y_hat, y.unsqueeze(1)) + l2_regularization\n",
    "        acc = binary_acc(y_hat, y.unsqueeze(1))\n",
    "        loss.backward()\n",
    "        optimizer.step()\n",
    "        epoch_loss += loss.item()\n",
    "        epoch_acc += acc.item()\n",
    "        \n",
    "    if epoch % 20 ==0:\n",
    "        print(f'Epoch {epoch+0:03}: | Loss: {epoch_loss/len(data_loader_train):.5f} | Acc: {epoch_acc/len(data_loader_train):.3f}')"
   ]
  },
  {
   "cell_type": "code",
   "execution_count": 11,
   "id": "b7571277",
   "metadata": {},
   "outputs": [],
   "source": [
    "classifier.eval()\n",
    "\n",
    "y_preds = list()\n",
    "y_true = list()\n",
    "res = list()\n",
    "with torch.no_grad():\n",
    "    for X, y in data_loader_test:\n",
    "        X = X.to(device)\n",
    "        res.append(classifier(X))\n",
    "        y_hat = torch.sigmoid(classifier(X)).cpu().numpy()\n",
    "        y_preds.append(y_hat)\n",
    "        y_true.append(y.numpy())\n",
    "        \n",
    "\n",
    "y_pred_classifier = np.round(np.concatenate(y_preds).squeeze())\n",
    "y_list = np.concatenate(y_true).squeeze()"
   ]
  },
  {
   "cell_type": "code",
   "execution_count": 12,
   "id": "3b0150a0",
   "metadata": {},
   "outputs": [
    {
     "name": "stdout",
     "output_type": "stream",
     "text": [
      "Counter({1.0: 27, 0.0: 23})\n",
      "Counter({0.0: 25, 1.0: 25})\n"
     ]
    }
   ],
   "source": [
    "from collections import Counter\n",
    "print(Counter(y_pred_classifier))\n",
    "print(Counter(y_list))"
   ]
  },
  {
   "cell_type": "code",
   "execution_count": 13,
   "id": "420c064b",
   "metadata": {},
   "outputs": [
    {
     "name": "stdout",
     "output_type": "stream",
     "text": [
      "              precision    recall  f1-score   support\n",
      "\n",
      "         0.0       0.84      0.91      0.87        23\n",
      "         1.0       0.92      0.85      0.88        27\n",
      "\n",
      "    accuracy                           0.88        50\n",
      "   macro avg       0.88      0.88      0.88        50\n",
      "weighted avg       0.88      0.88      0.88        50\n",
      "\n"
     ]
    }
   ],
   "source": [
    "from sklearn.metrics import confusion_matrix, classification_report\n",
    "print(classification_report(y_pred_classifier, y_list))"
   ]
  },
  {
   "cell_type": "markdown",
   "id": "ddb3a183",
   "metadata": {},
   "source": [
    "## Uncertainty estimation - Laplace"
   ]
  },
  {
   "cell_type": "code",
   "execution_count": 14,
   "id": "dbdc7cdb",
   "metadata": {},
   "outputs": [],
   "source": [
    "device = 'cuda:0' if torch.cuda.is_available() else 'cpu'"
   ]
  },
  {
   "cell_type": "code",
   "execution_count": 15,
   "id": "ba345d5c",
   "metadata": {},
   "outputs": [],
   "source": [
    "classifier.eval()\n",
    "classifier.to(device)\n",
    "criterion = nn.BCEWithLogitsLoss()\n",
    "\n",
    "# Energy function hessian calculation\n",
    "def inverse_hessian():\n",
    "    weights_num = np.sum([np.prod(v.shape) for v in classifier.parameters()])\n",
    "    A = 0.01*torch.eye(weights_num)\n",
    "    for index, batch in enumerate(data_loader_train):\n",
    "        for x,y in zip(batch[0], batch[1]):\n",
    "            x,y = x.to(device).unsqueeze(0), y.unsqueeze(0).unsqueeze(0).to(device)            \n",
    "            grads = torch.autograd.grad(criterion(classifier(x), y), classifier.parameters())\n",
    "            #grads = torch.cat([param.grad.view(-1) for param in classifier.parameters()])\n",
    "            flat = torch.cat([g.view(-1) for g in grads]).unsqueeze(1).to('cpu')\n",
    "            #print((flat @ torch.t(flat)).shape)\n",
    "            A = A - (A @ flat @ torch.t(flat)  @ A)/(1+torch.t(flat) @ A @ flat)\n",
    "        if (index) % 10 == 0:\n",
    "            print(index, torch.norm(A))\n",
    "    return A\n",
    "\n",
    "\n",
    "# Standard deviation calculation\n",
    "def compute_sigma(x):\n",
    "    grads = torch.autograd.grad(classifier(x), classifier.parameters())\n",
    "    flat = torch.cat([g.view(-1) for g in grads]).unsqueeze(1).to('cpu')\n",
    "    sigma = torch.t(flat) @ A2 @ flat\n",
    "    return sigma"
   ]
  },
  {
   "cell_type": "code",
   "execution_count": 16,
   "id": "9d38cae1",
   "metadata": {},
   "outputs": [
    {
     "name": "stdout",
     "output_type": "stream",
     "text": [
      "0 tensor(0.4849)\n"
     ]
    }
   ],
   "source": [
    "A2 = inverse_hessian()"
   ]
  },
  {
   "cell_type": "code",
   "execution_count": 17,
   "id": "13bb5b9e",
   "metadata": {},
   "outputs": [
    {
     "data": {
      "text/plain": [
       "[<matplotlib.lines.Line2D at 0x7f73467e4790>]"
      ]
     },
     "execution_count": 17,
     "metadata": {},
     "output_type": "execute_result"
    },
    {
     "data": {
      "image/png": "[encoded data removed]",
      "text/plain": [
       "<Figure size 432x288 with 1 Axes>"
      ]
     },
     "metadata": {
      "needs_background": "light"
     },
     "output_type": "display_data"
    }
   ],
   "source": [
    "plt.plot(np.sum(A2.numpy(), axis=1))"
   ]
  },
  {
   "cell_type": "code",
   "execution_count": 18,
   "id": "b7974794",
   "metadata": {},
   "outputs": [],
   "source": [
    "import math\n",
    "def sigmoid(x):\n",
    "     return 1 / (1 + np.exp(-x))"
   ]
  },
  {
   "cell_type": "code",
   "execution_count": 19,
   "id": "1a2c4cfc",
   "metadata": {},
   "outputs": [],
   "source": [
    "def uncertainty_prediction(x, model):\n",
    "    model.eval()\n",
    "    model.to('cpu')\n",
    "    var = compute_sigma(x.unsqueeze(0))\n",
    "    ys = np.random.normal(model(x.unsqueeze(0)).detach().numpy()[0][0], var.numpy()[0][0], size=100000)\n",
    "    preds_mcmc = np.mean(sigmoid(ys))\n",
    "    grads = torch.autograd.grad(model(x.unsqueeze(0)), model.parameters())\n",
    "    flat = torch.cat([g.view(-1) for g in grads]).unsqueeze(0).to('cpu')\n",
    "    params = torch.concat([p.view(-1) for p in model.parameters()])\n",
    "    preds_boosted = torch.sigmoid(1/np.sqrt(1+np.pi*(var/8)) * flat @ params)\n",
    "    preds_boosted_mackay = torch.sigmoid(1/np.sqrt(1+np.pi*(var/8)) * model(x.unsqueeze(0)))\n",
    "    preds_raw = torch.sigmoid(model(x.unsqueeze(0)))\n",
    "\n",
    "    return preds_boosted, preds_boosted_mackay, preds_raw, preds_mcmc, var\n",
    "\n",
    "\n",
    "def get_preds_classifier(data_loader):\n",
    "    results = list()\n",
    "    preds_boosted, preds_boosted_mackay, preds_raw, preds_mcmc, var = list(), list(), list(), list(), list()\n",
    "    for index, batch in enumerate(data_loader):\n",
    "        for x in batch[0]:\n",
    "            uncertainty = uncertainty_prediction(x, classifier)\n",
    "            preds_boosted.append(uncertainty[0])\n",
    "            preds_boosted_mackay.append(uncertainty[1])\n",
    "            preds_raw.append(uncertainty[2])\n",
    "            preds_mcmc.append(uncertainty[3])\n",
    "            var.append(uncertainty[4])\n",
    "    preds_raw = torch.concat(preds_raw).detach().numpy().squeeze()\n",
    "    preds_boosted = torch.concat(preds_boosted).detach().numpy().squeeze()\n",
    "    preds_boosted_mackay = torch.concat(preds_boosted_mackay).detach().numpy().squeeze()\n",
    "    var = torch.concat(var).detach().numpy().squeeze()\n",
    "    return preds_raw, preds_boosted, preds_boosted_mackay, preds_mcmc, var"
   ]
  },
  {
   "cell_type": "code",
   "execution_count": 20,
   "id": "1cd06faa",
   "metadata": {},
   "outputs": [
    {
     "name": "stdout",
     "output_type": "stream",
     "text": [
      "0\n",
      "1\n",
      "2\n",
      "3\n",
      "4\n"
     ]
    }
   ],
   "source": [
    "for index, batch in enumerate(contextual_data_loader):\n",
    "    print(index)\n"
   ]
  },
  {
   "cell_type": "code",
   "execution_count": 21,
   "id": "c7822f55",
   "metadata": {
    "scrolled": true
   },
   "outputs": [],
   "source": [
    "a = get_preds_classifier(contextual_data_loader)"
   ]
  },
  {
   "cell_type": "code",
   "execution_count": 22,
   "id": "517e5ec3",
   "metadata": {},
   "outputs": [
    {
     "data": {
      "image/png": "[encoded data removed]",
      "text/plain": [
       "<Figure size 432x288 with 4 Axes>"
      ]
     },
     "metadata": {
      "needs_background": "light"
     },
     "output_type": "display_data"
    }
   ],
   "source": [
    "for i in range(4):\n",
    "    ax = plt.subplot(2,2, i+1)\n",
    "    ax.hist(a[i])\n",
    "plt.show()"
   ]
  },
  {
   "cell_type": "markdown",
   "id": "08c78854",
   "metadata": {},
   "source": [
    "## Uncertainty estimation - MC Dropout"
   ]
  },
  {
   "cell_type": "code",
   "execution_count": null,
   "id": "41fcc250",
   "metadata": {},
   "outputs": [],
   "source": []
  },
  {
   "cell_type": "markdown",
   "id": "1283304c",
   "metadata": {},
   "source": [
    "# Distance based learning"
   ]
  },
  {
   "cell_type": "code",
   "execution_count": 23,
   "id": "a69a0c74",
   "metadata": {},
   "outputs": [],
   "source": [
    "class mlp_r(nn.Module):\n",
    "    def __init__(self, input_size):\n",
    "        super(mlp_r, self).__init__()\n",
    "        self.l1 = nn.Linear(input_size, 128)\n",
    "        self.l2 = nn.Linear(128, 64)\n",
    "        self.l3 = nn.Linear(64, 1)\n",
    "        self.relu = nn.ReLU()\n",
    "        self.flatten = nn.Flatten()\n",
    "    def forward(self, x):\n",
    "        x = self.flatten(x)\n",
    "        x = self.relu(self.l1(x))\n",
    "        x = self.relu(self.l2(x))\n",
    "        x = self.relu(self.l3(x))\n",
    "        return x"
   ]
  },
  {
   "cell_type": "code",
   "execution_count": 25,
   "id": "d1a3fdaf",
   "metadata": {},
   "outputs": [],
   "source": [
    "input_size = np.prod(X_train[0].shape)\n",
    "\n",
    "regressor = mlp_r(input_size)\n",
    "criterion = nn.MSELoss()\n",
    "optimizer = optim.Adam(regressor.parameters(), lr=0.001)\n",
    "\n",
    "regressor.train()\n",
    "regressor.to(device)\n",
    "\n",
    "epochs = 100"
   ]
  },
  {
   "cell_type": "code",
   "execution_count": 26,
   "id": "b8ea8f9b",
   "metadata": {},
   "outputs": [
    {
     "name": "stdout",
     "output_type": "stream",
     "text": [
      "Epoch 020: | Loss: 0.72761\n",
      "Epoch 040: | Loss: 0.09928\n",
      "Epoch 060: | Loss: 0.02212\n",
      "Epoch 080: | Loss: 0.00738\n"
     ]
    }
   ],
   "source": [
    "for epoch in range(1, epochs):\n",
    "    epoch_loss = 0\n",
    "    epoch_acc = 0\n",
    "    for X, y in data_loader_train_r:\n",
    "        optimizer.zero_grad()\n",
    "        X, y = X.to(device), y.to(device)\n",
    "        y_hat = regressor(X)\n",
    "        loss = criterion(y_hat, y.unsqueeze(1))\n",
    "        loss.backward()\n",
    "        optimizer.step()\n",
    "        epoch_loss += loss.item()\n",
    "        \n",
    "    if epoch % 20 ==0:\n",
    "        print(f'Epoch {epoch+0:03}: | Loss: {epoch_loss/len(data_loader_train):.5f}')"
   ]
  },
  {
   "cell_type": "code",
   "execution_count": 27,
   "id": "70f612bf",
   "metadata": {},
   "outputs": [],
   "source": [
    "def flatten(t):\n",
    "    return [item for sublist in t for item in sublist]\n",
    "\n",
    "def get_preds_regressor(dataloader):\n",
    "    regressor.eval()\n",
    "\n",
    "    y_preds = list()\n",
    "    y_true = list()\n",
    "    with torch.no_grad():\n",
    "        for X, y in dataloader:\n",
    "            X = X.to(device)\n",
    "            y_hat = regressor(X).cpu().numpy()\n",
    "            y_preds.append(y_hat)\n",
    "\n",
    "    return np.concatenate(y_preds, axis=0).squeeze()"
   ]
  },
  {
   "cell_type": "code",
   "execution_count": 28,
   "id": "273dbd3a",
   "metadata": {},
   "outputs": [
    {
     "data": {
      "image/png": "[encoded data removed]",
      "text/plain": [
       "<Figure size 432x288 with 2 Axes>"
      ]
     },
     "metadata": {
      "needs_background": "light"
     },
     "output_type": "display_data"
    }
   ],
   "source": [
    "plt.subplot(1,2,1).hist(get_preds_regressor(noncontextual_data_loader))\n",
    "plt.subplot(1,2,2).hist(get_preds_regressor(contextual_data_loader))\n",
    "plt.show()"
   ]
  },
  {
   "cell_type": "markdown",
   "id": "85e5eb45",
   "metadata": {},
   "source": [
    "# Correlation investigation"
   ]
  },
  {
   "cell_type": "code",
   "execution_count": 64,
   "id": "54b5f288",
   "metadata": {},
   "outputs": [],
   "source": [
    "results =  list()\n",
    "for i in contextual_data_loader:\n",
    "    results.extend(list(map(NL2, i[0].numpy())))\n"
   ]
  },
  {
   "cell_type": "code",
   "execution_count": 66,
   "id": "35a0ab73",
   "metadata": {},
   "outputs": [
    {
     "data": {
      "text/plain": [
       "100"
      ]
     },
     "execution_count": 66,
     "metadata": {},
     "output_type": "execute_result"
    }
   ],
   "source": [
    "len(results)"
   ]
  },
  {
   "cell_type": "code",
   "execution_count": 84,
   "id": "8f084790",
   "metadata": {
    "scrolled": true
   },
   "outputs": [],
   "source": [
    "from scipy.stats import pearsonr\n",
    "preds_regressor = get_preds_regressor(data_loader_test)\n",
    "preds_raw, preds_boosted, preds_boosted_mackay, preds_mcmc, var = get_preds_classifier(data_loader_test)\n",
    "\n",
    "def print_corr_results(correlation_metric):\n",
    "    print(correlation_metric(preds_regressor, preds_raw))\n",
    "    print(correlation_metric(preds_regressor, preds_boosted))\n",
    "    print(correlation_metric(preds_regressor, preds_boosted_mackay))\n",
    "    print(correlation_metric(preds_regressor, preds_mcmc))"
   ]
  },
  {
   "cell_type": "code",
   "execution_count": 85,
   "id": "66be8729",
   "metadata": {
    "scrolled": false
   },
   "outputs": [
    {
     "data": {
      "text/plain": [
       "[<matplotlib.lines.Line2D at 0x7f72fa10a760>]"
      ]
     },
     "execution_count": 85,
     "metadata": {},
     "output_type": "execute_result"
    },
    {
     "data": {
      "image/png": "[encoded data removed]",
      "text/plain": [
       "<Figure size 432x288 with 1 Axes>"
      ]
     },
     "metadata": {
      "needs_background": "light"
     },
     "output_type": "display_data"
    }
   ],
   "source": [
    "plt.plot(preds_regressor, preds_raw, 'p')"
   ]
  },
  {
   "cell_type": "code",
   "execution_count": 86,
   "id": "9f6db041",
   "metadata": {},
   "outputs": [
    {
     "data": {
      "text/plain": [
       "[<matplotlib.lines.Line2D at 0x7f72fa33f0a0>]"
      ]
     },
     "execution_count": 86,
     "metadata": {},
     "output_type": "execute_result"
    },
    {
     "data": {
      "image/png": "[encoded data removed]",
      "text/plain": [
       "<Figure size 432x288 with 1 Axes>"
      ]
     },
     "metadata": {
      "needs_background": "light"
     },
     "output_type": "display_data"
    }
   ],
   "source": [
    "plt.plot(preds_regressor, preds_mcmc, 'p')"
   ]
  },
  {
   "cell_type": "code",
   "execution_count": 87,
   "id": "913244dc",
   "metadata": {
    "scrolled": true
   },
   "outputs": [
    {
     "data": {
      "text/plain": [
       "[<matplotlib.lines.Line2D at 0x7f72f3c4f850>]"
      ]
     },
     "execution_count": 87,
     "metadata": {},
     "output_type": "execute_result"
    },
    {
     "data": {
      "image/png": "[encoded data removed]",
      "text/plain": [
       "<Figure size 432x288 with 1 Axes>"
      ]
     },
     "metadata": {
      "needs_background": "light"
     },
     "output_type": "display_data"
    }
   ],
   "source": [
    "plt.plot(preds_regressor, preds_boosted_mackay, 'p')"
   ]
  },
  {
   "cell_type": "code",
   "execution_count": 79,
   "id": "d1d4dca0",
   "metadata": {},
   "outputs": [
    {
     "data": {
      "image/png": "[encoded data removed]",
      "text/plain": [
       "<Figure size 432x288 with 4 Axes>"
      ]
     },
     "metadata": {
      "needs_background": "light"
     },
     "output_type": "display_data"
    }
   ],
   "source": [
    "\n",
    "plt.subplot(2,2,1).plot(preds_regressor, preds_raw, 'p')\n",
    "plt.subplot(2,2,2).plot(preds_regressor, preds_boosted, 'p')\n",
    "plt.subplot(2,2,3).plot(preds_regressor, preds_boosted_mackay, 'p')\n",
    "plt.subplot(2,2,4).plot(preds_regressor, preds_mcmc, 'p')\n",
    "plt.show()"
   ]
  },
  {
   "cell_type": "code",
   "execution_count": 72,
   "id": "b64a991d",
   "metadata": {},
   "outputs": [],
   "source": [
    "from scipy.stats import pearsonr\n",
    "preds_regressor = get_preds_regressor(noncontextual_data_loader)\n",
    "preds_raw, preds_boosted, preds_boosted_mackay, preds_mcmc, var = get_preds_classifier(noncontextual_data_loader)\n",
    "\n",
    "def print_corr_results(correlation_metric):\n",
    "    print(correlation_metric(preds_regressor, preds_raw))\n",
    "    print(correlation_metric(preds_regressor, preds_boosted))\n",
    "    print(correlation_metric(preds_regressor, preds_boosted_mackay))\n",
    "    print(correlation_metric(preds_regressor, preds_mcmc))"
   ]
  },
  {
   "cell_type": "code",
   "execution_count": 73,
   "id": "ff0cc09d",
   "metadata": {},
   "outputs": [
    {
     "data": {
      "image/png": "[encoded data removed]",
      "text/plain": [
       "<Figure size 432x288 with 4 Axes>"
      ]
     },
     "metadata": {
      "needs_background": "light"
     },
     "output_type": "display_data"
    }
   ],
   "source": [
    "plt.subplot(2,2,1).plot(results, preds_raw, 'p')\n",
    "plt.subplot(2,2,2).plot(results, preds_boosted, 'p')\n",
    "plt.subplot(2,2,3).plot(results, preds_boosted_mackay, 'p')\n",
    "plt.subplot(2,2,4).plot(results, preds_mcmc, 'p')\n",
    "plt.show()"
   ]
  },
  {
   "cell_type": "code",
   "execution_count": 88,
   "id": "3082e189",
   "metadata": {},
   "outputs": [
    {
     "name": "stdout",
     "output_type": "stream",
     "text": [
      "(0.5577796124279091, 0.0)\n",
      "(0.5043645761848027, 5.83e-321)\n",
      "(0.7000318105103046, 0.0)\n",
      "(0.745204473942951, 0.0)\n"
     ]
    }
   ],
   "source": [
    "print_corr_results(pearsonr)"
   ]
  },
  {
   "cell_type": "code",
   "execution_count": 89,
   "id": "4bf0c541",
   "metadata": {},
   "outputs": [
    {
     "name": "stdout",
     "output_type": "stream",
     "text": [
      "SpearmanrResult(correlation=0.7921796189277159, pvalue=0.0)\n",
      "SpearmanrResult(correlation=0.7727561022959487, pvalue=0.0)\n",
      "SpearmanrResult(correlation=0.775226828043495, pvalue=0.0)\n",
      "SpearmanrResult(correlation=0.7392610924824434, pvalue=0.0)\n"
     ]
    }
   ],
   "source": [
    "from scipy.stats import spearmanr\n",
    "print_corr_results(spearmanr)"
   ]
  },
  {
   "cell_type": "code",
   "execution_count": 90,
   "id": "8d3fccaa",
   "metadata": {},
   "outputs": [
    {
     "name": "stdout",
     "output_type": "stream",
     "text": [
      "KendalltauResult(correlation=0.600054229021016, pvalue=0.0)\n",
      "KendalltauResult(correlation=0.5802180191006735, pvalue=0.0)\n",
      "KendalltauResult(correlation=0.5822819895630383, pvalue=0.0)\n",
      "KendalltauResult(correlation=0.5463883176635327, pvalue=0.0)\n"
     ]
    }
   ],
   "source": [
    "from scipy.stats import kendalltau\n",
    "print_corr_results(kendalltau)"
   ]
  },
  {
   "cell_type": "code",
   "execution_count": 336,
   "id": "2a80fed0",
   "metadata": {},
   "outputs": [
    {
     "data": {
      "image/png": "[encoded data removed]",
      "text/plain": [
       "<Figure size 432x288 with 4 Axes>"
      ]
     },
     "metadata": {
      "needs_background": "light"
     },
     "output_type": "display_data"
    }
   ],
   "source": [
    "plt.subplot(2,2,1).hist(preds_raw)\n",
    "plt.subplot(2,2,2).hist(preds_boosted)\n",
    "plt.subplot(2,2,3).hist(preds_boosted_mackay)\n",
    "plt.subplot(2,2,4).hist(preds_mcmc)\n",
    "\n",
    "plt.show()"
   ]
  },
  {
   "cell_type": "markdown",
   "id": "95f91f4c",
   "metadata": {},
   "source": [
    "# Mutual information SX+SY-SXY"
   ]
  },
  {
   "cell_type": "markdown",
   "id": "36818e3b",
   "metadata": {},
   "source": [
    "# Sampler tests"
   ]
  },
  {
   "cell_type": "code",
   "execution_count": 38,
   "id": "b2d8d37b",
   "metadata": {},
   "outputs": [],
   "source": [
    "i=0\n",
    "j = []\n",
    "for i in range(10000):\n",
    "    j.append(np.squeeze(np.reshape(sample(6), (1,-1))))"
   ]
  },
  {
   "cell_type": "code",
   "execution_count": 39,
   "id": "cfd7ac2f",
   "metadata": {},
   "outputs": [
    {
     "data": {
      "image/png": "[encoded data removed]",
      "text/plain": [
       "<Figure size 432x288 with 24 Axes>"
      ]
     },
     "metadata": {
      "needs_background": "light"
     },
     "output_type": "display_data"
    }
   ],
   "source": [
    "import matplotlib.pyplot as plt\n",
    "for i in range(24):\n",
    "    x = [x[i] for x in j]\n",
    "    ax = plt.subplot(4,6,i+1)\n",
    "    ax.hist(x)"
   ]
  },
  {
   "cell_type": "code",
   "execution_count": 6,
   "id": "79b888e9",
   "metadata": {},
   "outputs": [
    {
     "name": "stdout",
     "output_type": "stream",
     "text": [
      "0\n",
      "20000\n",
      "40000\n",
      "60000\n",
      "80000\n",
      "100000\n",
      "120000\n",
      "140000\n",
      "160000\n",
      "180000\n",
      "200000\n",
      "220000\n",
      "240000\n",
      "260000\n",
      "hurra\n",
      "280000\n",
      "300000\n",
      "320000\n",
      "340000\n",
      "360000\n",
      "380000\n",
      "400000\n",
      "420000\n",
      "440000\n",
      "460000\n",
      "480000\n",
      "500000\n",
      "520000\n",
      "540000\n",
      "hurra\n",
      "560000\n",
      "580000\n",
      "600000\n",
      "620000\n",
      "640000\n",
      "660000\n",
      "680000\n",
      "700000\n",
      "720000\n",
      "740000\n",
      "760000\n",
      "780000\n",
      "800000\n",
      "820000\n",
      "840000\n",
      "860000\n",
      "880000\n",
      "900000\n",
      "920000\n",
      "940000\n",
      "960000\n",
      "980000\n",
      "1000000\n",
      "1020000\n",
      "1040000\n",
      "1060000\n",
      "1080000\n",
      "1100000\n",
      "1120000\n",
      "1140000\n",
      "1160000\n",
      "1180000\n",
      "1200000\n",
      "1220000\n",
      "1240000\n",
      "1260000\n",
      "1280000\n",
      "1300000\n",
      "1320000\n",
      "1340000\n",
      "1360000\n",
      "1380000\n",
      "1400000\n",
      "1420000\n",
      "1440000\n",
      "1460000\n",
      "1480000\n",
      "1500000\n",
      "1520000\n",
      "hurra\n",
      "1540000\n",
      "1560000\n",
      "1580000\n",
      "1600000\n",
      "1620000\n",
      "1640000\n",
      "1660000\n",
      "1680000\n",
      "1700000\n",
      "1720000\n",
      "1740000\n",
      "1760000\n",
      "1780000\n",
      "1800000\n",
      "1820000\n",
      "1840000\n",
      "1860000\n",
      "1880000\n",
      "1900000\n",
      "1920000\n",
      "1940000\n",
      "1960000\n",
      "1980000\n"
     ]
    }
   ],
   "source": [
    "from itertools import combinations\n",
    "i=0\n",
    "j2 = []\n",
    "for i in range(2000000):\n",
    "    a = sample(7)\n",
    "    if i % 20000 == 0:\n",
    "        print(i)\n",
    "    if not check_contexuality(a):\n",
    "        print('hurra')\n",
    "        i+=1\n",
    "        j2.append(a)"
   ]
  },
  {
   "cell_type": "code",
   "execution_count": 7,
   "id": "f07799ad",
   "metadata": {},
   "outputs": [
    {
     "data": {
      "text/plain": [
       "[array([[0.04369893, 0.01917571, 0.01053557, 0.02494159, 0.85541383,\n",
       "         0.09107675, 0.15913031],\n",
       "        [0.18060974, 0.27177971, 0.01503045, 0.03672313, 0.00497633,\n",
       "         0.77936832, 0.01567735],\n",
       "        [0.57581613, 0.00639031, 0.05112916, 0.83544856, 0.01503124,\n",
       "         0.08373091, 0.06517837],\n",
       "        [0.19987519, 0.70265427, 0.92330482, 0.10288671, 0.1245786 ,\n",
       "         0.04582402, 0.76001398]]),\n",
       " array([[0.12458359, 0.43419257, 0.09336704, 0.4621615 , 0.15427405,\n",
       "         0.08658109, 0.01654391],\n",
       "        [0.03429874, 0.00955867, 0.37789389, 0.08230243, 0.31087138,\n",
       "         0.14300857, 0.82858879],\n",
       "        [0.12127195, 0.03706836, 0.45109689, 0.00298393, 0.0753156 ,\n",
       "         0.75855161, 0.14233842],\n",
       "        [0.71984572, 0.5191804 , 0.07764218, 0.45255215, 0.45953897,\n",
       "         0.01185873, 0.01252888]]),\n",
       " array([[2.94107461e-02, 1.54903812e-01, 8.75319076e-01, 1.17802295e-02,\n",
       "         1.94822577e-02, 8.90729082e-03, 1.34050661e-01],\n",
       "        [1.76742074e-01, 8.45148878e-02, 5.78682115e-04, 9.31573385e-01,\n",
       "         2.00333214e-02, 2.28958438e-02, 6.03297678e-01],\n",
       "        [7.83483462e-01, 7.20993946e-01, 6.80345378e-02, 2.77353495e-02,\n",
       "         1.23208769e-02, 7.28441048e-01, 7.21021585e-02],\n",
       "        [1.03637179e-02, 3.95873536e-02, 5.60677036e-02, 2.89110362e-02,\n",
       "         9.48163544e-01, 2.39755817e-01, 1.90549502e-01]])]"
      ]
     },
     "execution_count": 7,
     "metadata": {},
     "output_type": "execute_result"
    }
   ],
   "source": [
    "j2"
   ]
  },
  {
   "cell_type": "code",
   "execution_count": 22,
   "id": "a0f146b2",
   "metadata": {},
   "outputs": [
    {
     "data": {
      "text/plain": [
       "(False,\n",
       " array([ 0.33540764, -0.28345917, -3.23104162,  0.33174044, -3.37607771,\n",
       "        -0.50014693, -0.80389516, -0.16810414,  3.39467792, -0.31314023,\n",
       "         2.56279055,  2.25904232,  0.44709546, -3.26072268, -0.38479191,\n",
       "        -0.68854013,  0.30205937,  3.17799015,  2.87424192, -0.529828  ,\n",
       "        -0.83357622,  2.04235456, -0.17177135, -3.87958949, -1.00365872,\n",
       "        -1.30740694, -0.31680744,  2.55912334,  2.25537512, -1.1486948 ,\n",
       "        -1.45244303,  1.42348775, -3.26438989, -0.38845912, -0.69220734,\n",
       "        -4.09627726, -4.40002548, -1.52409471, -0.5334952 , -0.83724343,\n",
       "         2.03868735, -1.6691308 , -0.20145241,  2.67447836,  2.37073014,\n",
       "        -1.03333978, -1.337088  ,  1.53884277,  2.52944228,  2.22569405,\n",
       "         5.10162483,  1.39380669, -0.41814018, -0.7218884 ,  2.15404237,\n",
       "        -1.55377577,  2.00900629, -1.03700699, -1.34075521,  1.53517556,\n",
       "        -2.17264258,  1.39013948, -1.55744298,  1.5054945 ]))"
      ]
     },
     "execution_count": 22,
     "metadata": {},
     "output_type": "execute_result"
    }
   ],
   "source": [
    "check_contexuality(j2[2])"
   ]
  }
 ],
 "metadata": {
  "kernelspec": {
   "display_name": "Python 3 (ipykernel)",
   "language": "python",
   "name": "python3"
  },
  "language_info": {
   "codemirror_mode": {
    "name": "ipython",
    "version": 3
   },
   "file_extension": ".py",
   "mimetype": "text/x-python",
   "name": "python",
   "nbconvert_exporter": "python",
   "pygments_lexer": "ipython3",
   "version": "3.8.10"
  }
 },
 "nbformat": 4,
 "nbformat_minor": 5
}
