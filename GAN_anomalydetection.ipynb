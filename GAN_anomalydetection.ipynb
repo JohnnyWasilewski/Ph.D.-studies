{
 "cells": [
  {
   "cell_type": "code",
   "execution_count": 1,
   "id": "675a4ee0",
   "metadata": {},
   "outputs": [],
   "source": [
    "import import_ipynb\n",
    "import torch\n",
    "import torch.nn as nn\n",
    "import torch.nn.functional as F\n",
    "from torch.utils.data import Dataset, DataLoader\n",
    "from sklearn.model_selection import train_test_split\n",
    "import numpy as np\n",
    "import pytorch_lightning as pl\n",
    "import torch.nn.functional as F\n",
    "from torch.optim import Adam, SGD\n",
    "from pytorch_lightning import Trainer\n",
    "from pytorch_lightning.loggers import TensorBoardLogger\n",
    "import numpy as np\n",
    "import torchvision\n",
    "\n",
    "from sampler import *\n",
    "from data_modules import *\n",
    "from callbacks import *"
   ]
  },
  {
   "cell_type": "code",
   "execution_count": 2,
   "id": "5de4e322",
   "metadata": {},
   "outputs": [],
   "source": [
    "class Generator(nn.Module):\n",
    "    def __init__(self, input_size, output_size, network_width, network_depth):\n",
    "        super().__init__()\n",
    "        self.input_size = input_size\n",
    "        self.output_size = output_size\n",
    "        self.network_depth = network_depth\n",
    "        self.l1 = nn.Linear(self.input_size, network_width)\n",
    "        self.l2 = nn.Linear(network_width, network_width)\n",
    "        self.l3 = nn.Linear(network_width, self.output_size)\n",
    "        self.bn = nn.BatchNorm1d(network_width)\n",
    "        \n",
    "    def forward(self, x):\n",
    "        #x = x.flatten(start_dim=1)\n",
    "        x = self.l1(x)\n",
    "        x = self.bn(F.leaky_relu(x))\n",
    "        for _ in range(self.network_depth - 2):\n",
    "            x = self.l2(x)\n",
    "            x = self.bn(F.leaky_relu(x))\n",
    "        x =  F.softmax(self.l3(x))\n",
    "        return x.view(-1, self.output_size)\n",
    "\n",
    "class Discriminator(nn.Module):\n",
    "    def __init__(self, input_size, network_width, network_depth):\n",
    "        super().__init__()\n",
    "        self.network_depth = network_depth\n",
    "        self.input_size = input_size\n",
    "        self.l11 = nn.Linear(self.input_size, network_width)\n",
    "        self.l2 = nn.Linear(network_width, network_width)\n",
    "        self.l3 = nn.Linear(network_width, 1)\n",
    "        self.sigmoid = nn.Sigmoid()\n",
    "        self.bn = nn.BatchNorm1d(network_width)\n",
    "\n",
    "    def forward(self, x):\n",
    "        #x = x.flatten(start_dim=1)\n",
    "        x = self.l11(x)\n",
    "        x = self.bn(F.leaky_relu(x))\n",
    "        for _ in range(self.network_depth - 2):\n",
    "            x = self.l2(x)\n",
    "            #x = self.bn(F.leaky_relu(x))\n",
    "        x = self.sigmoid(self.l3(x))\n",
    "        return x"
   ]
  },
  {
   "cell_type": "code",
   "execution_count": 3,
   "id": "350da60a",
   "metadata": {},
   "outputs": [],
   "source": [
    "class Generator(nn.Module):\n",
    "    def __init__(self, input_size, output_size, network_width, network_depth):\n",
    "        super().__init__()\n",
    "        self.input_size = input_size\n",
    "        self.output_size = output_size\n",
    "        self.network_depth = network_depth\n",
    "        self.l1 = nn.Linear(self.input_size, network_width)\n",
    "        self.l2 = nn.Linear(network_width, network_width)\n",
    "        self.l3 = nn.Linear(network_width, self.output_size)\n",
    "        self.bn = nn.BatchNorm1d(network_width)\n",
    "        \n",
    "    def forward(self, x):\n",
    "        #x = x.flatten(start_dim=1)\n",
    "        x = self.l1(x)\n",
    "        x = self.bn(F.leaky_relu(x))\n",
    "        for _ in range(self.network_depth - 2):\n",
    "            x = self.l2(x)\n",
    "            x = self.bn(F.leaky_relu(x))\n",
    "        x =  self.l3(x)\n",
    "        x = torch.cat((F.tanh(x[:,0]), F.sigmoid(x[:,1])), dim=-1)\n",
    "        return x.view(-1, self.output_size)"
   ]
  },
  {
   "cell_type": "code",
   "execution_count": 4,
   "id": "f6912388",
   "metadata": {},
   "outputs": [],
   "source": [
    "class GAN(pl.LightningModule):\n",
    "    def __init__(self, dataset, image_size=28, batch_size=64, latent_dim = 3, generator_width=800, generator_depth=6,\n",
    "                discriminator_width=400, discriminator_depth=3, discriminator_training_loops=1, num_workers=16):\n",
    "        super().__init__()\n",
    "        self.image_size = image_size\n",
    "        self.batch_size = batch_size\n",
    "        self.generator_width = generator_width\n",
    "        self.generator_depth = generator_depth\n",
    "        self.discriminator_width = discriminator_width\n",
    "        self.discriminator_depth = discriminator_depth\n",
    "        self.discriminator_training_loops = discriminator_training_loops\n",
    "        self.latent_dim = latent_dim\n",
    "        self.generator = Generator(self.latent_dim, 2, 30, 3)#self.image_size, self.generator_width, self.generator_depth)\n",
    "        self.discriminator = Discriminator(2, 25, 2)#self.image_size, self.discriminator_width, self.discriminator_depth)\n",
    "        self.automatic_optimization=False\n",
    "        self.dataset = dataset\n",
    "        self.num_workers = num_workers\n",
    "        \n",
    "    def train_dataloader(self):\n",
    "        return DataLoader(self.dataset,\n",
    "                          self.batch_size * self.discriminator_training_loops,\n",
    "                          shuffle=True,\n",
    "                          num_workers=self.num_workers)\n",
    "    \n",
    "    def training_step(self, batch, batch_idx):\n",
    "        X, _ = batch\n",
    "        generator_optimizer, discriminator_optimizer = self.optimizers()\n",
    "        for data_batch in torch.split(X, self.batch_size):\n",
    "            noise_batch = torch.randn(self.batch_size, self.latent_dim).cuda()\n",
    "            discriminator_optimizer.zero_grad()\n",
    "            loss_discriminator = self.discriminator_loss(data_batch, noise_batch)\n",
    "            self.manual_backward(loss_discriminator)\n",
    "            \n",
    "            grad_max = max([torch.max(p.grad) for p in self.discriminator.parameters() if p.grad is not None])            \n",
    "            \n",
    "            discriminator_optimizer.step()\n",
    "        generator_optimizer.zero_grad()\n",
    "        noise_batch = torch.randn(self.batch_size, self.latent_dim).cuda()\n",
    "        loss_generator = self.generator_loss(noise_batch)\n",
    "        self.manual_backward(loss_generator)\n",
    "\n",
    "        grad_max2 = max([torch.max(p.grad) for p in self.generator.parameters() if p.grad is not None])\n",
    "            \n",
    "        generator_optimizer.step()\n",
    "        self.logger.experiment.add_scalar(\"Generator_loss\", loss_generator, self.current_epoch)\n",
    "        self.logger.experiment.add_scalar(\"Discriminator_loss\", loss_discriminator, self.current_epoch)\n",
    "        self.logger.experiment.add_scalar(\"Grad_max_before\", grad_max, self.current_epoch)\n",
    "        self.logger.experiment.add_scalar(\"Grad_max_before2\", grad_max2, self.current_epoch)\n",
    "        return \n",
    "    \n",
    "    def configure_optimizers(self):\n",
    "        generator_optimizer = Adam(self.generator.parameters(), lr=0.0002, betas=(0.5, 0.999))\n",
    "        discriminator_optimizer = SGD(self.discriminator.parameters(), lr=0.0002)\n",
    "        return generator_optimizer, discriminator_optimizer\n",
    "    \n",
    "    def generator_loss(self, noise):\n",
    "        return -torch.mean(torch.log(self.discriminator(self.generator(noise)) + 1e-16))\n",
    "    \n",
    "    def discriminator_loss(self, data, noise):\n",
    "        return -0.5 * torch.mean(torch.log(self.discriminator(data) + 1e-16)) - \\\n",
    "    0.5 * torch.mean(torch.log(1-self.discriminator(self.generator(noise)) + 1e-16))\n",
    "    \n",
    "    def on_train_epoch_end(self):\n",
    "        if self.current_epoch % 20 == 0:\n",
    "            for i in range(5):\n",
    "                generated_points = self.generator(torch.randn(self.batch_size, self.latent_dim).cuda()).cpu()\n",
    "                image = make_img(generated_points[:,0], generated_points[:,1])\n",
    "                image[0,torch.LongTensor([i for i in range(9)]), torch.LongTensor([i*i for i in range(9)])]=1\n",
    "                self.logger.experiment.add_image(\"image_epoch\"+str(self.current_epoch),\n",
    "                                                 image,\n",
    "                                                self.current_epoch,\n",
    "                                                dataformats='CHW')"
   ]
  },
  {
   "cell_type": "code",
   "execution_count": 5,
   "id": "db2eec15",
   "metadata": {},
   "outputs": [],
   "source": [
    "def make_img(x,y):\n",
    "    canvas = np.ones((1000,1000))\n",
    "    def plot_point(canvas, coordinates):\n",
    "        l = int(canvas.shape[0]/100)\n",
    "        canvas[coordinates[0]-l:coordinates[0]+l, coordinates[1]-l:coordinates[1]+l] = 0\n",
    "    def transf(m):\n",
    "        return ((m + 1)*500).to(torch.int).numpy()\n",
    "    def transfy(m):\n",
    "        return (m *1000).to(torch.int).numpy()\n",
    "    for m,n in zip(transf(x), transf(y)):\n",
    "        plot_point(canvas, [n,m])\n",
    "    return torchvision.utils.make_grid(torch.Tensor(canvas))"
   ]
  },
  {
   "cell_type": "code",
   "execution_count": 6,
   "id": "cf3788c2",
   "metadata": {},
   "outputs": [
    {
     "data": {
      "text/plain": [
       "<matplotlib.image.AxesImage at 0x7f41680d6520>"
      ]
     },
     "execution_count": 6,
     "metadata": {},
     "output_type": "execute_result"
    },
    {
     "data": {
      "image/png": "[encoded data removed]",
      "text/plain": [
       "<Figure size 432x288 with 1 Axes>"
      ]
     },
     "metadata": {
      "needs_background": "light"
     },
     "output_type": "display_data"
    }
   ],
   "source": [
    "l = make_img(torch.Tensor([i**2 for i in range(99)]), torch.Tensor([i for i in range(99)])).numpy()\n",
    "l[1,torch.LongTensor([i for i in range(9)]), torch.LongTensor([i*i*i for i in range(9)])]=0\n",
    "\n",
    "plt.imshow( np.transpose(l, (1, 2, 0)))"
   ]
  },
  {
   "cell_type": "code",
   "execution_count": 7,
   "id": "825af334",
   "metadata": {},
   "outputs": [
    {
     "data": {
      "text/plain": [
       "array([[0., 1., 1., ..., 1., 1., 1.],\n",
       "       [1., 0., 1., ..., 1., 1., 1.],\n",
       "       [1., 1., 1., ..., 1., 1., 1.],\n",
       "       ...,\n",
       "       [1., 1., 1., ..., 0., 0., 0.],\n",
       "       [1., 1., 1., ..., 0., 0., 0.],\n",
       "       [1., 1., 1., ..., 0., 0., 0.]], dtype=float32)"
      ]
     },
     "execution_count": 7,
     "metadata": {},
     "output_type": "execute_result"
    }
   ],
   "source": [
    "l[1]"
   ]
  },
  {
   "cell_type": "code",
   "execution_count": 8,
   "id": "b4dc4b22",
   "metadata": {},
   "outputs": [],
   "source": [
    "class MyDataset(Dataset):\n",
    "    def __init__(self, data):\n",
    "        self.data = data\n",
    "        \n",
    "    def __getitem__(self, idx):\n",
    "        x = torch.FloatTensor(self.data[idx])\n",
    "        return x, 0\n",
    "    \n",
    "    def __len__(self):\n",
    "        return len(self.data)"
   ]
  },
  {
   "cell_type": "markdown",
   "id": "bf7fc0b3",
   "metadata": {},
   "source": [
    "# GAN for 2D shapes"
   ]
  },
  {
   "cell_type": "code",
   "execution_count": 9,
   "id": "2199963f",
   "metadata": {},
   "outputs": [],
   "source": [
    "unif = np.random.uniform(0, 1, (8000, 8000))\n",
    "x = unif[0] * np.cos(unif[1])\n",
    "y = unif[0] * np.sin(unif[1])"
   ]
  },
  {
   "cell_type": "code",
   "execution_count": 10,
   "id": "07604d05",
   "metadata": {},
   "outputs": [],
   "source": [
    "x = unif[0]\n",
    "y = x**3"
   ]
  },
  {
   "cell_type": "code",
   "execution_count": 11,
   "id": "9a51ea7c",
   "metadata": {},
   "outputs": [
    {
     "data": {
      "text/plain": [
       "[<matplotlib.lines.Line2D at 0x7f4167fbfb50>]"
      ]
     },
     "execution_count": 11,
     "metadata": {},
     "output_type": "execute_result"
    },
    {
     "data": {
      "image/png": "[encoded data removed]",
      "text/plain": [
       "<Figure size 432x288 with 1 Axes>"
      ]
     },
     "metadata": {
      "needs_background": "light"
     },
     "output_type": "display_data"
    }
   ],
   "source": [
    "plt.plot(x,y, 'p')"
   ]
  },
  {
   "cell_type": "code",
   "execution_count": 12,
   "id": "0764f605",
   "metadata": {},
   "outputs": [],
   "source": [
    "ds = MyDataset(np.transpose(np.vstack((x,y))))"
   ]
  },
  {
   "cell_type": "code",
   "execution_count": 13,
   "id": "d8408786",
   "metadata": {
    "scrolled": true
   },
   "outputs": [
    {
     "data": {
      "text/html": [
       "\n",
       "      <iframe id=\"tensorboard-frame-7ea8ff4b7de753b1\" width=\"100%\" height=\"800\" frameborder=\"0\">\n",
       "      </iframe>\n",
       "      <script>\n",
       "        (function() {\n",
       "          const frame = document.getElementById(\"tensorboard-frame-7ea8ff4b7de753b1\");\n",
       "          const url = new URL(\"/\", window.location);\n",
       "          const port = 6006;\n",
       "          if (port) {\n",
       "            url.port = port;\n",
       "          }\n",
       "          frame.src = url;\n",
       "        })();\n",
       "      </script>\n",
       "    "
      ],
      "text/plain": [
       "<IPython.core.display.HTML object>"
      ]
     },
     "metadata": {},
     "output_type": "display_data"
    }
   ],
   "source": [
    "%reload_ext tensorboard\n",
    "%tensorboard --logdir my_logs/"
   ]
  },
  {
   "cell_type": "code",
   "execution_count": 14,
   "id": "bc099fa6",
   "metadata": {
    "scrolled": false
   },
   "outputs": [
    {
     "ename": "MisconfigurationException",
     "evalue": "You requested GPUs: [0]\n But your machine only has: []",
     "output_type": "error",
     "traceback": [
      "\u001b[0;31m---------------------------------------------------------------------------\u001b[0m",
      "\u001b[0;31mMisconfigurationException\u001b[0m                 Traceback (most recent call last)",
      "\u001b[0;32m/tmp/ipykernel_4545/807267951.py\u001b[0m in \u001b[0;36m<module>\u001b[0;34m\u001b[0m\n\u001b[1;32m      1\u001b[0m \u001b[0mlogger\u001b[0m \u001b[0;34m=\u001b[0m \u001b[0mTensorBoardLogger\u001b[0m\u001b[0;34m(\u001b[0m\u001b[0;34m'my_logs'\u001b[0m\u001b[0;34m,\u001b[0m \u001b[0;34m'GAN'\u001b[0m\u001b[0;34m)\u001b[0m\u001b[0;34m\u001b[0m\u001b[0;34m\u001b[0m\u001b[0m\n\u001b[0;32m----> 2\u001b[0;31m \u001b[0mtr1\u001b[0m \u001b[0;34m=\u001b[0m \u001b[0mTrainer\u001b[0m\u001b[0;34m(\u001b[0m\u001b[0mmax_epochs\u001b[0m\u001b[0;34m=\u001b[0m\u001b[0;36m500\u001b[0m\u001b[0;34m,\u001b[0m \u001b[0mgpus\u001b[0m\u001b[0;34m=\u001b[0m\u001b[0;36m1\u001b[0m\u001b[0;34m,\u001b[0m \u001b[0mlogger\u001b[0m\u001b[0;34m=\u001b[0m\u001b[0mlogger\u001b[0m\u001b[0;34m)\u001b[0m\u001b[0;34m\u001b[0m\u001b[0;34m\u001b[0m\u001b[0m\n\u001b[0m\u001b[1;32m      3\u001b[0m \u001b[0mmodel\u001b[0m \u001b[0;34m=\u001b[0m \u001b[0mGAN\u001b[0m\u001b[0;34m(\u001b[0m\u001b[0mds\u001b[0m\u001b[0;34m)\u001b[0m\u001b[0;34m\u001b[0m\u001b[0;34m\u001b[0m\u001b[0m\n",
      "\u001b[0;32m~/.virtualenvs/jup/lib/python3.8/site-packages/pytorch_lightning/trainer/connectors/env_vars_connector.py\u001b[0m in \u001b[0;36minsert_env_defaults\u001b[0;34m(self, *args, **kwargs)\u001b[0m\n\u001b[1;32m     36\u001b[0m \u001b[0;34m\u001b[0m\u001b[0m\n\u001b[1;32m     37\u001b[0m         \u001b[0;31m# all args were already moved to kwargs\u001b[0m\u001b[0;34m\u001b[0m\u001b[0;34m\u001b[0m\u001b[0;34m\u001b[0m\u001b[0m\n\u001b[0;32m---> 38\u001b[0;31m         \u001b[0;32mreturn\u001b[0m \u001b[0mfn\u001b[0m\u001b[0;34m(\u001b[0m\u001b[0mself\u001b[0m\u001b[0;34m,\u001b[0m \u001b[0;34m**\u001b[0m\u001b[0mkwargs\u001b[0m\u001b[0;34m)\u001b[0m\u001b[0;34m\u001b[0m\u001b[0;34m\u001b[0m\u001b[0m\n\u001b[0m\u001b[1;32m     39\u001b[0m \u001b[0;34m\u001b[0m\u001b[0m\n\u001b[1;32m     40\u001b[0m     \u001b[0;32mreturn\u001b[0m \u001b[0minsert_env_defaults\u001b[0m\u001b[0;34m\u001b[0m\u001b[0;34m\u001b[0m\u001b[0m\n",
      "\u001b[0;32m~/.virtualenvs/jup/lib/python3.8/site-packages/pytorch_lightning/trainer/trainer.py\u001b[0m in \u001b[0;36m__init__\u001b[0;34m(self, logger, checkpoint_callback, enable_checkpointing, callbacks, default_root_dir, gradient_clip_val, gradient_clip_algorithm, process_position, num_nodes, num_processes, devices, gpus, auto_select_gpus, tpu_cores, ipus, log_gpu_memory, progress_bar_refresh_rate, enable_progress_bar, overfit_batches, track_grad_norm, check_val_every_n_epoch, fast_dev_run, accumulate_grad_batches, max_epochs, min_epochs, max_steps, min_steps, max_time, limit_train_batches, limit_val_batches, limit_test_batches, limit_predict_batches, val_check_interval, flush_logs_every_n_steps, log_every_n_steps, accelerator, strategy, sync_batchnorm, precision, enable_model_summary, weights_summary, weights_save_path, num_sanity_val_steps, resume_from_checkpoint, profiler, benchmark, deterministic, reload_dataloaders_every_n_epochs, reload_dataloaders_every_epoch, auto_lr_find, replace_sampler_ddp, detect_anomaly, auto_scale_batch_size, prepare_data_per_node, plugins, amp_backend, amp_level, move_metrics_to_cpu, multiple_trainloader_mode, stochastic_weight_avg, terminate_on_nan)\u001b[0m\n\u001b[1;32m    424\u001b[0m         \u001b[0mself\u001b[0m\u001b[0;34m.\u001b[0m\u001b[0mstate\u001b[0m \u001b[0;34m=\u001b[0m \u001b[0mTrainerState\u001b[0m\u001b[0;34m(\u001b[0m\u001b[0;34m)\u001b[0m\u001b[0;34m\u001b[0m\u001b[0;34m\u001b[0m\u001b[0m\n\u001b[1;32m    425\u001b[0m \u001b[0;34m\u001b[0m\u001b[0m\n\u001b[0;32m--> 426\u001b[0;31m         \u001b[0mgpu_ids\u001b[0m\u001b[0;34m,\u001b[0m \u001b[0mtpu_cores\u001b[0m \u001b[0;34m=\u001b[0m \u001b[0mself\u001b[0m\u001b[0;34m.\u001b[0m\u001b[0m_parse_devices\u001b[0m\u001b[0;34m(\u001b[0m\u001b[0mgpus\u001b[0m\u001b[0;34m,\u001b[0m \u001b[0mauto_select_gpus\u001b[0m\u001b[0;34m,\u001b[0m \u001b[0mtpu_cores\u001b[0m\u001b[0;34m)\u001b[0m\u001b[0;34m\u001b[0m\u001b[0;34m\u001b[0m\u001b[0m\n\u001b[0m\u001b[1;32m    427\u001b[0m \u001b[0;34m\u001b[0m\u001b[0m\n\u001b[1;32m    428\u001b[0m         \u001b[0;31m# init connectors\u001b[0m\u001b[0;34m\u001b[0m\u001b[0;34m\u001b[0m\u001b[0;34m\u001b[0m\u001b[0m\n",
      "\u001b[0;32m~/.virtualenvs/jup/lib/python3.8/site-packages/pytorch_lightning/trainer/trainer.py\u001b[0m in \u001b[0;36m_parse_devices\u001b[0;34m(gpus, auto_select_gpus, tpu_cores)\u001b[0m\n\u001b[1;32m   1536\u001b[0m \u001b[0;34m\u001b[0m\u001b[0m\n\u001b[1;32m   1537\u001b[0m         \u001b[0;31m# TODO (@seannaren, @kaushikb11): Include IPU parsing logic here\u001b[0m\u001b[0;34m\u001b[0m\u001b[0;34m\u001b[0m\u001b[0;34m\u001b[0m\u001b[0m\n\u001b[0;32m-> 1538\u001b[0;31m         \u001b[0mgpu_ids\u001b[0m \u001b[0;34m=\u001b[0m \u001b[0mdevice_parser\u001b[0m\u001b[0;34m.\u001b[0m\u001b[0mparse_gpu_ids\u001b[0m\u001b[0;34m(\u001b[0m\u001b[0mgpus\u001b[0m\u001b[0;34m)\u001b[0m\u001b[0;34m\u001b[0m\u001b[0;34m\u001b[0m\u001b[0m\n\u001b[0m\u001b[1;32m   1539\u001b[0m         \u001b[0mtpu_cores\u001b[0m \u001b[0;34m=\u001b[0m \u001b[0mdevice_parser\u001b[0m\u001b[0;34m.\u001b[0m\u001b[0mparse_tpu_cores\u001b[0m\u001b[0;34m(\u001b[0m\u001b[0mtpu_cores\u001b[0m\u001b[0;34m)\u001b[0m\u001b[0;34m\u001b[0m\u001b[0;34m\u001b[0m\u001b[0m\n\u001b[1;32m   1540\u001b[0m         \u001b[0;32mreturn\u001b[0m \u001b[0mgpu_ids\u001b[0m\u001b[0;34m,\u001b[0m \u001b[0mtpu_cores\u001b[0m\u001b[0;34m\u001b[0m\u001b[0;34m\u001b[0m\u001b[0m\n",
      "\u001b[0;32m~/.virtualenvs/jup/lib/python3.8/site-packages/pytorch_lightning/utilities/device_parser.py\u001b[0m in \u001b[0;36mparse_gpu_ids\u001b[0;34m(gpus)\u001b[0m\n\u001b[1;32m     87\u001b[0m     \u001b[0m_check_unique\u001b[0m\u001b[0;34m(\u001b[0m\u001b[0mgpus\u001b[0m\u001b[0;34m)\u001b[0m\u001b[0;34m\u001b[0m\u001b[0;34m\u001b[0m\u001b[0m\n\u001b[1;32m     88\u001b[0m \u001b[0;34m\u001b[0m\u001b[0m\n\u001b[0;32m---> 89\u001b[0;31m     \u001b[0;32mreturn\u001b[0m \u001b[0m_sanitize_gpu_ids\u001b[0m\u001b[0;34m(\u001b[0m\u001b[0mgpus\u001b[0m\u001b[0;34m)\u001b[0m\u001b[0;34m\u001b[0m\u001b[0;34m\u001b[0m\u001b[0m\n\u001b[0m\u001b[1;32m     90\u001b[0m \u001b[0;34m\u001b[0m\u001b[0m\n\u001b[1;32m     91\u001b[0m \u001b[0;34m\u001b[0m\u001b[0m\n",
      "\u001b[0;32m~/.virtualenvs/jup/lib/python3.8/site-packages/pytorch_lightning/utilities/device_parser.py\u001b[0m in \u001b[0;36m_sanitize_gpu_ids\u001b[0;34m(gpus)\u001b[0m\n\u001b[1;32m    149\u001b[0m     \u001b[0;32mfor\u001b[0m \u001b[0mgpu\u001b[0m \u001b[0;32min\u001b[0m \u001b[0mgpus\u001b[0m\u001b[0;34m:\u001b[0m\u001b[0;34m\u001b[0m\u001b[0;34m\u001b[0m\u001b[0m\n\u001b[1;32m    150\u001b[0m         \u001b[0;32mif\u001b[0m \u001b[0mgpu\u001b[0m \u001b[0;32mnot\u001b[0m \u001b[0;32min\u001b[0m \u001b[0mall_available_gpus\u001b[0m\u001b[0;34m:\u001b[0m\u001b[0;34m\u001b[0m\u001b[0;34m\u001b[0m\u001b[0m\n\u001b[0;32m--> 151\u001b[0;31m             raise MisconfigurationException(\n\u001b[0m\u001b[1;32m    152\u001b[0m                 \u001b[0;34mf\"You requested GPUs: {gpus}\\n But your machine only has: {all_available_gpus}\"\u001b[0m\u001b[0;34m\u001b[0m\u001b[0;34m\u001b[0m\u001b[0m\n\u001b[1;32m    153\u001b[0m             )\n",
      "\u001b[0;31mMisconfigurationException\u001b[0m: You requested GPUs: [0]\n But your machine only has: []"
     ]
    }
   ],
   "source": [
    "logger = TensorBoardLogger('my_logs', 'GAN')\n",
    "tr1 = Trainer(max_epochs=500, gpus=1, logger=logger)\n",
    "model = GAN(ds)"
   ]
  },
  {
   "cell_type": "code",
   "execution_count": 49,
   "id": "67954362",
   "metadata": {
    "scrolled": true
   },
   "outputs": [
    {
     "name": "stderr",
     "output_type": "stream",
     "text": [
      "LOCAL_RANK: 0 - CUDA_VISIBLE_DEVICES: [0]\n",
      "\n",
      "  | Name          | Type          | Params\n",
      "------------------------------------------------\n",
      "0 | generator     | Generator     | 1.2 K \n",
      "1 | discriminator | Discriminator | 801   \n",
      "------------------------------------------------\n",
      "2.0 K     Trainable params\n",
      "0         Non-trainable params\n",
      "2.0 K     Total params\n",
      "0.008     Total estimated model params size (MB)\n"
     ]
    },
    {
     "data": {
      "application/vnd.jupyter.widget-view+json": {
       "model_id": "dee2f586d8df4490babed15b5acae26a",
       "version_major": 2,
       "version_minor": 0
      },
      "text/plain": [
       "Training: 0it [00:00, ?it/s]"
      ]
     },
     "metadata": {},
     "output_type": "display_data"
    },
    {
     "name": "stderr",
     "output_type": "stream",
     "text": [
      "/home/johnny/.virtualenvs/jup/lib/python3.8/site-packages/torch/nn/functional.py:1795: UserWarning: nn.functional.tanh is deprecated. Use torch.tanh instead.\n",
      "  warnings.warn(\"nn.functional.tanh is deprecated. Use torch.tanh instead.\")\n",
      "/home/johnny/.virtualenvs/jup/lib/python3.8/site-packages/torch/nn/functional.py:1806: UserWarning: nn.functional.sigmoid is deprecated. Use torch.sigmoid instead.\n",
      "  warnings.warn(\"nn.functional.sigmoid is deprecated. Use torch.sigmoid instead.\")\n"
     ]
    }
   ],
   "source": [
    "tr1.fit(model)"
   ]
  },
  {
   "cell_type": "code",
   "execution_count": null,
   "id": "ed2fe7f0",
   "metadata": {},
   "outputs": [],
   "source": []
  },
  {
   "cell_type": "code",
   "execution_count": 50,
   "id": "f8d1bce5",
   "metadata": {},
   "outputs": [],
   "source": [
    "generator = Generator(3,2,25,3)\n",
    "generator.eval()\n",
    "generator.to('cpu')\n",
    "\n",
    "points = generator(torch.randn(100,3))"
   ]
  },
  {
   "cell_type": "code",
   "execution_count": 51,
   "id": "aa2161be",
   "metadata": {},
   "outputs": [
    {
     "data": {
      "text/plain": [
       "tensor([[-2.3411e-03, -1.8702e-01],\n",
       "        [-4.1350e-02, -1.1291e-01],\n",
       "        [-1.4948e-02,  4.0677e-02],\n",
       "        [-1.6868e-02,  1.6395e-02],\n",
       "        [-2.1017e-02, -4.2681e-02],\n",
       "        [ 2.0820e-02, -5.6173e-03],\n",
       "        [ 1.0263e-02, -4.7417e-02],\n",
       "        [ 1.1006e-02, -5.0794e-02],\n",
       "        [ 3.2941e-02, -4.3030e-03],\n",
       "        [-1.0690e-02,  7.7811e-03],\n",
       "        [ 2.2699e-02, -1.5344e-02],\n",
       "        [-3.5862e-02,  1.7627e-02],\n",
       "        [ 1.8101e-02, -4.2083e-02],\n",
       "        [-7.3619e-02, -5.1184e-02],\n",
       "        [-1.2799e-01,  3.4587e-02],\n",
       "        [-4.8734e-03, -5.9408e-04],\n",
       "        [-2.5491e-02,  3.9461e-02],\n",
       "        [-2.9826e-03, -2.2362e-02],\n",
       "        [-4.5484e-02, -3.7756e-02],\n",
       "        [ 6.6784e-02, -1.8187e-01],\n",
       "        [ 3.0647e-04,  1.2095e-04],\n",
       "        [-2.4446e-02, -2.7782e-02],\n",
       "        [-7.1686e-02, -1.1068e-02],\n",
       "        [-2.8820e-02, -5.3256e-03],\n",
       "        [-3.5530e-02, -1.0696e-02],\n",
       "        [-8.2439e-03,  4.0599e-02],\n",
       "        [-8.0787e-02,  3.3579e-02],\n",
       "        [ 7.2898e-03,  3.1365e-02],\n",
       "        [-4.2162e-02, -1.4788e-02],\n",
       "        [-8.3560e-02, -7.8632e-02],\n",
       "        [ 1.6831e-02,  3.3645e-02],\n",
       "        [ 8.6287e-03, -1.5059e-01],\n",
       "        [-3.1415e-02, -5.5455e-02],\n",
       "        [-5.2686e-02, -1.8228e-02],\n",
       "        [-1.1784e-02,  1.1701e-02],\n",
       "        [ 3.6289e-02, -4.1364e-03],\n",
       "        [-5.9042e-02,  2.5223e-02],\n",
       "        [-3.1892e-02, -4.9354e-02],\n",
       "        [-4.1634e-02, -3.4151e-02],\n",
       "        [-3.3634e-03,  4.1917e-02],\n",
       "        [-9.0135e-03, -1.9974e-03],\n",
       "        [-7.8308e-03, -2.5041e-02],\n",
       "        [ 3.3917e-03, -3.7671e-02],\n",
       "        [-2.7133e-02, -7.6184e-02],\n",
       "        [ 1.9880e-02, -3.3826e-02],\n",
       "        [ 3.5512e-03, -1.3318e-02],\n",
       "        [-2.1391e-02, -9.3148e-03],\n",
       "        [-3.6406e-02, -1.9390e-02],\n",
       "        [-1.5785e-02, -1.3308e-02],\n",
       "        [-2.5775e-02,  1.4589e-02],\n",
       "        [ 4.0204e-01,  4.0831e-01],\n",
       "        [ 4.9231e-01,  4.5627e-01],\n",
       "        [ 4.7865e-01,  4.3547e-01],\n",
       "        [ 4.7971e-01,  4.5655e-01],\n",
       "        [ 4.7361e-01,  4.7200e-01],\n",
       "        [ 4.7488e-01,  4.7141e-01],\n",
       "        [ 4.7690e-01,  4.7363e-01],\n",
       "        [ 4.7360e-01,  4.9054e-01],\n",
       "        [ 4.5296e-01,  4.7384e-01],\n",
       "        [ 4.8412e-01,  4.8251e-01],\n",
       "        [ 4.7113e-01,  5.0661e-01],\n",
       "        [ 4.6621e-01,  4.6624e-01],\n",
       "        [ 5.2611e-01,  4.8672e-01],\n",
       "        [ 4.5972e-01,  4.9254e-01],\n",
       "        [ 3.9170e-01,  4.4192e-01],\n",
       "        [ 4.7265e-01,  4.5307e-01],\n",
       "        [ 4.7526e-01,  4.7005e-01],\n",
       "        [ 5.2260e-01,  4.7014e-01],\n",
       "        [ 3.8824e-01,  4.7737e-01],\n",
       "        [ 4.6113e-01,  4.3331e-01],\n",
       "        [ 4.8225e-01,  4.8000e-01],\n",
       "        [ 5.0717e-01,  4.8492e-01],\n",
       "        [ 4.6750e-01,  4.7264e-01],\n",
       "        [ 4.7366e-01,  4.8267e-01],\n",
       "        [ 4.7299e-01,  4.7888e-01],\n",
       "        [ 4.7925e-01,  4.5952e-01],\n",
       "        [ 4.6222e-01,  4.4588e-01],\n",
       "        [ 4.7545e-01,  4.4893e-01],\n",
       "        [ 4.7668e-01,  4.7086e-01],\n",
       "        [ 4.6007e-01,  4.5823e-01],\n",
       "        [ 4.4276e-01,  4.4608e-01],\n",
       "        [ 4.8600e-01,  4.5861e-01],\n",
       "        [ 4.8196e-01,  4.7102e-01],\n",
       "        [ 4.8620e-01,  4.8463e-01],\n",
       "        [ 4.3241e-01,  4.6924e-01],\n",
       "        [ 4.5989e-01,  4.8055e-01],\n",
       "        [ 4.6974e-01,  4.2246e-01],\n",
       "        [ 4.8544e-01,  4.9180e-01],\n",
       "        [ 4.9257e-01,  4.7639e-01],\n",
       "        [ 4.8276e-01,  4.5189e-01],\n",
       "        [ 4.7690e-01,  4.5060e-01],\n",
       "        [ 4.4855e-01,  4.8382e-01],\n",
       "        [ 4.8021e-01,  4.6960e-01],\n",
       "        [ 4.5871e-01,  4.7192e-01],\n",
       "        [ 4.7600e-01,  4.8400e-01],\n",
       "        [ 4.7194e-01,  4.7221e-01],\n",
       "        [ 4.0917e-01,  5.0361e-01],\n",
       "        [ 4.7641e-01,  4.4883e-01],\n",
       "        [ 4.1150e-01,  4.3898e-01],\n",
       "        [ 4.9142e-01,  4.9714e-01]], grad_fn=<ViewBackward0>)"
      ]
     },
     "execution_count": 51,
     "metadata": {},
     "output_type": "execute_result"
    }
   ],
   "source": [
    "points"
   ]
  },
  {
   "cell_type": "code",
   "execution_count": 52,
   "id": "824d5036",
   "metadata": {},
   "outputs": [],
   "source": [
    "p = points.detach().numpy()"
   ]
  },
  {
   "cell_type": "code",
   "execution_count": null,
   "id": "b9f773ab",
   "metadata": {},
   "outputs": [],
   "source": [
    "d = DataLoader(ds, batch_size=100)"
   ]
  },
  {
   "cell_type": "code",
   "execution_count": null,
   "id": "6fc2771a",
   "metadata": {},
   "outputs": [],
   "source": [
    "k = next(iter(d))"
   ]
  },
  {
   "cell_type": "code",
   "execution_count": null,
   "id": "023ee992",
   "metadata": {},
   "outputs": [],
   "source": [
    "m = k[0].detach().numpy()"
   ]
  },
  {
   "cell_type": "code",
   "execution_count": 74,
   "id": "493c5dca",
   "metadata": {},
   "outputs": [
    {
     "name": "stderr",
     "output_type": "stream",
     "text": [
      "/home/johnny/.virtualenvs/jup/lib/python3.8/site-packages/torch/nn/functional.py:1795: UserWarning: nn.functional.tanh is deprecated. Use torch.tanh instead.\n",
      "  warnings.warn(\"nn.functional.tanh is deprecated. Use torch.tanh instead.\")\n",
      "/home/johnny/.virtualenvs/jup/lib/python3.8/site-packages/torch/nn/functional.py:1806: UserWarning: nn.functional.sigmoid is deprecated. Use torch.sigmoid instead.\n",
      "  warnings.warn(\"nn.functional.sigmoid is deprecated. Use torch.sigmoid instead.\")\n"
     ]
    },
    {
     "data": {
      "text/plain": [
       "[<matplotlib.lines.Line2D at 0x7f59300b74c0>]"
      ]
     },
     "execution_count": 74,
     "metadata": {},
     "output_type": "execute_result"
    },
    {
     "data": {
      "image/png": "[encoded data removed]",
      "text/plain": [
       "<Figure size 432x288 with 1 Axes>"
      ]
     },
     "metadata": {
      "needs_background": "light"
     },
     "output_type": "display_data"
    }
   ],
   "source": [
    "points = generator(torch.randn(100,3))\n",
    "p = points.cpu().detach().numpy()\n",
    "plt.plot(p[:, 0], p[:, 1], 'p')\n",
    "#plt.plot(m[:,0],m[:, 1],'p',c='r')"
   ]
  },
  {
   "cell_type": "code",
   "execution_count": null,
   "id": "15c23011",
   "metadata": {
    "scrolled": true
   },
   "outputs": [],
   "source": [
    "model.discriminator.eval()"
   ]
  },
  {
   "cell_type": "code",
   "execution_count": null,
   "id": "3e755a98",
   "metadata": {
    "scrolled": true
   },
   "outputs": [],
   "source": [
    "model.discriminator(torch.FloatTensor([[100,1]]))"
   ]
  },
  {
   "cell_type": "code",
   "execution_count": null,
   "id": "e0df50cf",
   "metadata": {},
   "outputs": [],
   "source": [
    "torch.FloatTensor([x,y]).view(1,-1,2)"
   ]
  },
  {
   "cell_type": "code",
   "execution_count": null,
   "id": "d1f8384d",
   "metadata": {},
   "outputs": [],
   "source": [
    "plt.hist(np.squeeze(model.discriminator(torch.FloatTensor(np.vstack((x,y)).transpose())).detach().numpy()))"
   ]
  },
  {
   "cell_type": "code",
   "execution_count": null,
   "id": "1f0cf598",
   "metadata": {},
   "outputs": [],
   "source": [
    "model.discriminator(torch.FloatTensor(np.vstack((x,y)).transpose()).unsqueeze(-1))"
   ]
  },
  {
   "cell_type": "code",
   "execution_count": null,
   "id": "3e1f62db",
   "metadata": {},
   "outputs": [],
   "source": [
    "model.discriminator(torch.FloatTensor([x,y]))"
   ]
  },
  {
   "cell_type": "code",
   "execution_count": null,
   "id": "7f12df28",
   "metadata": {},
   "outputs": [],
   "source": [
    "model.discriminator(torch.FloatTensor(points))"
   ]
  },
  {
   "cell_type": "code",
   "execution_count": null,
   "id": "fb594d24",
   "metadata": {},
   "outputs": [],
   "source": [
    "plt.plot(points[:,0], points[:,1], 'p')\n",
    "plt.plot(x,y,'p',c='r')"
   ]
  },
  {
   "cell_type": "markdown",
   "id": "61ee3300",
   "metadata": {},
   "source": [
    "# GAN for non local distributions"
   ]
  },
  {
   "cell_type": "code",
   "execution_count": null,
   "id": "68a25200",
   "metadata": {},
   "outputs": [],
   "source": [
    "n = 100000\n",
    "local = sample_no_signalling(n, True, output_format=0)\n",
    "non_local =  sample_no_signalling(n, False, output_format=0)\n",
    "ds = MyDataset(non_local)"
   ]
  },
  {
   "cell_type": "code",
   "execution_count": null,
   "id": "eb43fe6f",
   "metadata": {},
   "outputs": [],
   "source": [
    "logger = TensorBoardLogger('my_logs', 'GAN')\n",
    "tr1 = Trainer(max_epochs=500, gpus=1, logger=logger)"
   ]
  },
  {
   "cell_type": "code",
   "execution_count": null,
   "id": "1dd77efc",
   "metadata": {
    "scrolled": true
   },
   "outputs": [],
   "source": [
    "%reload_ext tensorboard\n",
    "%tensorboard --logdir my_logs/"
   ]
  },
  {
   "cell_type": "code",
   "execution_count": null,
   "id": "7c0eef8c",
   "metadata": {
    "scrolled": true
   },
   "outputs": [],
   "source": [
    "model = GAN(ds)\n",
    "tr1.fit(model)"
   ]
  }
 ],
 "metadata": {
  "kernelspec": {
   "display_name": "Python 3 (ipykernel)",
   "language": "python",
   "name": "python3"
  },
  "language_info": {
   "codemirror_mode": {
    "name": "ipython",
    "version": 3
   },
   "file_extension": ".py",
   "mimetype": "text/x-python",
   "name": "python",
   "nbconvert_exporter": "python",
   "pygments_lexer": "ipython3",
   "version": "3.8.10"
  }
 },
 "nbformat": 4,
 "nbformat_minor": 5
}
