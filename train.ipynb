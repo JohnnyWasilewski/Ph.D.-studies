{
 "cells": [
  {
   "cell_type": "code",
   "execution_count": null,
   "id": "8e8001af",
   "metadata": {},
   "outputs": [],
   "source": [
    "# TODO\n",
    "# GPU + docker"
   ]
  },
  {
   "cell_type": "code",
   "execution_count": null,
   "id": "bb23e7a4",
   "metadata": {},
   "outputs": [],
   "source": [
    "%load_ext tensorboard"
   ]
  },
  {
   "cell_type": "code",
   "execution_count": null,
   "id": "7cd23f9d",
   "metadata": {},
   "outputs": [],
   "source": [
    "%tensorboard --logdir tb_logs/my_model/version_97"
   ]
  },
  {
   "cell_type": "code",
   "execution_count": 1,
   "id": "58e4fbc0",
   "metadata": {},
   "outputs": [],
   "source": [
    "import import_ipynb\n",
    "import torch\n",
    "import torch.nn as nn\n",
    "import torch.nn.functional as F\n",
    "from torch.utils.data import Dataset, DataLoader\n",
    "from sklearn.model_selection import train_test_split\n",
    "import numpy as np\n",
    "import pytorch_lightning as pl\n",
    "import torch.nn.functional as F\n",
    "from torch.optim import Adam, SGD\n",
    "\n",
    "from sampler import *\n",
    "from data_modules import *\n",
    "from callbacks import *"
   ]
  },
  {
   "cell_type": "code",
   "execution_count": 2,
   "id": "7e5cff24",
   "metadata": {},
   "outputs": [],
   "source": [
    "def generate_data(n, output_format):\n",
    "    local = sample_no_signalling(n, True, output_format)\n",
    "    non_local = sample_no_signalling(n, False, output_format)\n",
    "    data = local + non_local\n",
    "    targets = [0] * n + [1] * n\n",
    "    return data, targets"
   ]
  },
  {
   "cell_type": "code",
   "execution_count": null,
   "id": "93a125b7",
   "metadata": {},
   "outputs": [],
   "source": [
    "data, targets = generate_data(1000, 2)"
   ]
  },
  {
   "cell_type": "code",
   "execution_count": 3,
   "id": "6d347c55",
   "metadata": {},
   "outputs": [],
   "source": [
    "class ConvNet(nn.Module):\n",
    "    def __init__(self):\n",
    "        super().__init__()\n",
    "        self.conv1 = nn.Conv2d(in_channels = 1,out_channels = 32,kernel_size = (3,3))\n",
    "        self.conv2 = nn.Conv2d(32, 64, 3)\n",
    "        self.conv3 = nn.Conv2d(32, 32, 3)\n",
    "        self.pool = nn.MaxPool2d(2, 2)\n",
    "        self.fc1 = nn.Linear(614656, 100)\n",
    "        self.fc2 = nn.Linear(100, 1)\n",
    "        self.sigmoid = nn.Sigmoid()\n",
    "    \n",
    "    def features(self, x):\n",
    "        x = self.pool(F.relu(self.conv1(x)))\n",
    "        x = self.pool(F.relu(self.conv2(x)))\n",
    "        #x = self.pool(F.relu(self.conv3(x)))\n",
    "        #x = self.pool(F.relu(self.conv3(x)))\n",
    "        #x = self.pool(F.relu(self.conv3(x)))\n",
    "        return x\n",
    "\n",
    "    def forward(self, x):\n",
    "        x = self.features(x)\n",
    "        x = torch.flatten(x, 1)\n",
    "        x = self.fc1(x)\n",
    "        x = self.fc2(x)\n",
    "        return self.sigmoid(x)\n",
    "    \n",
    "class MLP(nn.Module):\n",
    "    def __init__(self, input_len, hidden_len):\n",
    "        super().__init__()\n",
    "        self.fc1 = nn.Linear(input_len, hidden_len)\n",
    "        self.fc2 = nn.Linear(hidden_len, hidden_len)\n",
    "        self.fc3 = nn.Linear(hidden_len, 1)\n",
    "        self.sigmoid = nn.Sigmoid()\n",
    "        \n",
    "    def forward(self, x):\n",
    "        x = x.float()\n",
    "        x = torch.flatten(x, 1)\n",
    "        x = F.relu(self.fc1(x))\n",
    "        x = F.relu(self.fc2(x))\n",
    "        x = F.relu(self.fc2(x))\n",
    "        x = self.fc3(x)\n",
    "        return self.sigmoid(x)"
   ]
  },
  {
   "cell_type": "code",
   "execution_count": 4,
   "id": "00d9f958",
   "metadata": {},
   "outputs": [],
   "source": [
    "from torchmetrics import Accuracy\n",
    "from torch.nn import BCEWithLogitsLoss\n",
    "\n",
    "class Classifier(pl.LightningModule):\n",
    "    def __init__(self, model):\n",
    "        super().__init__()\n",
    "        self.model = model\n",
    "        self.loss = torch.nn.BCELoss()\n",
    "        self.acc = Accuracy()\n",
    "        \n",
    "    def forward(self, x):\n",
    "        return self.model(x)\n",
    "    \n",
    "    def configure_optimizers(self):\n",
    "        return SGD(self.parameters(), lr=1e-3)\n",
    "        \n",
    "    def training_step(self, train_batch, batch_idx):\n",
    "        x, y = train_batch\n",
    "        y_hat = self.model(x)\n",
    "        y = y.float().unsqueeze(1)\n",
    "        loss = self.loss(y_hat, y)\n",
    "        self.log('train_loss', loss)\n",
    "        self.log('train acc', self.acc(torch.round(y_hat), y.int()))\n",
    "        return loss\n",
    "\n",
    "    def validation_step(self, val_batch, batch_idx):\n",
    "        x, y = val_batch\n",
    "        y_hat = self.model(x)\n",
    "        y = y.float().unsqueeze(1)\n",
    "        val_loss = self.loss(y_hat, y)\n",
    "        self.log('val loss', val_loss)\n",
    "        self.log('val acc', self.acc(torch.round(y_hat), y.int()))\n",
    "\n",
    "        return val_loss\n",
    "    \n",
    "    def test_step(self, batch, batch_idx):\n",
    "        x, y = batch\n",
    "\n",
    "        y_hat = self.model(x)\n",
    "        y = y.float().unsqueeze(1)\n",
    "        loss = self.loss(y_hat, y)\n",
    "        output = dict({\n",
    "                'test_loss': loss,\n",
    "            'test_acc': self.acc(torch.round(y_hat), y.int()),        })\n",
    "        return output"
   ]
  },
  {
   "cell_type": "code",
   "execution_count": null,
   "id": "6372e44f",
   "metadata": {
    "scrolled": true
   },
   "outputs": [],
   "source": [
    "from pl_bolts.callbacks import PrintTableMetricsCallback\n",
    "from pytorch_lightning.loggers import WandbLogger \n",
    "from pytorch_lightning.loggers import TensorBoardLogger\n",
    "from data_modules import MyDatasetOfImages\n",
    "logger = TensorBoardLogger(\"tb_logs\", name=\"my_model\")\n",
    "transform = transforms.Compose([\n",
    "    transforms.ToTensor(),\n",
    "#    transforms.Normalize([0,0,0], [1,1,1])\n",
    "#    transforms.Resize(100)\n",
    "])\n",
    "dm = MyDataModule(data, targets, transform, 16, MyDatasetOfImages)\n",
    "clf = Classifier(ConvNet())\n",
    "trainer = pl.Trainer(max_epochs=500,\n",
    "                     gpus=1, callbacks=[PrintTableMetricsCallback2(20)],\n",
    "                     logger=logger)\n",
    "trainer.fit(clf, dm)"
   ]
  },
  {
   "cell_type": "code",
   "execution_count": 5,
   "id": "c705f8b1",
   "metadata": {},
   "outputs": [],
   "source": [
    "data2, targets2 = generate_data(1000, 1)"
   ]
  },
  {
   "cell_type": "code",
   "execution_count": 7,
   "id": "d5b37eb0",
   "metadata": {},
   "outputs": [
    {
     "name": "stderr",
     "output_type": "stream",
     "text": [
      "GPU available: True, used: False\n",
      "TPU available: False, using: 0 TPU cores\n",
      "IPU available: False, using: 0 IPUs\n",
      "/home/johnny/.virtualenvs/jup/lib/python3.8/site-packages/pytorch_lightning/trainer/trainer.py:1579: UserWarning: GPU available but not used. Set the gpus flag in your trainer `Trainer(gpus=1)` or script `--gpus=1`.\n",
      "  rank_zero_warn(\n",
      "\n",
      "  | Name  | Type     | Params\n",
      "-----------------------------------\n",
      "0 | model | ConvNet  | 61.5 M\n",
      "1 | loss  | BCELoss  | 0     \n",
      "2 | acc   | Accuracy | 0     \n",
      "-----------------------------------\n",
      "61.5 M    Trainable params\n",
      "0         Non-trainable params\n",
      "61.5 M    Total params\n",
      "245.975   Total estimated model params size (MB)\n"
     ]
    },
    {
     "data": {
      "application/vnd.jupyter.widget-view+json": {
       "model_id": "",
       "version_major": 2,
       "version_minor": 0
      },
      "text/plain": [
       "Validation sanity check: 0it [00:00, ?it/s]"
      ]
     },
     "metadata": {},
     "output_type": "display_data"
    },
    {
     "name": "stderr",
     "output_type": "stream",
     "text": [
      "/home/johnny/.virtualenvs/jup/lib/python3.8/site-packages/pytorch_lightning/trainer/data_loading.py:407: UserWarning: The number of training samples (23) is smaller than the logging interval Trainer(log_every_n_steps=50). Set a lower value for log_every_n_steps if you want to see logs for the training epoch.\n",
      "  rank_zero_warn(\n"
     ]
    },
    {
     "data": {
      "application/vnd.jupyter.widget-view+json": {
       "model_id": "00b0a64243b7467a887a0aff1a75a31c",
       "version_major": 2,
       "version_minor": 0
      },
      "text/plain": [
       "Training: 0it [00:00, ?it/s]"
      ]
     },
     "metadata": {},
     "output_type": "display_data"
    },
    {
     "data": {
      "application/vnd.jupyter.widget-view+json": {
       "model_id": "",
       "version_major": 2,
       "version_minor": 0
      },
      "text/plain": [
       "Validating: 0it [00:00, ?it/s]"
      ]
     },
     "metadata": {},
     "output_type": "display_data"
    },
    {
     "name": "stderr",
     "output_type": "stream",
     "text": [
      "train_loss│train acc│val loss│val acc\n",
      "─────────────────────────────────────\n",
      "0.6252286434173584│0.7200000286102295│0.9179812073707581│0.4586666524410248\n"
     ]
    },
    {
     "data": {
      "application/vnd.jupyter.widget-view+json": {
       "model_id": "",
       "version_major": 2,
       "version_minor": 0
      },
      "text/plain": [
       "Validating: 0it [00:00, ?it/s]"
      ]
     },
     "metadata": {},
     "output_type": "display_data"
    },
    {
     "data": {
      "application/vnd.jupyter.widget-view+json": {
       "model_id": "",
       "version_major": 2,
       "version_minor": 0
      },
      "text/plain": [
       "Validating: 0it [00:00, ?it/s]"
      ]
     },
     "metadata": {},
     "output_type": "display_data"
    },
    {
     "data": {
      "application/vnd.jupyter.widget-view+json": {
       "model_id": "",
       "version_major": 2,
       "version_minor": 0
      },
      "text/plain": [
       "Validating: 0it [00:00, ?it/s]"
      ]
     },
     "metadata": {},
     "output_type": "display_data"
    },
    {
     "data": {
      "application/vnd.jupyter.widget-view+json": {
       "model_id": "",
       "version_major": 2,
       "version_minor": 0
      },
      "text/plain": [
       "Validating: 0it [00:00, ?it/s]"
      ]
     },
     "metadata": {},
     "output_type": "display_data"
    },
    {
     "data": {
      "application/vnd.jupyter.widget-view+json": {
       "model_id": "",
       "version_major": 2,
       "version_minor": 0
      },
      "text/plain": [
       "Validating: 0it [00:00, ?it/s]"
      ]
     },
     "metadata": {},
     "output_type": "display_data"
    },
    {
     "data": {
      "application/vnd.jupyter.widget-view+json": {
       "model_id": "",
       "version_major": 2,
       "version_minor": 0
      },
      "text/plain": [
       "Validating: 0it [00:00, ?it/s]"
      ]
     },
     "metadata": {},
     "output_type": "display_data"
    },
    {
     "data": {
      "application/vnd.jupyter.widget-view+json": {
       "model_id": "",
       "version_major": 2,
       "version_minor": 0
      },
      "text/plain": [
       "Validating: 0it [00:00, ?it/s]"
      ]
     },
     "metadata": {},
     "output_type": "display_data"
    },
    {
     "data": {
      "application/vnd.jupyter.widget-view+json": {
       "model_id": "",
       "version_major": 2,
       "version_minor": 0
      },
      "text/plain": [
       "Validating: 0it [00:00, ?it/s]"
      ]
     },
     "metadata": {},
     "output_type": "display_data"
    },
    {
     "data": {
      "application/vnd.jupyter.widget-view+json": {
       "model_id": "",
       "version_major": 2,
       "version_minor": 0
      },
      "text/plain": [
       "Validating: 0it [00:00, ?it/s]"
      ]
     },
     "metadata": {},
     "output_type": "display_data"
    },
    {
     "data": {
      "application/vnd.jupyter.widget-view+json": {
       "model_id": "",
       "version_major": 2,
       "version_minor": 0
      },
      "text/plain": [
       "Validating: 0it [00:00, ?it/s]"
      ]
     },
     "metadata": {},
     "output_type": "display_data"
    },
    {
     "data": {
      "application/vnd.jupyter.widget-view+json": {
       "model_id": "",
       "version_major": 2,
       "version_minor": 0
      },
      "text/plain": [
       "Validating: 0it [00:00, ?it/s]"
      ]
     },
     "metadata": {},
     "output_type": "display_data"
    },
    {
     "data": {
      "application/vnd.jupyter.widget-view+json": {
       "model_id": "",
       "version_major": 2,
       "version_minor": 0
      },
      "text/plain": [
       "Validating: 0it [00:00, ?it/s]"
      ]
     },
     "metadata": {},
     "output_type": "display_data"
    },
    {
     "data": {
      "application/vnd.jupyter.widget-view+json": {
       "model_id": "",
       "version_major": 2,
       "version_minor": 0
      },
      "text/plain": [
       "Validating: 0it [00:00, ?it/s]"
      ]
     },
     "metadata": {},
     "output_type": "display_data"
    },
    {
     "data": {
      "application/vnd.jupyter.widget-view+json": {
       "model_id": "",
       "version_major": 2,
       "version_minor": 0
      },
      "text/plain": [
       "Validating: 0it [00:00, ?it/s]"
      ]
     },
     "metadata": {},
     "output_type": "display_data"
    },
    {
     "data": {
      "application/vnd.jupyter.widget-view+json": {
       "model_id": "",
       "version_major": 2,
       "version_minor": 0
      },
      "text/plain": [
       "Validating: 0it [00:00, ?it/s]"
      ]
     },
     "metadata": {},
     "output_type": "display_data"
    },
    {
     "data": {
      "application/vnd.jupyter.widget-view+json": {
       "model_id": "",
       "version_major": 2,
       "version_minor": 0
      },
      "text/plain": [
       "Validating: 0it [00:00, ?it/s]"
      ]
     },
     "metadata": {},
     "output_type": "display_data"
    },
    {
     "data": {
      "application/vnd.jupyter.widget-view+json": {
       "model_id": "",
       "version_major": 2,
       "version_minor": 0
      },
      "text/plain": [
       "Validating: 0it [00:00, ?it/s]"
      ]
     },
     "metadata": {},
     "output_type": "display_data"
    },
    {
     "data": {
      "application/vnd.jupyter.widget-view+json": {
       "model_id": "",
       "version_major": 2,
       "version_minor": 0
      },
      "text/plain": [
       "Validating: 0it [00:00, ?it/s]"
      ]
     },
     "metadata": {},
     "output_type": "display_data"
    },
    {
     "data": {
      "application/vnd.jupyter.widget-view+json": {
       "model_id": "",
       "version_major": 2,
       "version_minor": 0
      },
      "text/plain": [
       "Validating: 0it [00:00, ?it/s]"
      ]
     },
     "metadata": {},
     "output_type": "display_data"
    },
    {
     "data": {
      "application/vnd.jupyter.widget-view+json": {
       "model_id": "",
       "version_major": 2,
       "version_minor": 0
      },
      "text/plain": [
       "Validating: 0it [00:00, ?it/s]"
      ]
     },
     "metadata": {},
     "output_type": "display_data"
    },
    {
     "data": {
      "application/vnd.jupyter.widget-view+json": {
       "model_id": "",
       "version_major": 2,
       "version_minor": 0
      },
      "text/plain": [
       "Validating: 0it [00:00, ?it/s]"
      ]
     },
     "metadata": {},
     "output_type": "display_data"
    },
    {
     "data": {
      "application/vnd.jupyter.widget-view+json": {
       "model_id": "",
       "version_major": 2,
       "version_minor": 0
      },
      "text/plain": [
       "Validating: 0it [00:00, ?it/s]"
      ]
     },
     "metadata": {},
     "output_type": "display_data"
    },
    {
     "data": {
      "application/vnd.jupyter.widget-view+json": {
       "model_id": "",
       "version_major": 2,
       "version_minor": 0
      },
      "text/plain": [
       "Validating: 0it [00:00, ?it/s]"
      ]
     },
     "metadata": {},
     "output_type": "display_data"
    },
    {
     "data": {
      "application/vnd.jupyter.widget-view+json": {
       "model_id": "",
       "version_major": 2,
       "version_minor": 0
      },
      "text/plain": [
       "Validating: 0it [00:00, ?it/s]"
      ]
     },
     "metadata": {},
     "output_type": "display_data"
    },
    {
     "data": {
      "application/vnd.jupyter.widget-view+json": {
       "model_id": "",
       "version_major": 2,
       "version_minor": 0
      },
      "text/plain": [
       "Validating: 0it [00:00, ?it/s]"
      ]
     },
     "metadata": {},
     "output_type": "display_data"
    },
    {
     "data": {
      "application/vnd.jupyter.widget-view+json": {
       "model_id": "",
       "version_major": 2,
       "version_minor": 0
      },
      "text/plain": [
       "Validating: 0it [00:00, ?it/s]"
      ]
     },
     "metadata": {},
     "output_type": "display_data"
    },
    {
     "data": {
      "application/vnd.jupyter.widget-view+json": {
       "model_id": "",
       "version_major": 2,
       "version_minor": 0
      },
      "text/plain": [
       "Validating: 0it [00:00, ?it/s]"
      ]
     },
     "metadata": {},
     "output_type": "display_data"
    },
    {
     "data": {
      "application/vnd.jupyter.widget-view+json": {
       "model_id": "",
       "version_major": 2,
       "version_minor": 0
      },
      "text/plain": [
       "Validating: 0it [00:00, ?it/s]"
      ]
     },
     "metadata": {},
     "output_type": "display_data"
    },
    {
     "data": {
      "application/vnd.jupyter.widget-view+json": {
       "model_id": "",
       "version_major": 2,
       "version_minor": 0
      },
      "text/plain": [
       "Validating: 0it [00:00, ?it/s]"
      ]
     },
     "metadata": {},
     "output_type": "display_data"
    },
    {
     "data": {
      "application/vnd.jupyter.widget-view+json": {
       "model_id": "",
       "version_major": 2,
       "version_minor": 0
      },
      "text/plain": [
       "Validating: 0it [00:00, ?it/s]"
      ]
     },
     "metadata": {},
     "output_type": "display_data"
    },
    {
     "data": {
      "application/vnd.jupyter.widget-view+json": {
       "model_id": "",
       "version_major": 2,
       "version_minor": 0
      },
      "text/plain": [
       "Validating: 0it [00:00, ?it/s]"
      ]
     },
     "metadata": {},
     "output_type": "display_data"
    },
    {
     "data": {
      "application/vnd.jupyter.widget-view+json": {
       "model_id": "",
       "version_major": 2,
       "version_minor": 0
      },
      "text/plain": [
       "Validating: 0it [00:00, ?it/s]"
      ]
     },
     "metadata": {},
     "output_type": "display_data"
    },
    {
     "name": "stderr",
     "output_type": "stream",
     "text": [
      "/home/johnny/.virtualenvs/jup/lib/python3.8/site-packages/pytorch_lightning/trainer/trainer.py:685: UserWarning: Detected KeyboardInterrupt, attempting graceful shutdown...\n",
      "  rank_zero_warn(\"Detected KeyboardInterrupt, attempting graceful shutdown...\")\n"
     ]
    }
   ],
   "source": [
    "from pl_bolts.callbacks import PrintTableMetricsCallback\n",
    "from pytorch_lightning.loggers import WandbLogger \n",
    "from pytorch_lightning.loggers import TensorBoardLogger\n",
    "from data_modules import MyDatasetOfImages\n",
    "logger = TensorBoardLogger(\"tb_logs\", name=\"my_model\")\n",
    "transform = transforms.Compose([\n",
    "    transforms.ToTensor(),\n",
    "#    transforms.Normalize([0,0,0], [1,1,1])\n",
    "#    transforms.Resize(100)\n",
    "])\n",
    "\n",
    "dm2 = MyDataModule(data2, targets2, transform, 16, MyDatasetOfImages)\n",
    "clf2 = Classifier(ConvNet())\n",
    "trainer2 = pl.Trainer(max_epochs=500, \n",
    "                     callbacks=[PrintTableMetricsCallback2(20)],\n",
    "                     logger=logger)\n",
    "trainer2.fit(clf2, dm2)"
   ]
  },
  {
   "cell_type": "code",
   "execution_count": null,
   "id": "7693f289",
   "metadata": {},
   "outputs": [],
   "source": [
    "from pl_bolts.callbacks import PrintTableMetricsCallback\n",
    "from pytorch_lightning.loggers import WandbLogger \n",
    "from pytorch_lightning.loggers import TensorBoardLogger\n",
    "\n",
    "logger = TensorBoardLogger(\"tb_logs\", name=\"my_model\")\n",
    "transform = transforms.Compose([\n",
    " #   transforms.ToTensor(),\n",
    "#    transforms.Resize(100)\n",
    "])\n",
    "dm = MyDataModule(data, targets, transform, 16)\n",
    "clf = Classifier(MLP(16, 100))\n",
    "trainer = pl.Trainer(max_epochs=500,\n",
    "                     gpus=1, callbacks=[PrintTableMetricsCallback2(20)],\n",
    "                     logger=logger)\n",
    "trainer.fit(clf, dm)"
   ]
  },
  {
   "cell_type": "code",
   "execution_count": null,
   "id": "a52444c6",
   "metadata": {},
   "outputs": [],
   "source": [
    "next(iter(dm.train_dataset))"
   ]
  },
  {
   "cell_type": "code",
   "execution_count": null,
   "id": "dcb4d72b",
   "metadata": {},
   "outputs": [],
   "source": [
    "data[2]"
   ]
  },
  {
   "cell_type": "code",
   "execution_count": null,
   "id": "a0149b5e",
   "metadata": {},
   "outputs": [],
   "source": [
    "dm.setup(None)"
   ]
  },
  {
   "cell_type": "code",
   "execution_count": null,
   "id": "61abd5fd",
   "metadata": {},
   "outputs": [],
   "source": [
    "dm = MyDataModule(data, targets, None, 16)"
   ]
  },
  {
   "cell_type": "code",
   "execution_count": null,
   "id": "55fac95b",
   "metadata": {},
   "outputs": [],
   "source": [
    "from pl_bolts.callbacks import PrintTableMetricsCallback\n",
    "from pytorch_lightning.loggers import WandbLogger \n",
    "from pytorch_lightning.loggers import TensorBoardLogger\n",
    "\n",
    "logger = TensorBoardLogger(\"tb_logs\", name=\"my_model\")\n",
    "transform = transforms.Compose([\n",
    "    transforms.ToTensor(),\n",
    "    transforms.Resize(100)\n",
    "])\n",
    "dm = MNISTDataModule()\n",
    "clf2 = Classifier() \n",
    "trainer = pl.Trainer(max_epochs=25,\n",
    "                     gpus=1, callbacks=[PrintTableMetricsCallback2(20)],\n",
    "                     logger=logger)\n",
    "trainer.fit(clf2, dm)"
   ]
  },
  {
   "cell_type": "code",
   "execution_count": null,
   "id": "c14b2323",
   "metadata": {},
   "outputs": [],
   "source": [
    "a = clf.model.features(next(iter(dm.train_dataloader()))[0])"
   ]
  },
  {
   "cell_type": "code",
   "execution_count": null,
   "id": "52d98f99",
   "metadata": {},
   "outputs": [],
   "source": [
    "plt.figure(figsize=(8, 8))\n",
    "for i in range(16):\n",
    "    ax = plt.subplot(4,4,i+1)\n",
    "    ax.imshow(a[0,i,:,:].detach().numpy())"
   ]
  },
  {
   "cell_type": "code",
   "execution_count": null,
   "id": "ea42cb66",
   "metadata": {},
   "outputs": [],
   "source": [
    "features = clf2.model.features(next(iter(dm.train_dataloader()))[0])"
   ]
  },
  {
   "cell_type": "code",
   "execution_count": null,
   "id": "15a6e84b",
   "metadata": {},
   "outputs": [],
   "source": [
    "plt.figure(figsize=(8, 8))\n",
    "for i in range(16):\n",
    "    ax = plt.subplot(4,4,i+1)\n",
    "    ax.imshow(features[2,i,:,:].detach().numpy(), cmap='gray')"
   ]
  }
 ],
 "metadata": {
  "kernelspec": {
   "display_name": "Python 3 (ipykernel)",
   "language": "python",
   "name": "python3"
  },
  "language_info": {
   "codemirror_mode": {
    "name": "ipython",
    "version": 3
   },
   "file_extension": ".py",
   "mimetype": "text/x-python",
   "name": "python",
   "nbconvert_exporter": "python",
   "pygments_lexer": "ipython3",
   "version": "3.8.10"
  }
 },
 "nbformat": 4,
 "nbformat_minor": 5
}
