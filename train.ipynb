{
 "cells": [
  {
   "cell_type": "code",
   "execution_count": null,
   "id": "58e4fbc0",
   "metadata": {},
   "outputs": [],
   "source": [
    "import import_ipynb\n",
    "import torch\n",
    "from torchvision import transforms\n",
    "import torch.nn as nn\n",
    "import torch.nn.functional as F\n",
    "from torch.utils.data import Dataset, DataLoader\n",
    "from sklearn.model_selection import train_test_split\n",
    "import numpy as np\n",
    "from PIL import Image\n",
    "import pytorch_lightning as pl\n",
    "import torch.nn.functional as F\n",
    "from torch.optim import Adam\n",
    "\n",
    "from sampler import *"
   ]
  },
  {
   "cell_type": "code",
   "execution_count": null,
   "id": "7e5cff24",
   "metadata": {},
   "outputs": [],
   "source": [
    "n = 1000"
   ]
  },
  {
   "cell_type": "code",
   "execution_count": null,
   "id": "76a2eeb6",
   "metadata": {},
   "outputs": [],
   "source": [
    "local = sample_no_signalling(n, True)\n",
    "non_local = sample_no_signalling(n, False)"
   ]
  },
  {
   "cell_type": "code",
   "execution_count": null,
   "id": "51f3082c",
   "metadata": {},
   "outputs": [],
   "source": [
    "data = local + non_local\n",
    "targets = [0] * n + [1] * n"
   ]
  },
  {
   "cell_type": "code",
   "execution_count": null,
   "id": "f97e11a8",
   "metadata": {},
   "outputs": [],
   "source": [
    "class MyDataset(Dataset):\n",
    "    def __init__(self, data, targets, transform):\n",
    "        self.data = data\n",
    "        self.targets = targets\n",
    "        self.transform = transform\n",
    "        \n",
    "    def __getitem__(self, idx):\n",
    "        x = Image.fromarray(self.data[idx].astype(np.uint8))\n",
    "        x = self.transform(x)\n",
    "        #x = transforms.ToTensor(self.data[idx])\n",
    "        y = self.targets[idx]\n",
    "        return x, y\n",
    "    \n",
    "    def __len__(self):\n",
    "        return len(self.targets)"
   ]
  },
  {
   "cell_type": "code",
   "execution_count": null,
   "id": "db036881",
   "metadata": {},
   "outputs": [],
   "source": [
    "class MyDataModule(pl.LightningDataModule):\n",
    "    def __init__(self, X, y, transform):\n",
    "        super().__init__()\n",
    "        self.X = X\n",
    "        self.y = y\n",
    "        self.transform = transform\n",
    "    \n",
    "    def setup(self, stage):\n",
    "        X_train, X_test, y_train, y_test = train_test_split(self.X, self.y)\n",
    "        self.train_dataset = MyDataset(X_train, y_train, transform)\n",
    "        self.test_dataset = MyDataset(X_test, y_test, transform)\n",
    "    \n",
    "    def train_dataloader(self):\n",
    "        return DataLoader(self.train_dataset, batch_size=10, shuffle=True)\n",
    "    \n",
    "    def test_dataloader(self):\n",
    "        return DataLoader(self.test_dataset, batch_size=10, shuffle=True)"
   ]
  },
  {
   "cell_type": "code",
   "execution_count": null,
   "id": "6d347c55",
   "metadata": {},
   "outputs": [],
   "source": [
    "class Net(nn.Module):\n",
    "    def __init__(self):\n",
    "        super().__init__()\n",
    "        self.conv1 = nn.Conv2d(1, 6, 5)\n",
    "        self.pool = nn.MaxPool2d(2, 2)\n",
    "        self.conv2 = nn.Conv2d(6, 16, 5)\n",
    "        self.fc1 = nn.Linear(150544, 120)\n",
    "        self.fc2 = nn.Linear(120, 1)\n",
    "        self.fc3 = nn.Sigmoid()\n",
    "\n",
    "    def forward(self, x):\n",
    "        x = self.pool(F.relu(self.conv1(x)))\n",
    "        x = self.pool(F.relu(self.conv2(x)))\n",
    "        x = torch.flatten(x, 1)\n",
    "        x = F.relu(self.fc1(x))\n",
    "        x = F.relu(self.fc2(x))\n",
    "        x = self.fc3(x)\n",
    "        return x"
   ]
  },
  {
   "cell_type": "code",
   "execution_count": null,
   "id": "00d9f958",
   "metadata": {},
   "outputs": [],
   "source": [
    "class Classifier(pl.LightningModule):\n",
    "    def __init__(self):\n",
    "        super().__init__()\n",
    "        self.model = Net()\n",
    "\n",
    "    def forward(self, x):\n",
    "        return self.model(x)\n",
    "    \n",
    "    def configure_optimizers(self):\n",
    "        return Adam(self.parameters(), lr=1e-3)\n",
    "        \n",
    "    def training_step(self, train_batch, batch_idx):\n",
    "        x, y = train_batch\n",
    "        y_hat = self.model(x)\n",
    "        y = y.unsqueeze(1)\n",
    "        y = y.float()\n",
    "        loss = F.binary_cross_entropy(y_hat, y)\n",
    "        self.log('train_loss', loss)\n",
    "        return loss\n",
    "\n",
    "    def validation_step(self, val_batch, batch_idx):\n",
    "        x, y = val_batch\n",
    "        x = x.view(x.size(0), -1)\n",
    "        y_hat = self.model(x)\n",
    "        y = y.unsqueeze(1)\n",
    "        y = y.float()\n",
    "        loss = F.binary_cross_entropy(y_hat, y)\n",
    "        val_loss.append(loss)\n",
    "        self.log('val loss', loss)\n",
    "        return val_loss"
   ]
  },
  {
   "cell_type": "code",
   "execution_count": null,
   "id": "6372e44f",
   "metadata": {
    "scrolled": false
   },
   "outputs": [],
   "source": [
    "from pl_bolts.callbacks import PrintTableMetricsCallback\n",
    "\n",
    "transform = transforms.Compose([transforms.ToTensor()])\n",
    "dm = MyDataModule(data, targets, transform)\n",
    "clf = Classifier() \n",
    "trainer = pl.Trainer(max_epochs=10, callbacks=[PrintTableMetricsCallback()])\n",
    "trainer.fit(clf, dm)"
   ]
  }
 ],
 "metadata": {
  "kernelspec": {
   "display_name": "Python 3 (ipykernel)",
   "language": "python",
   "name": "python3"
  },
  "language_info": {
   "codemirror_mode": {
    "name": "ipython",
    "version": 3
   },
   "file_extension": ".py",
   "mimetype": "text/x-python",
   "name": "python",
   "nbconvert_exporter": "python",
   "pygments_lexer": "ipython3",
   "version": "3.8.10"
  }
 },
 "nbformat": 4,
 "nbformat_minor": 5
}
