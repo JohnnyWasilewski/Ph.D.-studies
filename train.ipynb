{
 "cells": [
  {
   "cell_type": "code",
   "execution_count": null,
   "id": "8e8001af",
   "metadata": {},
   "outputs": [],
   "source": [
    "# TODO\n",
    "# GPU + docker"
   ]
  },
  {
   "cell_type": "code",
   "execution_count": null,
   "id": "bb23e7a4",
   "metadata": {},
   "outputs": [],
   "source": [
    "%load_ext tensorboard"
   ]
  },
  {
   "cell_type": "code",
   "execution_count": null,
   "id": "7cd23f9d",
   "metadata": {},
   "outputs": [],
   "source": [
    "%tensorboard --logdir tb_logs/my_model/version_97"
   ]
  },
  {
   "cell_type": "code",
   "execution_count": 1,
   "id": "58e4fbc0",
   "metadata": {},
   "outputs": [],
   "source": [
    "import import_ipynb\n",
    "import torch\n",
    "import torch.nn as nn\n",
    "import torch.nn.functional as F\n",
    "from torch.utils.data import Dataset, DataLoader\n",
    "from sklearn.model_selection import train_test_split\n",
    "import numpy as np\n",
    "import pytorch_lightning as pl\n",
    "import torch.nn.functional as F\n",
    "from torch.optim import Adam, SGD\n",
    "\n",
    "from sampler import *\n",
    "from data_modules import *\n",
    "from callbacks import *"
   ]
  },
  {
   "cell_type": "code",
   "execution_count": 2,
   "id": "7e5cff24",
   "metadata": {},
   "outputs": [],
   "source": [
    "def generate_data(n, output_format):\n",
    "    local = sample_no_signalling(n, True, output_format)\n",
    "    non_local = sample_no_signalling(n, False, output_format)\n",
    "    data = local + non_local\n",
    "    targets = [0] * n + [1] * n\n",
    "    return data, targets"
   ]
  },
  {
   "cell_type": "code",
   "execution_count": null,
   "id": "93a125b7",
   "metadata": {},
   "outputs": [],
   "source": [
    "data, targets = generate_data(1000, 2)"
   ]
  },
  {
   "cell_type": "code",
   "execution_count": 3,
   "id": "6d347c55",
   "metadata": {},
   "outputs": [],
   "source": [
    "class ConvNet(nn.Module):\n",
    "    def __init__(self, input_shape):\n",
    "        super().__init__()\n",
    "        self.conv1 = nn.Conv2d(in_channels = 1, out_channels = 32, kernel_size = (3,3))\n",
    "        self.conv2 = nn.Conv2d(32, 64, 3)\n",
    "        self.conv3 = nn.Conv2d(64, 32, 3)\n",
    "        self.pool = nn.MaxPool2d(2, 2)\n",
    "        self.fc1 = nn.Linear(3200, 100)\n",
    "        self.fc2 = nn.Linear(100, 10)\n",
    "        self.sigmoid = nn.LogSoftmax(dim=1) #nn.Sigmoid()\n",
    "        self.input_width, self.input_height = input_shape\n",
    "        self.input_shape = input_shape\n",
    "        \n",
    "    def features(self, x):\n",
    "        x = self.pool(F.relu(self.conv1(x)))\n",
    "        x = self.pool(F.relu(self.conv2(x)))\n",
    "        x = self.pool(F.relu(self.conv3(x)))\n",
    "        #x = self.pool(F.relu(self.conv2(x)))\n",
    "        #x = self.pool(F.relu(self.conv3(x)))\n",
    "        \n",
    "        \n",
    "        #x = self.pool(F.relu(self.conv3(x)))\n",
    "        #x = self.pool(F.relu(self.conv3(x)))\n",
    "        #x = self.pool(F.relu(self.conv3(x)))\n",
    "        return x\n",
    "    \n",
    "    def get_features_dim(self):\n",
    "        return self.features(np.zeros(shape=(1, *self.input_shape))).shape()\n",
    "    \n",
    "    def forward(self, x):\n",
    "        x = self.features(x)\n",
    "        x = torch.flatten(x, 1)\n",
    "        x = self.fc1(x)\n",
    "        x = self.fc2(x)\n",
    "        return F.log_softmax(x, dim=1) #self.sigmoid(x)"
   ]
  },
  {
   "cell_type": "code",
   "execution_count": 64,
   "id": "e76a290e",
   "metadata": {},
   "outputs": [
    {
     "data": {
      "text/plain": [
       "ConvNetBinaryClassification(\n",
       "  (conv1): Conv2d(1, 32, kernel_size=(3, 3), stride=(1, 1))\n",
       "  (conv2): Conv2d(32, 64, kernel_size=(3, 3), stride=(1, 1))\n",
       "  (conv3): Conv2d(64, 128, kernel_size=(3, 3), stride=(1, 1))\n",
       "  (pool): MaxPool2d(kernel_size=2, stride=2, padding=0, dilation=1, ceil_mode=False)\n",
       "  (fc1): Linear(in_features=29440, out_features=100, bias=True)\n",
       "  (fc2): Linear(in_features=100, out_features=10, bias=True)\n",
       "  (sigmoid): Sigmoid()\n",
       ")"
      ]
     },
     "execution_count": 64,
     "metadata": {},
     "output_type": "execute_result"
    }
   ],
   "source": [
    "ConvNetBinaryClassification((200,100))"
   ]
  },
  {
   "cell_type": "code",
   "execution_count": 72,
   "id": "21b87e26",
   "metadata": {},
   "outputs": [],
   "source": [
    "class ConvNetBinaryClassification(nn.Module):\n",
    "    def __init__(self, input_shape):\n",
    "        super().__init__()\n",
    "        self.conv1 = nn.Conv2d(in_channels = 1, out_channels = 32, kernel_size = (3,3))\n",
    "        self.conv2 = nn.Conv2d(32, 64, 3)\n",
    "        self.conv3 = nn.Conv2d(64, 128, 3)\n",
    "        self.pool = nn.MaxPool2d(2, 2)\n",
    "        #self.input_width, self.input_height = input_shape\n",
    "        self.input_shape = input_shape\n",
    "        \n",
    "        self.fc1 = nn.Linear(np.prod(self.get_features_dim()), 100)\n",
    "        self.fc2 = nn.Linear(100, 1)\n",
    "        self.sigmoid = nn.Sigmoid()\n",
    "\n",
    "        \n",
    "    def features(self, x):\n",
    "        x = self.pool(F.relu(self.conv1(x)))\n",
    "        x = self.pool(F.relu(self.conv2(x)))\n",
    "        x = self.pool(F.relu(self.conv3(x)))\n",
    "        \n",
    "        return x\n",
    "    \n",
    "    def get_features_dim(self):\n",
    "        return self.features(torch.zeros(size=(1, 1, *self.input_shape))).shape\n",
    "    \n",
    "    def forward(self, x):\n",
    "        x = self.features(x)\n",
    "        x = torch.flatten(x, 1)\n",
    "        x = self.fc1(x)\n",
    "        x = self.fc2(x)\n",
    "        return self.sigmoid(x)"
   ]
  },
  {
   "cell_type": "code",
   "execution_count": 94,
   "id": "01b3b4ef",
   "metadata": {},
   "outputs": [],
   "source": [
    "class MLP(nn.Module):\n",
    "    def __init__(self, input_len, hidden_len):\n",
    "        super().__init__()\n",
    "        self.fc1 = nn.Linear(input_len, hidden_len)\n",
    "        self.fc2 = nn.Linear(hidden_len, hidden_len)\n",
    "        self.fc3 = nn.Linear(hidden_len, 10)\n",
    "        self.sigmoid = nn.Sigmoid()\n",
    "        \n",
    "    def forward(self, x):\n",
    "        x = x.float()\n",
    "        x = torch.flatten(x, 1)\n",
    "        x = F.relu(self.fc1(x))\n",
    "        x = F.relu(self.fc2(x))\n",
    "        x = F.relu(self.fc2(x))\n",
    "        x = self.fc3(x)\n",
    "        return self.sigmoid(x)"
   ]
  },
  {
   "cell_type": "code",
   "execution_count": 95,
   "id": "5182aea0",
   "metadata": {},
   "outputs": [
    {
     "data": {
      "text/plain": [
       "MLP(\n",
       "  (fc1): Linear(in_features=16, out_features=1, bias=True)\n",
       "  (fc2): Linear(in_features=1, out_features=1, bias=True)\n",
       "  (fc3): Linear(in_features=1, out_features=10, bias=True)\n",
       "  (sigmoid): Sigmoid()\n",
       ")"
      ]
     },
     "execution_count": 95,
     "metadata": {},
     "output_type": "execute_result"
    }
   ],
   "source": [
    "MLP(16,1)"
   ]
  },
  {
   "cell_type": "code",
   "execution_count": 73,
   "id": "00d9f958",
   "metadata": {},
   "outputs": [],
   "source": [
    "from torchmetrics import Accuracy\n",
    "from torch.nn import BCEWithLogitsLoss\n",
    "\n",
    "class Classifier(pl.LightningModule):\n",
    "    def __init__(self, model):\n",
    "        super().__init__()\n",
    "        self.model = model\n",
    "        self.loss = torch.nn.BCELoss()\n",
    "        self.acc = Accuracy()\n",
    "        \n",
    "    def forward(self, x):\n",
    "        return self.model(x)\n",
    "    \n",
    "    def configure_optimizers(self):\n",
    "        return SGD(self.parameters(), lr=1e-3)\n",
    "        \n",
    "    def training_step(self, train_batch, batch_idx):\n",
    "        x, y = train_batch\n",
    "        y_hat = self.model(x)\n",
    "        y = y.float().unsqueeze(1)\n",
    "        loss = self.loss(y_hat, y)\n",
    "        self.log('train_loss', loss)\n",
    "        self.log('train acc', self.acc(torch.round(y_hat), y.int()))\n",
    "        return loss\n",
    "\n",
    "#     def validation_step(self, val_batch, batch_idx):\n",
    "#         x, y = val_batch\n",
    "#         y_hat = self.model(x)\n",
    "#         y = y.float().unsqueeze(1)\n",
    "#         val_loss = self.loss(y_hat, y)\n",
    "#         self.log('val loss', val_loss)\n",
    "#         self.log('val acc', self.acc(torch.round(y_hat), y.int()))\n",
    "\n",
    "#         return val_loss\n",
    "    \n",
    "#     def test_step(self, batch, batch_idx):\n",
    "#         x, y = batch\n",
    "\n",
    "#         y_hat = self.model(x)\n",
    "#         y = y.float().unsqueeze(1)\n",
    "#         loss = self.loss(y_hat, y)\n",
    "#         output = dict({\n",
    "#                 'test_loss': loss,\n",
    "#             'test_acc': self.acc(torch.round(y_hat), y.int()),        })\n",
    "#         return output"
   ]
  },
  {
   "cell_type": "code",
   "execution_count": 5,
   "id": "6372e44f",
   "metadata": {
    "scrolled": true
   },
   "outputs": [
    {
     "name": "stderr",
     "output_type": "stream",
     "text": [
      "/home/johnny/.virtualenvs/jup/lib/python3.8/site-packages/pytorch_lightning/core/datamodule.py:175: LightningDeprecationWarning: DataModule property `dims` was deprecated in v1.5 and will be removed in v1.7.\n",
      "  rank_zero_deprecation(\"DataModule property `dims` was deprecated in v1.5 and will be removed in v1.7.\")\n",
      "GPU available: True, used: True\n",
      "TPU available: False, using: 0 TPU cores\n",
      "IPU available: False, using: 0 IPUs\n",
      "/home/johnny/.virtualenvs/jup/lib/python3.8/site-packages/pytorch_lightning/trainer/configuration_validator.py:116: UserWarning: You passed in a `val_dataloader` but have no `validation_step`. Skipping val loop.\n",
      "  rank_zero_warn(\"You passed in a `val_dataloader` but have no `validation_step`. Skipping val loop.\")\n",
      "LOCAL_RANK: 0 - CUDA_VISIBLE_DEVICES: [0]\n",
      "\n",
      "  | Name  | Type             | Params\n",
      "-------------------------------------------\n",
      "0 | model | ConvNet          | 358 K \n",
      "1 | loss  | CrossEntropyLoss | 0     \n",
      "2 | acc   | Accuracy         | 0     \n",
      "-------------------------------------------\n",
      "358 K     Trainable params\n",
      "0         Non-trainable params\n",
      "358 K     Total params\n",
      "1.434     Total estimated model params size (MB)\n",
      "/home/johnny/.virtualenvs/jup/lib/python3.8/site-packages/pytorch_lightning/trainer/data_loading.py:111: UserWarning: The dataloader, train_dataloader, does not have many workers which may be a bottleneck. Consider increasing the value of the `num_workers` argument` (try 16 which is the number of cpus on this machine) in the `DataLoader` init to improve performance.\n",
      "  rank_zero_warn(\n"
     ]
    },
    {
     "data": {
      "application/vnd.jupyter.widget-view+json": {
       "model_id": "91f270f8a1674e58b0447fea7a54c3ff",
       "version_major": 2,
       "version_minor": 0
      },
      "text/plain": [
       "Training: 0it [00:00, ?it/s]"
      ]
     },
     "metadata": {},
     "output_type": "display_data"
    },
    {
     "name": "stderr",
     "output_type": "stream",
     "text": [
      "train_loss│train acc\n",
      "────────────────────\n",
      "1.0567699670791626│0.5833333134651184\n",
      "train_loss│train acc\n",
      "────────────────────\n",
      "0.23889465630054474│0.9583333134651184\n",
      "train_loss│train acc\n",
      "────────────────────\n",
      "0.04274541512131691│0.9583333134651184\n",
      "train_loss│train acc\n",
      "────────────────────\n",
      "0.022321850061416626│1.0\n"
     ]
    }
   ],
   "source": [
    "from pl_bolts.callbacks import PrintTableMetricsCallback\n",
    "from pytorch_lightning.loggers import WandbLogger \n",
    "from pytorch_lightning.loggers import TensorBoardLogger\n",
    "from data_modules import MyDatasetOfImages\n",
    "logger = TensorBoardLogger(\"tb_logs\", name=\"my_model\")\n",
    "transform = transforms.Compose([\n",
    "    transforms.ToTensor(),\n",
    "#    transforms.Normalize([0,0,0], [1,1,1])\n",
    "#    transforms.Resize(100)\n",
    "])\n",
    "dm = MNISTDataModule()\n",
    "clf = Classifier(ConvNet())\n",
    "trainer = pl.Trainer(max_epochs=40,\n",
    "                     gpus=1, callbacks=[PrintTableMetricsCallback2(5)],\n",
    "                     logger=logger)\n",
    "trainer.fit(clf, dm)"
   ]
  },
  {
   "cell_type": "code",
   "execution_count": 13,
   "id": "c14b2323",
   "metadata": {},
   "outputs": [
    {
     "name": "stdout",
     "output_type": "stream",
     "text": [
      "tensor([5, 6, 8, 7, 7, 1, 1, 8, 6, 1, 7, 2, 6, 7, 7, 1, 5, 4, 9, 7, 5, 1, 3, 6,\n",
      "        2, 1, 2, 5, 7, 1, 9, 7])\n"
     ]
    }
   ],
   "source": [
    "iterable = iter(dm.train_dataloader())\n",
    "x, y = next(iterable)\n",
    "a = clf.model.features(x)\n",
    "print(y)"
   ]
  },
  {
   "cell_type": "code",
   "execution_count": 88,
   "id": "52d98f99",
   "metadata": {},
   "outputs": [
    {
     "data": {
      "image/png": "[encoded data removed]",
      "text/plain": [
       "<Figure size 576x576 with 16 Axes>"
      ]
     },
     "metadata": {
      "needs_background": "light"
     },
     "output_type": "display_data"
    }
   ],
   "source": [
    "plt.figure(figsize=(8, 8))\n",
    "for i in range(16):\n",
    "    ax = plt.subplot(4,4,i+1)\n",
    "    ax.imshow(a[0,i,:,:].detach().numpy())"
   ]
  },
  {
   "cell_type": "code",
   "execution_count": 87,
   "id": "273d4f9c",
   "metadata": {},
   "outputs": [
    {
     "data": {
      "text/plain": [
       "<matplotlib.image.AxesImage at 0x7fec32f59a30>"
      ]
     },
     "execution_count": 87,
     "metadata": {},
     "output_type": "execute_result"
    },
    {
     "data": {
      "image/png": "[encoded data removed]",
      "text/plain": [
       "<Figure size 432x288 with 1 Axes>"
      ]
     },
     "metadata": {
      "needs_background": "light"
     },
     "output_type": "display_data"
    }
   ],
   "source": [
    "plt.imshow(x[0,0,:,:], cmap='gray')"
   ]
  },
  {
   "cell_type": "code",
   "execution_count": 75,
   "id": "c705f8b1",
   "metadata": {},
   "outputs": [],
   "source": [
    "data2, targets2 = generate_data(10000, 2)"
   ]
  },
  {
   "cell_type": "code",
   "execution_count": 93,
   "id": "592ce840",
   "metadata": {},
   "outputs": [
    {
     "data": {
      "text/plain": [
       "<matplotlib.image.AxesImage at 0x7feb442e6910>"
      ]
     },
     "execution_count": 93,
     "metadata": {},
     "output_type": "execute_result"
    },
    {
     "data": {
      "image/png": "[encoded data removed]",
      "text/plain": [
       "<Figure size 432x288 with 1 Axes>"
      ]
     },
     "metadata": {
      "needs_background": "light"
     },
     "output_type": "display_data"
    }
   ],
   "source": [
    "plt.imshow(data2[0])"
   ]
  },
  {
   "cell_type": "code",
   "execution_count": 37,
   "id": "4b90e091",
   "metadata": {},
   "outputs": [
    {
     "data": {
      "text/plain": [
       "<matplotlib.image.AxesImage at 0x7febc0562fd0>"
      ]
     },
     "execution_count": 37,
     "metadata": {},
     "output_type": "execute_result"
    },
    {
     "data": {
      "image/png": "[encoded data removed]",
      "text/plain": [
       "<Figure size 432x288 with 1 Axes>"
      ]
     },
     "metadata": {
      "needs_background": "light"
     },
     "output_type": "display_data"
    }
   ],
   "source": [
    "plt.imshow(data2[0], cmap='gray')"
   ]
  },
  {
   "cell_type": "code",
   "execution_count": 76,
   "id": "d5b37eb0",
   "metadata": {},
   "outputs": [
    {
     "name": "stderr",
     "output_type": "stream",
     "text": [
      "GPU available: True, used: False\n",
      "TPU available: False, using: 0 TPU cores\n",
      "IPU available: False, using: 0 IPUs\n",
      "\n",
      "  | Name  | Type                        | Params\n",
      "------------------------------------------------------\n",
      "0 | model | ConvNetBinaryClassification | 144 K \n",
      "1 | loss  | BCELoss                     | 0     \n",
      "2 | acc   | Accuracy                    | 0     \n",
      "------------------------------------------------------\n",
      "144 K     Trainable params\n",
      "0         Non-trainable params\n",
      "144 K     Total params\n",
      "0.576     Total estimated model params size (MB)\n"
     ]
    },
    {
     "data": {
      "application/vnd.jupyter.widget-view+json": {
       "model_id": "ad576b8082e44514b516c64380c2cd5e",
       "version_major": 2,
       "version_minor": 0
      },
      "text/plain": [
       "Training: 0it [00:00, ?it/s]"
      ]
     },
     "metadata": {},
     "output_type": "display_data"
    },
    {
     "name": "stderr",
     "output_type": "stream",
     "text": [
      "train_loss│train acc\n",
      "────────────────────\n",
      "0.6989080905914307│0.4000000059604645\n",
      "train_loss│train acc\n",
      "────────────────────\n",
      "0.6795278787612915│0.6600000262260437\n",
      "train_loss│train acc\n",
      "────────────────────\n",
      "0.6086239218711853│0.8199999928474426\n",
      "train_loss│train acc\n",
      "────────────────────\n",
      "0.21339932084083557│0.9200000166893005\n",
      "train_loss│train acc\n",
      "────────────────────\n",
      "0.20001429319381714│0.9200000166893005\n"
     ]
    }
   ],
   "source": [
    "from pl_bolts.callbacks import PrintTableMetricsCallback\n",
    "from pytorch_lightning.loggers import WandbLogger \n",
    "from pytorch_lightning.loggers import TensorBoardLogger\n",
    "from data_modules import MyDatasetOfImages\n",
    "logger = TensorBoardLogger(\"tb_logs\", name=\"my_model\")\n",
    "transform = transforms.Compose([\n",
    "    transforms.ToTensor(),\n",
    "#    transforms.Normalize([0,0,0], [1,1,1])\n",
    "#    transforms.Resize(100)\n",
    "])\n",
    "\n",
    "dm2 = MyDataModule(data2, targets2, transform, 16, MyDatasetOfImages)\n",
    "clf2 = Classifier(ConvNetBinaryClassification((32,32)))\n",
    "trainer2 = pl.Trainer(max_epochs=200, \n",
    "                     callbacks=[PrintTableMetricsCallback2(20)],\n",
    "                     logger=logger)\n",
    "trainer2.fit(clf2, dm2)"
   ]
  },
  {
   "cell_type": "code",
   "execution_count": 77,
   "id": "ea42cb66",
   "metadata": {},
   "outputs": [],
   "source": [
    "features = clf2.model.features(next(iter(dm2.train_dataloader()))[0])"
   ]
  },
  {
   "cell_type": "code",
   "execution_count": 78,
   "id": "15a6e84b",
   "metadata": {},
   "outputs": [
    {
     "data": {
      "image/png": "[encoded data removed]",
      "text/plain": [
       "<Figure size 576x576 with 16 Axes>"
      ]
     },
     "metadata": {
      "needs_background": "light"
     },
     "output_type": "display_data"
    }
   ],
   "source": [
    "plt.figure(figsize=(8, 8))\n",
    "for i in range(16):\n",
    "    ax = plt.subplot(4,4,i+1)\n",
    "    ax.imshow(features[2,i,:,:].detach().numpy(), cmap='gray')"
   ]
  },
  {
   "cell_type": "code",
   "execution_count": 91,
   "id": "6ddb9d4f",
   "metadata": {},
   "outputs": [
    {
     "data": {
      "text/plain": [
       "<matplotlib.image.AxesImage at 0x7feb2b9288e0>"
      ]
     },
     "execution_count": 91,
     "metadata": {},
     "output_type": "execute_result"
    },
    {
     "data": {
      "image/png": "[encoded data removed]",
      "text/plain": [
       "<Figure size 432x288 with 1 Axes>"
      ]
     },
     "metadata": {
      "needs_background": "light"
     },
     "output_type": "display_data"
    }
   ],
   "source": [
    "plt.imshow(next(iter(dm2.train_dataloader()))[0][0][0], cmap='gray')"
   ]
  }
 ],
 "metadata": {
  "kernelspec": {
   "display_name": "Python 3 (ipykernel)",
   "language": "python",
   "name": "python3"
  },
  "language_info": {
   "codemirror_mode": {
    "name": "ipython",
    "version": 3
   },
   "file_extension": ".py",
   "mimetype": "text/x-python",
   "name": "python",
   "nbconvert_exporter": "python",
   "pygments_lexer": "ipython3",
   "version": "3.8.10"
  }
 },
 "nbformat": 4,
 "nbformat_minor": 5
}
